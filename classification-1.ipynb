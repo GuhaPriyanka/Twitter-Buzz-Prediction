{
 "cells": [
  {
   "cell_type": "markdown",
   "metadata": {},
   "source": [
    "### <font color='red'> Project 2 : Buzz Prediction on Twitter\n",
    "\n",
    "Project Description:\n",
    "- There are two different datasets for Regression and Classification tasks. Right-most column in both the datasets is a dependent variable i.e. buzz.\n",
    "- Data description files are also provided for both the datasets.\n",
    "- Deciding which dataset is for which task is part of the project.\n",
    "- Read data into Jupyter notebook, use pandas to import data into a data frame.\n",
    "- Preprocess data: Explore data, check for missing data and apply data scaling. Justify the type of scaling used.\n",
    "\n",
    "Regression Task:\n",
    "- Apply all the regression models you've learned so far. If your model has a scaling parameter(s) use Grid Search to find the best scaling parameter. Use plots and graphs to help you get a better glimpse of the results. \n",
    "- Then use cross-validation to find average training and testing score. \n",
    "- Your submission should have at least the following regression models: KNN regressor, linear regression, Ridge, Lasso, polynomial regression, SVM both simple and with kernels. \n",
    "- Finally, find the best regressor for this dataset and train your model on the entire dataset using the best parameters and predict buzz for the test_set.\n",
    "\n",
    "Classification Task:\n",
    "- Decide about a good evaluation strategy and justify your choice.\n",
    "- Find best parameters for the following classification models: KNN classification, Logistic Regression, Linear Support Vector Machine, Kernelized Support Vector Machine, Decision Tree. \n",
    "- Which model gives the best results?\n",
    "\n",
    "Deliverables:\n",
    "- Submit IPython notebook. Use markdown to provide inline comments for this project.\n",
    "- Rename notebook with your group number and submit only one notebook. Before submitting, make sure everything runs as expected. To check that, restart the kernel (in the menubar, select Kernel > Restart) and then run all cells (in the menubar, select Cell > Run All).\n",
    "- Visualization encouraged.\n",
    "\n",
    "Questions regarding the project:\n",
    "- We have created a discussion board under Projects folder on e-learning. Create threads over there and post your queries related to project there.\n",
    "- There is a high possibility that your classmate has also faced the same problem and knows the solution. So this is an effort to encourage collaborative learning, reducing mails for frequently asked queries and also making all the information available to everyone.\n",
    "- Please check existing threads for your query before creating a new one. It goes without saying that do not share your code or complete solutions there.\n",
    "- We will also answer queries there. We will not be answering any project related queries through the mail."
   ]
  },
  {
   "cell_type": "markdown",
   "metadata": {},
   "source": [
    "# <font color='blue'> Project 2 : Buzz Prediction on Twitter\n",
    "#### Classification task: Prediction of buzz value for Twitter-Absolute-Sigma-500.Data dataset. \n",
    "\n",
    "\n"
   ]
  },
  {
   "cell_type": "code",
   "execution_count": 1,
   "metadata": {
    "collapsed": true
   },
   "outputs": [],
   "source": [
    "import pandas as pd\n",
    "import numpy as np\n",
    "import csv\n",
    "import matplotlib.pyplot as plt\n",
    "%matplotlib inline\n",
    "from pandas.plotting import scatter_matrix\n",
    "from sklearn.preprocessing import MinMaxScaler\n",
    "import seaborn as sns; sns.set()\n",
    "from sklearn.model_selection import GridSearchCV\n",
    "from sklearn.neighbors import KNeighborsClassifier\n",
    "from sklearn.model_selection import train_test_split\n",
    "from sklearn.metrics import confusion_matrix\n",
    "from sklearn.metrics import roc_auc_score\n",
    "from sklearn.linear_model import LogisticRegression\n",
    "from sklearn.metrics import confusion_matrix\n",
    "from sklearn.svm import LinearSVC\n",
    "from sklearn.metrics import accuracy_score\n",
    "from sklearn.tree import DecisionTreeClassifier\n",
    "from sklearn.metrics import confusion_matrix\n",
    "from sklearn.externals.six import StringIO  \n",
    "from IPython.display import Image  \n",
    "from sklearn.tree import export_graphviz\n",
    "import pydotplus\n",
    "from sklearn.svm import SVC\n",
    "from sklearn.model_selection import cross_val_score\n",
    "from sklearn.metrics import precision_recall_curve\n",
    "from sklearn.metrics import f1_score\n",
    "from sklearn.dummy import DummyClassifier\n",
    "from sklearn.metrics import classification_report\n",
    "from sklearn.metrics import roc_curve"
   ]
  },
  {
   "cell_type": "markdown",
   "metadata": {
    "collapsed": true
   },
   "source": [
    "###### reading dataset"
   ]
  },
  {
   "cell_type": "code",
   "execution_count": 2,
   "metadata": {
    "collapsed": true
   },
   "outputs": [],
   "source": [
    " data=pd.read_csv(\"Twitter-Absolute-Sigma-500.data\",\n",
    "           skipinitialspace=True,header=None,names = [\"NCD_0\",\"NCD_1\",\"NCD_2\",\"NCD_3\",\"NCD_4\",\"NCD_5\",\"NCD_6\",\"AI_0\",\"AI_1\",\"AI_2\",\"AI_3\",\"AI_4\",\"AI_5\",\"AI_6\",\"AS(NA)_0\",\"AS(NA)_1\",\"AS(NA)_2\",\"AS(NA)_3\",\"AS(NA)_4\",\"AS(NA)_5\",\"AS(NA)_6\",\"BL_0\",\"BL_1\",\"BL_2\",\"BL_3\",\"BL_4\",\"BL_5\",\"BL_6\",\"NAC_0\",\"NAC_1\",\"NAC_2\",\"NAC_3\",\"NAC_4\",\"NAC_5\",\"NAC_6\",\"AS(NAC)_0\",\"AS(NAC)_1\",\"AS(NAC)_2\",\"AS(NAC)_3\",\"AS(NAC)_4\",\"AS(NAC)_5\",\"AS(NAC)_6\",\"CS_0\",\"CS_1\",\"CS_2\",\"CS_3\",\"CS_4\",\"CS_5\",\"CS_6\",\"AT_0\",\"AT_1\",\"AT_2\",\"AT_3\",\"AT_4\",\"AT_5\",\"AT_6\",\"NA_0\",\"NA_1\",\"NA_2\",\"NA_3\",\"NA_4\",\"NA_5\",\"NA_6\",\"ADL_0\",\"ADL_1\",\"ADL_2\",\"ADL_3\",\"ADL_4\",\"ADL_5\",\"ADL_6\",\"NAD_0\",\"NAD_1\",\"NAD_2\",\"NAD_3\",\"NAD_4\",\"NAD_5\",\"NAD_6\",\"BUZZ\"])"
   ]
  },
  {
   "cell_type": "code",
   "execution_count": 3,
   "metadata": {},
   "outputs": [
    {
     "data": {
      "text/plain": [
       "(140707, 78)"
      ]
     },
     "execution_count": 3,
     "metadata": {},
     "output_type": "execute_result"
    }
   ],
   "source": [
    "data.shape"
   ]
  },
  {
   "cell_type": "code",
   "execution_count": 4,
   "metadata": {},
   "outputs": [
    {
     "name": "stdout",
     "output_type": "stream",
     "text": [
      "<class 'pandas.core.frame.DataFrame'>\n",
      "RangeIndex: 140707 entries, 0 to 140706\n",
      "Data columns (total 78 columns):\n",
      "NCD_0        140707 non-null int64\n",
      "NCD_1        140707 non-null int64\n",
      "NCD_2        140707 non-null int64\n",
      "NCD_3        140707 non-null int64\n",
      "NCD_4        140707 non-null int64\n",
      "NCD_5        140707 non-null int64\n",
      "NCD_6        140707 non-null int64\n",
      "AI_0         140707 non-null int64\n",
      "AI_1         140707 non-null int64\n",
      "AI_2         140707 non-null int64\n",
      "AI_3         140707 non-null int64\n",
      "AI_4         140707 non-null int64\n",
      "AI_5         140707 non-null int64\n",
      "AI_6         140707 non-null int64\n",
      "AS(NA)_0     140707 non-null float64\n",
      "AS(NA)_1     140707 non-null float64\n",
      "AS(NA)_2     140707 non-null float64\n",
      "AS(NA)_3     140707 non-null float64\n",
      "AS(NA)_4     140707 non-null float64\n",
      "AS(NA)_5     140707 non-null float64\n",
      "AS(NA)_6     140707 non-null float64\n",
      "BL_0         140707 non-null float64\n",
      "BL_1         140707 non-null float64\n",
      "BL_2         140707 non-null float64\n",
      "BL_3         140707 non-null float64\n",
      "BL_4         140707 non-null float64\n",
      "BL_5         140707 non-null float64\n",
      "BL_6         140707 non-null float64\n",
      "NAC_0        140707 non-null int64\n",
      "NAC_1        140707 non-null int64\n",
      "NAC_2        140707 non-null int64\n",
      "NAC_3        140707 non-null int64\n",
      "NAC_4        140707 non-null int64\n",
      "NAC_5        140707 non-null int64\n",
      "NAC_6        140707 non-null int64\n",
      "AS(NAC)_0    140707 non-null float64\n",
      "AS(NAC)_1    140707 non-null float64\n",
      "AS(NAC)_2    140707 non-null float64\n",
      "AS(NAC)_3    140707 non-null float64\n",
      "AS(NAC)_4    140707 non-null float64\n",
      "AS(NAC)_5    140707 non-null float64\n",
      "AS(NAC)_6    140707 non-null float64\n",
      "CS_0         140707 non-null float64\n",
      "CS_1         140707 non-null float64\n",
      "CS_2         140707 non-null float64\n",
      "CS_3         140707 non-null float64\n",
      "CS_4         140707 non-null float64\n",
      "CS_5         140707 non-null float64\n",
      "CS_6         140707 non-null float64\n",
      "AT_0         140707 non-null float64\n",
      "AT_1         140707 non-null float64\n",
      "AT_2         140707 non-null float64\n",
      "AT_3         140707 non-null float64\n",
      "AT_4         140707 non-null float64\n",
      "AT_5         140707 non-null float64\n",
      "AT_6         140707 non-null float64\n",
      "NA_0         140707 non-null int64\n",
      "NA_1         140707 non-null int64\n",
      "NA_2         140707 non-null int64\n",
      "NA_3         140707 non-null int64\n",
      "NA_4         140707 non-null int64\n",
      "NA_5         140707 non-null int64\n",
      "NA_6         140707 non-null int64\n",
      "ADL_0        140707 non-null float64\n",
      "ADL_1        140707 non-null float64\n",
      "ADL_2        140707 non-null float64\n",
      "ADL_3        140707 non-null float64\n",
      "ADL_4        140707 non-null float64\n",
      "ADL_5        140707 non-null float64\n",
      "ADL_6        140707 non-null float64\n",
      "NAD_0        140707 non-null int64\n",
      "NAD_1        140707 non-null int64\n",
      "NAD_2        140707 non-null int64\n",
      "NAD_3        140707 non-null int64\n",
      "NAD_4        140707 non-null int64\n",
      "NAD_5        140707 non-null int64\n",
      "NAD_6        140707 non-null int64\n",
      "BUZZ         140707 non-null float64\n",
      "dtypes: float64(43), int64(35)\n",
      "memory usage: 83.7 MB\n"
     ]
    }
   ],
   "source": [
    "data.info()"
   ]
  },
  {
   "cell_type": "code",
   "execution_count": 5,
   "metadata": {
    "scrolled": false
   },
   "outputs": [
    {
     "data": {
      "text/html": [
       "<div>\n",
       "<style scoped>\n",
       "    .dataframe tbody tr th:only-of-type {\n",
       "        vertical-align: middle;\n",
       "    }\n",
       "\n",
       "    .dataframe tbody tr th {\n",
       "        vertical-align: top;\n",
       "    }\n",
       "\n",
       "    .dataframe thead th {\n",
       "        text-align: right;\n",
       "    }\n",
       "</style>\n",
       "<table border=\"1\" class=\"dataframe\">\n",
       "  <thead>\n",
       "    <tr style=\"text-align: right;\">\n",
       "      <th></th>\n",
       "      <th>NCD_0</th>\n",
       "      <th>NCD_1</th>\n",
       "      <th>NCD_2</th>\n",
       "      <th>NCD_3</th>\n",
       "      <th>NCD_4</th>\n",
       "      <th>NCD_5</th>\n",
       "      <th>NCD_6</th>\n",
       "      <th>AI_0</th>\n",
       "      <th>AI_1</th>\n",
       "      <th>AI_2</th>\n",
       "      <th>...</th>\n",
       "      <th>ADL_5</th>\n",
       "      <th>ADL_6</th>\n",
       "      <th>NAD_0</th>\n",
       "      <th>NAD_1</th>\n",
       "      <th>NAD_2</th>\n",
       "      <th>NAD_3</th>\n",
       "      <th>NAD_4</th>\n",
       "      <th>NAD_5</th>\n",
       "      <th>NAD_6</th>\n",
       "      <th>BUZZ</th>\n",
       "    </tr>\n",
       "  </thead>\n",
       "  <tbody>\n",
       "    <tr>\n",
       "      <th>0</th>\n",
       "      <td>889</td>\n",
       "      <td>939</td>\n",
       "      <td>960</td>\n",
       "      <td>805</td>\n",
       "      <td>805</td>\n",
       "      <td>1143</td>\n",
       "      <td>1121</td>\n",
       "      <td>549</td>\n",
       "      <td>613</td>\n",
       "      <td>587</td>\n",
       "      <td>...</td>\n",
       "      <td>1.0</td>\n",
       "      <td>1.0</td>\n",
       "      <td>889</td>\n",
       "      <td>939</td>\n",
       "      <td>960</td>\n",
       "      <td>805</td>\n",
       "      <td>805</td>\n",
       "      <td>1143</td>\n",
       "      <td>1121</td>\n",
       "      <td>1.0</td>\n",
       "    </tr>\n",
       "    <tr>\n",
       "      <th>1</th>\n",
       "      <td>542</td>\n",
       "      <td>473</td>\n",
       "      <td>504</td>\n",
       "      <td>626</td>\n",
       "      <td>647</td>\n",
       "      <td>795</td>\n",
       "      <td>832</td>\n",
       "      <td>366</td>\n",
       "      <td>288</td>\n",
       "      <td>318</td>\n",
       "      <td>...</td>\n",
       "      <td>1.0</td>\n",
       "      <td>1.0</td>\n",
       "      <td>542</td>\n",
       "      <td>473</td>\n",
       "      <td>504</td>\n",
       "      <td>626</td>\n",
       "      <td>647</td>\n",
       "      <td>795</td>\n",
       "      <td>832</td>\n",
       "      <td>1.0</td>\n",
       "    </tr>\n",
       "    <tr>\n",
       "      <th>2</th>\n",
       "      <td>92</td>\n",
       "      <td>99</td>\n",
       "      <td>196</td>\n",
       "      <td>100</td>\n",
       "      <td>184</td>\n",
       "      <td>79</td>\n",
       "      <td>162</td>\n",
       "      <td>66</td>\n",
       "      <td>59</td>\n",
       "      <td>118</td>\n",
       "      <td>...</td>\n",
       "      <td>1.0</td>\n",
       "      <td>1.0</td>\n",
       "      <td>92</td>\n",
       "      <td>99</td>\n",
       "      <td>196</td>\n",
       "      <td>100</td>\n",
       "      <td>184</td>\n",
       "      <td>79</td>\n",
       "      <td>162</td>\n",
       "      <td>0.0</td>\n",
       "    </tr>\n",
       "    <tr>\n",
       "      <th>3</th>\n",
       "      <td>90</td>\n",
       "      <td>87</td>\n",
       "      <td>92</td>\n",
       "      <td>344</td>\n",
       "      <td>184</td>\n",
       "      <td>848</td>\n",
       "      <td>184</td>\n",
       "      <td>83</td>\n",
       "      <td>78</td>\n",
       "      <td>76</td>\n",
       "      <td>...</td>\n",
       "      <td>1.0</td>\n",
       "      <td>1.0</td>\n",
       "      <td>90</td>\n",
       "      <td>87</td>\n",
       "      <td>92</td>\n",
       "      <td>344</td>\n",
       "      <td>184</td>\n",
       "      <td>848</td>\n",
       "      <td>184</td>\n",
       "      <td>1.0</td>\n",
       "    </tr>\n",
       "    <tr>\n",
       "      <th>4</th>\n",
       "      <td>169</td>\n",
       "      <td>98</td>\n",
       "      <td>101</td>\n",
       "      <td>90</td>\n",
       "      <td>96</td>\n",
       "      <td>95</td>\n",
       "      <td>185</td>\n",
       "      <td>141</td>\n",
       "      <td>68</td>\n",
       "      <td>85</td>\n",
       "      <td>...</td>\n",
       "      <td>1.0</td>\n",
       "      <td>1.0</td>\n",
       "      <td>169</td>\n",
       "      <td>98</td>\n",
       "      <td>101</td>\n",
       "      <td>90</td>\n",
       "      <td>96</td>\n",
       "      <td>95</td>\n",
       "      <td>185</td>\n",
       "      <td>1.0</td>\n",
       "    </tr>\n",
       "  </tbody>\n",
       "</table>\n",
       "<p>5 rows × 78 columns</p>\n",
       "</div>"
      ],
      "text/plain": [
       "   NCD_0  NCD_1  NCD_2  NCD_3  NCD_4  NCD_5  NCD_6  AI_0  AI_1  AI_2  ...   \\\n",
       "0    889    939    960    805    805   1143   1121   549   613   587  ...    \n",
       "1    542    473    504    626    647    795    832   366   288   318  ...    \n",
       "2     92     99    196    100    184     79    162    66    59   118  ...    \n",
       "3     90     87     92    344    184    848    184    83    78    76  ...    \n",
       "4    169     98    101     90     96     95    185   141    68    85  ...    \n",
       "\n",
       "   ADL_5  ADL_6  NAD_0  NAD_1  NAD_2  NAD_3  NAD_4  NAD_5  NAD_6  BUZZ  \n",
       "0    1.0    1.0    889    939    960    805    805   1143   1121   1.0  \n",
       "1    1.0    1.0    542    473    504    626    647    795    832   1.0  \n",
       "2    1.0    1.0     92     99    196    100    184     79    162   0.0  \n",
       "3    1.0    1.0     90     87     92    344    184    848    184   1.0  \n",
       "4    1.0    1.0    169     98    101     90     96     95    185   1.0  \n",
       "\n",
       "[5 rows x 78 columns]"
      ]
     },
     "execution_count": 5,
     "metadata": {},
     "output_type": "execute_result"
    }
   ],
   "source": [
    "data.head()"
   ]
  },
  {
   "cell_type": "code",
   "execution_count": 6,
   "metadata": {},
   "outputs": [
    {
     "data": {
      "text/plain": [
       "BUZZ         0\n",
       "NAC_0        0\n",
       "BL_0         0\n",
       "BL_1         0\n",
       "BL_2         0\n",
       "BL_3         0\n",
       "BL_4         0\n",
       "BL_5         0\n",
       "BL_6         0\n",
       "NAC_1        0\n",
       "AS(NA)_5     0\n",
       "NAC_2        0\n",
       "NAC_3        0\n",
       "NAC_4        0\n",
       "NAC_5        0\n",
       "NAC_6        0\n",
       "AS(NAC)_0    0\n",
       "AS(NAC)_1    0\n",
       "AS(NA)_6     0\n",
       "AS(NA)_4     0\n",
       "NAD_6        0\n",
       "AI_1         0\n",
       "NCD_1        0\n",
       "NCD_2        0\n",
       "NCD_3        0\n",
       "NCD_4        0\n",
       "NCD_5        0\n",
       "NCD_6        0\n",
       "AI_0         0\n",
       "AI_2         0\n",
       "            ..\n",
       "ADL_3        0\n",
       "ADL_5        0\n",
       "AS(NAC)_5    0\n",
       "ADL_6        0\n",
       "NAD_0        0\n",
       "NAD_1        0\n",
       "NAD_2        0\n",
       "NAD_3        0\n",
       "NAD_4        0\n",
       "NAD_5        0\n",
       "NA_3         0\n",
       "NA_2         0\n",
       "NA_1         0\n",
       "NA_0         0\n",
       "AS(NAC)_6    0\n",
       "CS_0         0\n",
       "CS_1         0\n",
       "CS_2         0\n",
       "CS_3         0\n",
       "CS_4         0\n",
       "CS_5         0\n",
       "CS_6         0\n",
       "AT_0         0\n",
       "AT_1         0\n",
       "AT_2         0\n",
       "AT_3         0\n",
       "AT_4         0\n",
       "AT_5         0\n",
       "AT_6         0\n",
       "NCD_0        0\n",
       "Length: 78, dtype: int64"
      ]
     },
     "execution_count": 6,
     "metadata": {},
     "output_type": "execute_result"
    }
   ],
   "source": [
    "data.isnull().sum().sort_values(ascending=False)"
   ]
  },
  {
   "cell_type": "markdown",
   "metadata": {},
   "source": [
    "###### splitting into feature set and classifier"
   ]
  },
  {
   "cell_type": "code",
   "execution_count": 5,
   "metadata": {
    "collapsed": true
   },
   "outputs": [],
   "source": [
    "y=data['BUZZ']\n",
    "X=data[[\"NCD_0\",\"NCD_1\",\"NCD_2\",\"NCD_3\",\"NCD_4\",\"NCD_5\",\"NCD_6\",\"AI_0\",\"AI_1\",\"AI_2\",\"AI_3\",\"AI_4\",\"AI_5\",\"AI_6\",\"AS(NA)_0\",\"AS(NA)_1\",\"AS(NA)_2\",\"AS(NA)_3\",\"AS(NA)_4\",\"AS(NA)_5\",\"AS(NA)_6\",\"BL_0\",\"BL_1\",\"BL_2\",\"BL_3\",\"BL_4\",\"BL_5\",\"BL_6\",\"NAC_0\",\"NAC_1\",\"NAC_2\",\"NAC_3\",\"NAC_4\",\"NAC_5\",\"NAC_6\",\"AS(NAC)_0\",\"AS(NAC)_1\",\"AS(NAC)_2\",\"AS(NAC)_3\",\"AS(NAC)_4\",\"AS(NAC)_5\",\"AS(NAC)_6\",\"CS_0\",\"CS_1\",\"CS_2\",\"CS_3\",\"CS_4\",\"CS_5\",\"CS_6\",\"AT_0\",\"AT_1\",\"AT_2\",\"AT_3\",\"AT_4\",\"AT_5\",\"AT_6\",\"NA_0\",\"NA_1\",\"NA_2\",\"NA_3\",\"NA_4\",\"NA_5\",\"NA_6\",\"ADL_0\",\"ADL_1\",\"ADL_2\",\"ADL_3\",\"ADL_4\",\"ADL_5\",\"ADL_6\",\"NAD_0\",\"NAD_1\",\"NAD_2\",\"NAD_3\",\"NAD_4\",\"NAD_5\",\"NAD_6\"]]"
   ]
  },
  {
   "cell_type": "markdown",
   "metadata": {},
   "source": [
    "###### The below value shows that this dataset is bias. Which means accuracy may not a be good evaluation function. For the rest of this project we consider 'AUC' as a scoring function."
   ]
  },
  {
   "cell_type": "code",
   "execution_count": 6,
   "metadata": {},
   "outputs": [
    {
     "data": {
      "text/plain": [
       "0.19739600730596205"
      ]
     },
     "execution_count": 6,
     "metadata": {},
     "output_type": "execute_result"
    }
   ],
   "source": [
    "y.sum()/y.count()"
   ]
  },
  {
   "cell_type": "markdown",
   "metadata": {
    "collapsed": true
   },
   "source": [
    "###### splitting into test and training set. test-size=20%"
   ]
  },
  {
   "cell_type": "code",
   "execution_count": 12,
   "metadata": {
    "collapsed": true
   },
   "outputs": [],
   "source": [
    "X_train_org_full, X_test_org_full, y_train_full, y_test_full = train_test_split(X,y,test_size=.2,random_state=0)"
   ]
  },
  {
   "cell_type": "markdown",
   "metadata": {},
   "source": [
    "###### creating sample dataset"
   ]
  },
  {
   "cell_type": "code",
   "execution_count": 13,
   "metadata": {
    "collapsed": true
   },
   "outputs": [],
   "source": [
    "  _, sample_data, _, sample_target = train_test_split(X, y, shuffle = True, test_size = 0.1)"
   ]
  },
  {
   "cell_type": "code",
   "execution_count": 14,
   "metadata": {},
   "outputs": [
    {
     "data": {
      "text/plain": [
       "(14071, 77)"
      ]
     },
     "execution_count": 14,
     "metadata": {},
     "output_type": "execute_result"
    }
   ],
   "source": [
    "sample_data.shape"
   ]
  },
  {
   "cell_type": "code",
   "execution_count": 15,
   "metadata": {},
   "outputs": [
    {
     "data": {
      "text/plain": [
       "(14071,)"
      ]
     },
     "execution_count": 15,
     "metadata": {},
     "output_type": "execute_result"
    }
   ],
   "source": [
    "sample_target.shape"
   ]
  },
  {
   "cell_type": "code",
   "execution_count": 16,
   "metadata": {
    "collapsed": true
   },
   "outputs": [],
   "source": [
    "X_train_org, X_test_org, y_train, y_test = train_test_split(sample_data,sample_target,test_size=.2,random_state=0)"
   ]
  },
  {
   "cell_type": "markdown",
   "metadata": {},
   "source": [
    "###### StandardScaler removes the mean and scales the data to unit variance. This scaler cannot guarantee balanced feature scales in the presence of outliers. MinMaxScaler rescales the data set such that all feature values are in the range [0, 1]. The outliers have an influence when computing the empirical mean and standard deviation which shrink the range of the feature values. Therefore, we prefer using MinMaxScaler to preserve the effects of outliers."
   ]
  },
  {
   "cell_type": "code",
   "execution_count": 20,
   "metadata": {
    "collapsed": true
   },
   "outputs": [],
   "source": [
    "sc = MinMaxScaler()\n",
    "X_train = sc.fit_transform(X_train_org)\n",
    "X_test = sc.transform(X_test_org)"
   ]
  },
  {
   "cell_type": "code",
   "execution_count": 19,
   "metadata": {
    "collapsed": true
   },
   "outputs": [],
   "source": [
    "sc1 = MinMaxScaler()\n",
    "X_train_full = sc1.fit_transform(X_train_org_full)\n",
    "X_test_full = sc1.transform(X_test_org_full)"
   ]
  },
  {
   "cell_type": "markdown",
   "metadata": {},
   "source": [
    "###### using gridsearch to find best parameters for different classification models"
   ]
  },
  {
   "cell_type": "markdown",
   "metadata": {},
   "source": [
    "###### knn"
   ]
  },
  {
   "cell_type": "code",
   "execution_count": 21,
   "metadata": {
    "collapsed": true
   },
   "outputs": [],
   "source": [
    "param_grid_knn = {'n_neighbors': [3,7,12,18,20,25,30,35,40,45,50]}"
   ]
  },
  {
   "cell_type": "code",
   "execution_count": 22,
   "metadata": {
    "collapsed": true
   },
   "outputs": [],
   "source": [
    "grid_search_knn = GridSearchCV(KNeighborsClassifier(), param_grid_knn, cv=5, return_train_score=True,scoring='roc_auc')"
   ]
  },
  {
   "cell_type": "code",
   "execution_count": 23,
   "metadata": {},
   "outputs": [
    {
     "data": {
      "text/plain": [
       "GridSearchCV(cv=5, error_score='raise',\n",
       "       estimator=KNeighborsClassifier(algorithm='auto', leaf_size=30, metric='minkowski',\n",
       "           metric_params=None, n_jobs=1, n_neighbors=5, p=2,\n",
       "           weights='uniform'),\n",
       "       fit_params=None, iid=True, n_jobs=1,\n",
       "       param_grid={'n_neighbors': [3, 7, 12, 18, 20, 25, 30, 35, 40, 45, 50]},\n",
       "       pre_dispatch='2*n_jobs', refit=True, return_train_score=True,\n",
       "       scoring='roc_auc', verbose=0)"
      ]
     },
     "execution_count": 23,
     "metadata": {},
     "output_type": "execute_result"
    }
   ],
   "source": [
    "grid_search_knn.fit(X_train, y_train)"
   ]
  },
  {
   "cell_type": "code",
   "execution_count": 26,
   "metadata": {},
   "outputs": [
    {
     "name": "stdout",
     "output_type": "stream",
     "text": [
      "Best parameters: {'n_neighbors': 50}\n",
      "Best cross-validation score: 0.99\n"
     ]
    }
   ],
   "source": [
    "print(\"Best parameters: {}\".format(grid_search_knn.best_params_))\n",
    "print(\"Best cross-validation score: {:.2f}\".format(grid_search_knn.best_score_))"
   ]
  },
  {
   "cell_type": "code",
   "execution_count": 27,
   "metadata": {
    "collapsed": true,
    "scrolled": true
   },
   "outputs": [],
   "source": [
    "train_score_array = []\n",
    "test_score_array = []\n",
    "\n",
    "for k in range(1,50):\n",
    "    knn = KNeighborsClassifier(k)\n",
    "    knn.fit(X_train, y_train)\n",
    "    train_score_array.append(knn.score(X_train, y_train))\n",
    "    test_score_array.append(knn.score(X_test, y_test))\n",
    "    x_axis = range(1,50)"
   ]
  },
  {
   "cell_type": "code",
   "execution_count": 28,
   "metadata": {},
   "outputs": [
    {
     "data": {
      "text/plain": [
       "<matplotlib.legend.Legend at 0x554c0f0>"
      ]
     },
     "execution_count": 28,
     "metadata": {},
     "output_type": "execute_result"
    },
    {
     "data": {
      "image/png": "[encoded data removed]",
      "text/plain": [
       "<Figure size 432x288 with 1 Axes>"
      ]
     },
     "metadata": {},
     "output_type": "display_data"
    }
   ],
   "source": [
    "plt.plot(x_axis, train_score_array, label = 'Train Score', c = 'g')\n",
    "plt.plot(x_axis, test_score_array, label = 'Test Score', c='b')\n",
    "plt.xlabel('k')\n",
    "plt.ylabel('Accuracy')\n",
    "plt.legend()"
   ]
  },
  {
   "cell_type": "code",
   "execution_count": 29,
   "metadata": {
    "collapsed": true
   },
   "outputs": [],
   "source": [
    "y_knn_predict = grid_search_knn.predict(X_test)\n",
    "y_knn_train_predict = grid_search_knn.predict(X_train)"
   ]
  },
  {
   "cell_type": "code",
   "execution_count": 30,
   "metadata": {},
   "outputs": [
    {
     "data": {
      "image/png": "[encoded data removed]",
      "text/plain": [
       "<Figure size 360x360 with 2 Axes>"
      ]
     },
     "metadata": {},
     "output_type": "display_data"
    }
   ],
   "source": [
    "mat = confusion_matrix(y_test,y_knn_predict)\n",
    "plt.subplots(figsize = (5,5))\n",
    "sns.heatmap(mat, square=True, annot=True, cbar=True , cmap = 'Reds')\n",
    "plt.xlabel('predicted value')\n",
    "plt.ylabel('true value');"
   ]
  },
  {
   "cell_type": "code",
   "execution_count": 31,
   "metadata": {
    "scrolled": true
   },
   "outputs": [
    {
     "name": "stdout",
     "output_type": "stream",
     "text": [
      "Train roc_auc_score: 0.94\n",
      "Test roc_auc_score: 0.94 \n"
     ]
    }
   ],
   "source": [
    "print('Train roc_auc_score: %.2f'%roc_auc_score(y_knn_train_predict, y_train))\n",
    "print('Test roc_auc_score: %.2f '%roc_auc_score(y_knn_predict, y_test))"
   ]
  },
  {
   "cell_type": "code",
   "execution_count": 81,
   "metadata": {
    "collapsed": true
   },
   "outputs": [],
   "source": [
    "report_table = [['knn', 'k = 50', grid_search_knn.score(X_train, y_train), grid_search_knn.score(X_test, y_test), roc_auc_score(y_knn_train_predict, y_train), roc_auc_score(y_knn_predict, y_test), np.mean(grid_search_knn.cv_results_['mean_train_score']),np.mean(grid_search_knn.cv_results_['mean_test_score']) ]]"
   ]
  },
  {
   "cell_type": "markdown",
   "metadata": {
    "collapsed": true
   },
   "source": [
    "###### logistic regression"
   ]
  },
  {
   "cell_type": "code",
   "execution_count": 32,
   "metadata": {
    "collapsed": true
   },
   "outputs": [],
   "source": [
    "param_grid_logreg = {'C': [0.001, 0.01, 0.1, 1, 10, 100],'penalty': ['l1','l2']}"
   ]
  },
  {
   "cell_type": "code",
   "execution_count": 33,
   "metadata": {
    "collapsed": true
   },
   "outputs": [],
   "source": [
    "grid_search_logreg = GridSearchCV(LogisticRegression(), param_grid_logreg, cv=5, return_train_score=True, scoring='roc_auc')"
   ]
  },
  {
   "cell_type": "code",
   "execution_count": 34,
   "metadata": {},
   "outputs": [
    {
     "data": {
      "text/plain": [
       "GridSearchCV(cv=5, error_score='raise',\n",
       "       estimator=LogisticRegression(C=1.0, class_weight=None, dual=False, fit_intercept=True,\n",
       "          intercept_scaling=1, max_iter=100, multi_class='ovr', n_jobs=1,\n",
       "          penalty='l2', random_state=None, solver='liblinear', tol=0.0001,\n",
       "          verbose=0, warm_start=False),\n",
       "       fit_params=None, iid=True, n_jobs=1,\n",
       "       param_grid={'C': [0.001, 0.01, 0.1, 1, 10, 100], 'penalty': ['l1', 'l2']},\n",
       "       pre_dispatch='2*n_jobs', refit=True, return_train_score=True,\n",
       "       scoring='roc_auc', verbose=0)"
      ]
     },
     "execution_count": 34,
     "metadata": {},
     "output_type": "execute_result"
    }
   ],
   "source": [
    "grid_search_logreg.fit(X_train, y_train)"
   ]
  },
  {
   "cell_type": "code",
   "execution_count": 35,
   "metadata": {},
   "outputs": [
    {
     "name": "stdout",
     "output_type": "stream",
     "text": [
      "Best parameters: {'C': 10, 'penalty': 'l1'}\n",
      "Best cross-validation score: 0.99\n"
     ]
    }
   ],
   "source": [
    "print(\"Best parameters: {}\".format(grid_search_logreg.best_params_))\n",
    "print(\"Best cross-validation score: {:.2f}\".format(grid_search_logreg.best_score_))"
   ]
  },
  {
   "cell_type": "code",
   "execution_count": 36,
   "metadata": {
    "collapsed": true
   },
   "outputs": [],
   "source": [
    "c_range = [0.001, 0.01, 0.1, 1, 10, 100, 1000]\n",
    "train_score_l1 = []\n",
    "train_score_l2 = []\n",
    "test_score_l1 = []\n",
    "test_score_l2 = []\n",
    "\n",
    "for c in c_range:\n",
    "    log_l1 = LogisticRegression(penalty = 'l1', C = c)\n",
    "    log_l2 = LogisticRegression(penalty = 'l2', C = c)\n",
    "    log_l1.fit(X_train, y_train)\n",
    "    log_l2.fit(X_train, y_train)\n",
    "    train_score_l1.append(log_l1.score(X_train, y_train))\n",
    "    train_score_l2.append(log_l2.score(X_train, y_train))\n",
    "    test_score_l1.append(log_l1.score(X_test, y_test))\n",
    "    test_score_l2.append(log_l2.score(X_test, y_test))"
   ]
  },
  {
   "cell_type": "code",
   "execution_count": 37,
   "metadata": {
    "scrolled": true
   },
   "outputs": [
    {
     "data": {
      "image/png": "[encoded data removed]",
      "text/plain": [
       "<Figure size 432x288 with 1 Axes>"
      ]
     },
     "metadata": {},
     "output_type": "display_data"
    }
   ],
   "source": [
    "plt.plot(c_range, train_score_l1, label = 'Train score, penalty = l1')\n",
    "plt.plot(c_range, test_score_l1, label = 'Test score, penalty = l1')\n",
    "plt.plot(c_range, train_score_l2, label = 'Train score, penalty = l2')\n",
    "plt.plot(c_range, test_score_l2, label = 'Test score, penalty = l2')\n",
    "plt.legend()\n",
    "plt.xlabel('Regularization parameter: C')\n",
    "plt.ylabel('Accuracy')\n",
    "plt.xscale('log')"
   ]
  },
  {
   "cell_type": "code",
   "execution_count": 38,
   "metadata": {},
   "outputs": [
    {
     "name": "stdout",
     "output_type": "stream",
     "text": [
      "Train roc_auc_score: 0.95\n",
      "Test roc_auc_score: 0.96 \n"
     ]
    }
   ],
   "source": [
    "y_logreg_predict = grid_search_logreg.predict(X_test)\n",
    "y_logreg_train_predict = grid_search_logreg.predict(X_train)\n",
    "print('Train roc_auc_score: %.2f'%roc_auc_score(y_logreg_train_predict, y_train))\n",
    "print('Test roc_auc_score: %.2f '%roc_auc_score(y_logreg_predict, y_test))"
   ]
  },
  {
   "cell_type": "code",
   "execution_count": 39,
   "metadata": {},
   "outputs": [
    {
     "data": {
      "image/png": "[encoded data removed]",
      "text/plain": [
       "<Figure size 360x360 with 2 Axes>"
      ]
     },
     "metadata": {},
     "output_type": "display_data"
    }
   ],
   "source": [
    "mat = confusion_matrix(y_test, y_logreg_predict)\n",
    "plt.subplots(figsize = (5,5))\n",
    "sns.heatmap(mat, square=True, annot=True, cbar=True , cmap = 'Greens')\n",
    "plt.xlabel('predicted value')\n",
    "plt.ylabel('true value');"
   ]
  },
  {
   "cell_type": "code",
   "execution_count": 82,
   "metadata": {
    "collapsed": true
   },
   "outputs": [],
   "source": [
    "report_table = report_table + [['Logistic Regression', 'C = 10, penalty = l1', grid_search_logreg.score(X_train, y_train), grid_search_logreg.score(X_test, y_test), roc_auc_score(y_logreg_train_predict, y_train), roc_auc_score(y_logreg_predict, y_test),np.mean(grid_search_logreg.cv_results_['mean_train_score']),np.mean(grid_search_logreg.cv_results_['mean_test_score'])]]"
   ]
  },
  {
   "cell_type": "markdown",
   "metadata": {
    "collapsed": true
   },
   "source": [
    "###### decision tree"
   ]
  },
  {
   "cell_type": "code",
   "execution_count": 41,
   "metadata": {
    "collapsed": true
   },
   "outputs": [],
   "source": [
    "param_grid_dtree = {'criterion':['entropy','gini'],'max_depth': [3,5,8,15,20,25],'min_samples_split': [2,4,6,10],'min_samples_leaf':[2,4,6,10],'max_features':['auto','sqrt','log2'],'max_leaf_nodes': [5,10,15],\n",
    "                  'min_impurity_decrease':[0.01,0.04]}"
   ]
  },
  {
   "cell_type": "code",
   "execution_count": 42,
   "metadata": {
    "collapsed": true
   },
   "outputs": [],
   "source": [
    "grid_search_dtree = GridSearchCV(DecisionTreeClassifier(), param_grid_dtree, cv=5, return_train_score=True,scoring='roc_auc')"
   ]
  },
  {
   "cell_type": "code",
   "execution_count": 43,
   "metadata": {},
   "outputs": [
    {
     "data": {
      "text/plain": [
       "GridSearchCV(cv=5, error_score='raise',\n",
       "       estimator=DecisionTreeClassifier(class_weight=None, criterion='gini', max_depth=None,\n",
       "            max_features=None, max_leaf_nodes=None,\n",
       "            min_impurity_decrease=0.0, min_impurity_split=None,\n",
       "            min_samples_leaf=1, min_samples_split=2,\n",
       "            min_weight_fraction_leaf=0.0, presort=False, random_state=None,\n",
       "            splitter='best'),\n",
       "       fit_params=None, iid=True, n_jobs=1,\n",
       "       param_grid={'criterion': ['entropy', 'gini'], 'max_depth': [3, 5, 8, 15, 20, 25], 'min_samples_split': [2, 4, 6, 10], 'min_samples_leaf': [2, 4, 6, 10], 'max_features': ['auto', 'sqrt', 'log2'], 'max_leaf_nodes': [5, 10, 15], 'min_impurity_decrease': [0.01, 0.04]},\n",
       "       pre_dispatch='2*n_jobs', refit=True, return_train_score=True,\n",
       "       scoring='roc_auc', verbose=0)"
      ]
     },
     "execution_count": 43,
     "metadata": {},
     "output_type": "execute_result"
    }
   ],
   "source": [
    "grid_search_dtree.fit(X_train,y_train)"
   ]
  },
  {
   "cell_type": "code",
   "execution_count": 44,
   "metadata": {},
   "outputs": [
    {
     "name": "stdout",
     "output_type": "stream",
     "text": [
      "Best parameters: {'criterion': 'entropy', 'max_depth': 8, 'max_features': 'auto', 'max_leaf_nodes': 10, 'min_impurity_decrease': 0.01, 'min_samples_leaf': 2, 'min_samples_split': 4}\n",
      "Best cross-validation score: 0.98\n"
     ]
    }
   ],
   "source": [
    "print(\"Best parameters: {}\".format(grid_search_dtree.best_params_))\n",
    "print(\"Best cross-validation score: {:.2f}\".format(grid_search_dtree.best_score_))"
   ]
  },
  {
   "cell_type": "code",
   "execution_count": 45,
   "metadata": {},
   "outputs": [
    {
     "name": "stdout",
     "output_type": "stream",
     "text": [
      "Train roc_auc_score: 0.92\n",
      "Test roc_auc_score: 0.93 \n"
     ]
    }
   ],
   "source": [
    "y_dtree_predict = grid_search_dtree.predict(X_test)\n",
    "y_dtree_train_predict = grid_search_dtree.predict(X_train)\n",
    "print('Train roc_auc_score: %.2f'%roc_auc_score(y_dtree_train_predict, y_train))\n",
    "print('Test roc_auc_score: %.2f '%roc_auc_score(y_dtree_predict, y_test))"
   ]
  },
  {
   "cell_type": "code",
   "execution_count": 46,
   "metadata": {},
   "outputs": [
    {
     "data": {
      "image/png": "[encoded data removed]",
      "text/plain": [
       "<Figure size 360x360 with 2 Axes>"
      ]
     },
     "metadata": {},
     "output_type": "display_data"
    }
   ],
   "source": [
    "mat = confusion_matrix(y_test, y_dtree_predict)\n",
    "plt.subplots(figsize = (5,5))\n",
    "sns.heatmap(mat, square=True, annot=True, cbar=True , cmap = 'Blues')\n",
    "plt.xlabel('predicted value')\n",
    "plt.ylabel('true value');"
   ]
  },
  {
   "cell_type": "code",
   "execution_count": 83,
   "metadata": {
    "collapsed": true
   },
   "outputs": [],
   "source": [
    "report_table = report_table + [['Decision Tree', 'criterion= entropy, max_depth= 8, max_features= auto, max_leaf_nodes= 10, min_impurity_decrease= 0.01, min_samples_leaf= 2, min_samples_split= 4', grid_search_dtree.score(X_train, y_train), grid_search_dtree.score(X_test, y_test), roc_auc_score(y_dtree_train_predict, y_train), roc_auc_score(y_dtree_predict, y_test),np.mean(grid_search_dtree.cv_results_['mean_train_score']),np.mean(grid_search_dtree.cv_results_['mean_test_score'])]]"
   ]
  },
  {
   "cell_type": "markdown",
   "metadata": {
    "collapsed": true
   },
   "source": [
    "###### linear svc"
   ]
  },
  {
   "cell_type": "code",
   "execution_count": 47,
   "metadata": {
    "collapsed": true
   },
   "outputs": [],
   "source": [
    "param_grid_lsvc = {'C': [0.001, 0.01, 0.1, 1, 10, 100],  \n",
    "              'loss': ['hinge','squared_hinge'],\n",
    "              'max_iter': [10,100,1000,10000]}"
   ]
  },
  {
   "cell_type": "code",
   "execution_count": 48,
   "metadata": {
    "collapsed": true
   },
   "outputs": [],
   "source": [
    "grid_search_lsvc = GridSearchCV(LinearSVC(), param_grid_lsvc, cv=5, return_train_score=True,scoring='roc_auc')"
   ]
  },
  {
   "cell_type": "code",
   "execution_count": 49,
   "metadata": {},
   "outputs": [
    {
     "data": {
      "text/plain": [
       "GridSearchCV(cv=5, error_score='raise',\n",
       "       estimator=LinearSVC(C=1.0, class_weight=None, dual=True, fit_intercept=True,\n",
       "     intercept_scaling=1, loss='squared_hinge', max_iter=1000,\n",
       "     multi_class='ovr', penalty='l2', random_state=None, tol=0.0001,\n",
       "     verbose=0),\n",
       "       fit_params=None, iid=True, n_jobs=1,\n",
       "       param_grid={'C': [0.001, 0.01, 0.1, 1, 10, 100], 'loss': ['hinge', 'squared_hinge'], 'max_iter': [10, 100, 1000, 10000]},\n",
       "       pre_dispatch='2*n_jobs', refit=True, return_train_score=True,\n",
       "       scoring='roc_auc', verbose=0)"
      ]
     },
     "execution_count": 49,
     "metadata": {},
     "output_type": "execute_result"
    }
   ],
   "source": [
    "grid_search_lsvc.fit(X_train,y_train)"
   ]
  },
  {
   "cell_type": "code",
   "execution_count": 50,
   "metadata": {},
   "outputs": [
    {
     "name": "stdout",
     "output_type": "stream",
     "text": [
      "Best parameters: {'C': 10, 'loss': 'squared_hinge', 'max_iter': 100}\n",
      "Best cross-validation score: 0.99\n"
     ]
    }
   ],
   "source": [
    "print(\"Best parameters: {}\".format(grid_search_lsvc.best_params_))\n",
    "print(\"Best cross-validation score: {:.2f}\".format(grid_search_lsvc.best_score_))"
   ]
  },
  {
   "cell_type": "code",
   "execution_count": 51,
   "metadata": {},
   "outputs": [
    {
     "name": "stdout",
     "output_type": "stream",
     "text": [
      "Train roc_auc_score: 0.96\n",
      "Test roc_auc_score: 0.97 \n"
     ]
    }
   ],
   "source": [
    "y_svc_lin_predict_train = grid_search_lsvc.predict(X_train)\n",
    "y_svc_lin_predict = grid_search_lsvc.predict(X_test)\n",
    "print('Train roc_auc_score: %.2f'%roc_auc_score(y_svc_lin_predict_train, y_train))\n",
    "print('Test roc_auc_score: %.2f '%roc_auc_score(y_svc_lin_predict, y_test))"
   ]
  },
  {
   "cell_type": "code",
   "execution_count": 55,
   "metadata": {},
   "outputs": [
    {
     "data": {
      "image/png": "[encoded data removed]",
      "text/plain": [
       "<Figure size 360x360 with 2 Axes>"
      ]
     },
     "metadata": {},
     "output_type": "display_data"
    }
   ],
   "source": [
    "mat = confusion_matrix(y_test, y_svc_lin_predict)\n",
    "plt.subplots(figsize = (5,5))\n",
    "sns.heatmap(mat, square=True, annot=True, cbar=True , cmap = 'Blues')\n",
    "plt.xlabel('predicted value')\n",
    "plt.ylabel('true value');"
   ]
  },
  {
   "cell_type": "code",
   "execution_count": 84,
   "metadata": {
    "collapsed": true
   },
   "outputs": [],
   "source": [
    "report_table = report_table + [['LinearSVC', 'C = 10, loss = squared_hinge, max_iter = 100', grid_search_lsvc.score(X_train, y_train), grid_search_lsvc.score(X_test, y_test), roc_auc_score(y_svc_lin_predict_train, y_train), roc_auc_score(y_svc_lin_predict, y_test),np.mean(grid_search_lsvc.cv_results_['mean_train_score']),np.mean(grid_search_lsvc.cv_results_['mean_test_score'])]]"
   ]
  },
  {
   "cell_type": "markdown",
   "metadata": {
    "collapsed": true
   },
   "source": [
    "###### kernel svc"
   ]
  },
  {
   "cell_type": "code",
   "execution_count": 56,
   "metadata": {
    "collapsed": true
   },
   "outputs": [],
   "source": [
    "param_grid_svc = {'C': [0.001, 0.01, 0.1, 1, 10, 100],\n",
    "              'gamma': [0.001, 0.01, 0.1, 1, 10, 100]}"
   ]
  },
  {
   "cell_type": "code",
   "execution_count": 57,
   "metadata": {
    "collapsed": true
   },
   "outputs": [],
   "source": [
    "grid_search_svc = GridSearchCV(SVC(), param_grid_svc, cv=5, return_train_score=True,scoring='roc_auc')"
   ]
  },
  {
   "cell_type": "code",
   "execution_count": 58,
   "metadata": {},
   "outputs": [
    {
     "data": {
      "text/plain": [
       "GridSearchCV(cv=5, error_score='raise',\n",
       "       estimator=SVC(C=1.0, cache_size=200, class_weight=None, coef0=0.0,\n",
       "  decision_function_shape='ovr', degree=3, gamma='auto', kernel='rbf',\n",
       "  max_iter=-1, probability=False, random_state=None, shrinking=True,\n",
       "  tol=0.001, verbose=False),\n",
       "       fit_params=None, iid=True, n_jobs=1,\n",
       "       param_grid={'C': [0.001, 0.01, 0.1, 1, 10, 100], 'gamma': [0.001, 0.01, 0.1, 1, 10, 100]},\n",
       "       pre_dispatch='2*n_jobs', refit=True, return_train_score=True,\n",
       "       scoring='roc_auc', verbose=0)"
      ]
     },
     "execution_count": 58,
     "metadata": {},
     "output_type": "execute_result"
    }
   ],
   "source": [
    "grid_search_svc.fit(X_train,y_train)"
   ]
  },
  {
   "cell_type": "code",
   "execution_count": 61,
   "metadata": {},
   "outputs": [
    {
     "name": "stdout",
     "output_type": "stream",
     "text": [
      "Best parameters: {'C': 100, 'gamma': 0.1}\n",
      "Best cross-validation score: 0.99\n"
     ]
    }
   ],
   "source": [
    "print(\"Best parameters: {}\".format(grid_search_svc.best_params_))\n",
    "print(\"Best cross-validation score: {:.2f}\".format(grid_search_svc.best_score_))"
   ]
  },
  {
   "cell_type": "code",
   "execution_count": 62,
   "metadata": {},
   "outputs": [
    {
     "name": "stdout",
     "output_type": "stream",
     "text": [
      "Train roc_auc_score: 0.95\n",
      "Test roc_auc_score: 0.95 \n"
     ]
    }
   ],
   "source": [
    "y_grid_search_svc_train = grid_search_svc.predict(X_train)\n",
    "y_grid_search_svc = grid_search_svc.predict(X_test)\n",
    "print('Train roc_auc_score: %.2f'%roc_auc_score(y_grid_search_svc_train, y_train))\n",
    "print('Test roc_auc_score: %.2f '%roc_auc_score(y_grid_search_svc, y_test))"
   ]
  },
  {
   "cell_type": "code",
   "execution_count": 65,
   "metadata": {},
   "outputs": [
    {
     "data": {
      "image/png": "[encoded data removed]",
      "text/plain": [
       "<Figure size 360x360 with 2 Axes>"
      ]
     },
     "metadata": {},
     "output_type": "display_data"
    }
   ],
   "source": [
    "mat = confusion_matrix(y_test, y_grid_search_svc)\n",
    "plt.subplots(figsize = (5,5))\n",
    "sns.heatmap(mat, square=True, annot=True, cbar=True , cmap = 'Reds')\n",
    "plt.xlabel('predicted value')\n",
    "plt.ylabel('true value');"
   ]
  },
  {
   "cell_type": "code",
   "execution_count": 87,
   "metadata": {
    "collapsed": true
   },
   "outputs": [],
   "source": [
    "report_table = report_table + [['SVC', 'C = 100 , gamma = 0.1', grid_search_svc.score(X_train, y_train), grid_search_svc.score(X_test, y_test), roc_auc_score(y_grid_search_svc_train, y_train), roc_auc_score(y_grid_search_svc, y_test),np.mean(grid_search_svc.cv_results_['mean_train_score']),np.mean(grid_search_svc.cv_results_['mean_test_score'])]]"
   ]
  },
  {
   "cell_type": "code",
   "execution_count": 89,
   "metadata": {
    "collapsed": true
   },
   "outputs": [],
   "source": [
    "report = pd.DataFrame(report_table,columns = ['Model name', 'Model parameter', 'Train accuracy', 'Test accuracy', 'Train auc score', 'Test auc score','Mean train score','Mean test score'])"
   ]
  },
  {
   "cell_type": "code",
   "execution_count": 90,
   "metadata": {
    "collapsed": true
   },
   "outputs": [],
   "source": [
    "report=report.set_index('Model name')"
   ]
  },
  {
   "cell_type": "markdown",
   "metadata": {},
   "source": [
    "###### The below report table displays the best parameters for different classification models along with their accuracy and roc_auc scores for both train and test datasets. Since this is a biased dataset, we are considering the roc_auc scores to evaluate the best model."
   ]
  },
  {
   "cell_type": "code",
   "execution_count": 91,
   "metadata": {
    "scrolled": false
   },
   "outputs": [
    {
     "data": {
      "text/html": [
       "<div>\n",
       "<style scoped>\n",
       "    .dataframe tbody tr th:only-of-type {\n",
       "        vertical-align: middle;\n",
       "    }\n",
       "\n",
       "    .dataframe tbody tr th {\n",
       "        vertical-align: top;\n",
       "    }\n",
       "\n",
       "    .dataframe thead th {\n",
       "        text-align: right;\n",
       "    }\n",
       "</style>\n",
       "<table border=\"1\" class=\"dataframe\">\n",
       "  <thead>\n",
       "    <tr style=\"text-align: right;\">\n",
       "      <th></th>\n",
       "      <th>Model parameter</th>\n",
       "      <th>Train accuracy</th>\n",
       "      <th>Test accuracy</th>\n",
       "      <th>Train auc score</th>\n",
       "      <th>Test auc score</th>\n",
       "      <th>Mean train score</th>\n",
       "      <th>Mean test score</th>\n",
       "    </tr>\n",
       "    <tr>\n",
       "      <th>Model name</th>\n",
       "      <th></th>\n",
       "      <th></th>\n",
       "      <th></th>\n",
       "      <th></th>\n",
       "      <th></th>\n",
       "      <th></th>\n",
       "      <th></th>\n",
       "    </tr>\n",
       "  </thead>\n",
       "  <tbody>\n",
       "    <tr>\n",
       "      <th>knn</th>\n",
       "      <td>k = 50</td>\n",
       "      <td>0.989546</td>\n",
       "      <td>0.991798</td>\n",
       "      <td>0.943603</td>\n",
       "      <td>0.944273</td>\n",
       "      <td>0.991477</td>\n",
       "      <td>0.980134</td>\n",
       "    </tr>\n",
       "    <tr>\n",
       "      <th>Logistic Regression</th>\n",
       "      <td>C = 10, penalty = l1</td>\n",
       "      <td>0.990535</td>\n",
       "      <td>0.994111</td>\n",
       "      <td>0.954260</td>\n",
       "      <td>0.957525</td>\n",
       "      <td>0.927174</td>\n",
       "      <td>0.926798</td>\n",
       "    </tr>\n",
       "    <tr>\n",
       "      <th>Decision Tree</th>\n",
       "      <td>criterion= entropy, max_depth= 8, max_features...</td>\n",
       "      <td>0.978115</td>\n",
       "      <td>0.982129</td>\n",
       "      <td>0.923767</td>\n",
       "      <td>0.927881</td>\n",
       "      <td>0.951172</td>\n",
       "      <td>0.949037</td>\n",
       "    </tr>\n",
       "    <tr>\n",
       "      <th>LinearSVC</th>\n",
       "      <td>C = 10, loss = squared_hinge, max_iter = 100</td>\n",
       "      <td>0.989505</td>\n",
       "      <td>0.993920</td>\n",
       "      <td>0.956518</td>\n",
       "      <td>0.968935</td>\n",
       "      <td>0.982868</td>\n",
       "      <td>0.982561</td>\n",
       "    </tr>\n",
       "    <tr>\n",
       "      <th>SVC</th>\n",
       "      <td>C = 100 , gamma = 0.1</td>\n",
       "      <td>0.989423</td>\n",
       "      <td>0.991969</td>\n",
       "      <td>0.951753</td>\n",
       "      <td>0.953517</td>\n",
       "      <td>0.981995</td>\n",
       "      <td>0.978634</td>\n",
       "    </tr>\n",
       "  </tbody>\n",
       "</table>\n",
       "</div>"
      ],
      "text/plain": [
       "                                                       Model parameter  \\\n",
       "Model name                                                               \n",
       "knn                                                             k = 50   \n",
       "Logistic Regression                               C = 10, penalty = l1   \n",
       "Decision Tree        criterion= entropy, max_depth= 8, max_features...   \n",
       "LinearSVC                 C = 10, loss = squared_hinge, max_iter = 100   \n",
       "SVC                                              C = 100 , gamma = 0.1   \n",
       "\n",
       "                     Train accuracy  Test accuracy  Train auc score  \\\n",
       "Model name                                                            \n",
       "knn                        0.989546       0.991798         0.943603   \n",
       "Logistic Regression        0.990535       0.994111         0.954260   \n",
       "Decision Tree              0.978115       0.982129         0.923767   \n",
       "LinearSVC                  0.989505       0.993920         0.956518   \n",
       "SVC                        0.989423       0.991969         0.951753   \n",
       "\n",
       "                     Test auc score  Mean train score  Mean test score  \n",
       "Model name                                                              \n",
       "knn                        0.944273          0.991477         0.980134  \n",
       "Logistic Regression        0.957525          0.927174         0.926798  \n",
       "Decision Tree              0.927881          0.951172         0.949037  \n",
       "LinearSVC                  0.968935          0.982868         0.982561  \n",
       "SVC                        0.953517          0.981995         0.978634  "
      ]
     },
     "execution_count": 91,
     "metadata": {},
     "output_type": "execute_result"
    }
   ],
   "source": [
    "report"
   ]
  },
  {
   "cell_type": "code",
   "execution_count": null,
   "metadata": {
    "collapsed": true
   },
   "outputs": [],
   "source": []
  },
  {
   "cell_type": "markdown",
   "metadata": {},
   "source": [
    "###### Based on the roc_auc scores above, we find that the train and test score is closest for knn. Thus we determine knn to be the best classification model for this dataset. We run this model below with the selected best parameters"
   ]
  },
  {
   "cell_type": "markdown",
   "metadata": {
    "collapsed": true
   },
   "source": [
    "###### knn with best parameters"
   ]
  },
  {
   "cell_type": "code",
   "execution_count": 94,
   "metadata": {
    "scrolled": true
   },
   "outputs": [
    {
     "data": {
      "text/plain": [
       "KNeighborsClassifier(algorithm='auto', leaf_size=30, metric='minkowski',\n",
       "           metric_params=None, n_jobs=1, n_neighbors=50, p=2,\n",
       "           weights='uniform')"
      ]
     },
     "execution_count": 94,
     "metadata": {},
     "output_type": "execute_result"
    }
   ],
   "source": [
    "knn = KNeighborsClassifier(50)\n",
    "knn.fit(X_train_full, y_train_full)"
   ]
  },
  {
   "cell_type": "code",
   "execution_count": 95,
   "metadata": {},
   "outputs": [
    {
     "data": {
      "text/plain": [
       "0.9631156278871438"
      ]
     },
     "execution_count": 95,
     "metadata": {},
     "output_type": "execute_result"
    }
   ],
   "source": [
    "y_pred_knn = knn.predict(X_test_full)\n",
    "accuracy_score(y_test_full, y_pred_knn)"
   ]
  },
  {
   "cell_type": "code",
   "execution_count": 96,
   "metadata": {},
   "outputs": [
    {
     "data": {
      "text/plain": [
       "0.9310517223698778"
      ]
     },
     "execution_count": 96,
     "metadata": {},
     "output_type": "execute_result"
    }
   ],
   "source": [
    "roc_auc_score(y_test_full, y_pred_knn)"
   ]
  },
  {
   "cell_type": "code",
   "execution_count": 97,
   "metadata": {},
   "outputs": [
    {
     "name": "stdout",
     "output_type": "stream",
     "text": [
      "Cross-validation scores: [0.96371147 0.96397637 0.96535335 0.96397637 0.96579602]\n"
     ]
    }
   ],
   "source": [
    "scores = cross_val_score(knn, X_train_full, y_train_full, cv=5)\n",
    "print(\"Cross-validation scores: {}\".format(scores))"
   ]
  },
  {
   "cell_type": "code",
   "execution_count": 98,
   "metadata": {},
   "outputs": [
    {
     "name": "stdout",
     "output_type": "stream",
     "text": [
      "Average cross-validation score: 0.96\n"
     ]
    }
   ],
   "source": [
    "print(\"Average cross-validation score: {:.2f}\".format(scores.mean()))"
   ]
  },
  {
   "cell_type": "code",
   "execution_count": 100,
   "metadata": {},
   "outputs": [
    {
     "name": "stdout",
     "output_type": "stream",
     "text": [
      "Unique predicted labels: [0.]\n",
      "Test score: 0.80\n"
     ]
    }
   ],
   "source": [
    "dummy_majority = DummyClassifier(strategy='most_frequent').fit(X_train_full, y_train_full)\n",
    "pred_most_frequent = dummy_majority.predict(X_test_full)\n",
    "print(\"Unique predicted labels: {}\".format(np.unique(pred_most_frequent)))\n",
    "print(\"Test score: {:.2f}\".format(dummy_majority.score(X_test_full, y_test_full)))"
   ]
  },
  {
   "cell_type": "code",
   "execution_count": 101,
   "metadata": {},
   "outputs": [
    {
     "name": "stdout",
     "output_type": "stream",
     "text": [
      "dummy score: 0.68\n"
     ]
    }
   ],
   "source": [
    "dummy = DummyClassifier().fit(X_train_full, y_train_full)\n",
    "pred_dummy = dummy.predict(X_test_full)\n",
    "print(\"dummy score: {:.2f}\".format(dummy.score(X_test_full, y_test_full)))"
   ]
  },
  {
   "cell_type": "code",
   "execution_count": 102,
   "metadata": {},
   "outputs": [
    {
     "name": "stdout",
     "output_type": "stream",
     "text": [
      "Confusion matrix:\n",
      "[[22185   353]\n",
      " [  685  4919]]\n"
     ]
    }
   ],
   "source": [
    "confusion = confusion_matrix(y_test_full, y_pred_knn)\n",
    "print(\"Confusion matrix:\\n{}\".format(confusion))"
   ]
  },
  {
   "cell_type": "code",
   "execution_count": 103,
   "metadata": {},
   "outputs": [
    {
     "data": {
      "image/png": "[encoded data removed]",
      "text/plain": [
       "<Figure size 360x360 with 2 Axes>"
      ]
     },
     "metadata": {},
     "output_type": "display_data"
    }
   ],
   "source": [
    "mat = confusion_matrix(y_test_full, y_pred_knn)\n",
    "plt.subplots(figsize = (5,5))\n",
    "sns.heatmap(mat, square=True, annot=True, cbar=True , cmap = 'Reds')\n",
    "plt.xlabel('predicted value')\n",
    "plt.ylabel('true value');"
   ]
  },
  {
   "cell_type": "code",
   "execution_count": 104,
   "metadata": {},
   "outputs": [
    {
     "name": "stdout",
     "output_type": "stream",
     "text": [
      "Most frequent class:\n",
      "[[22538     0]\n",
      " [ 5604     0]]\n",
      "\n",
      "Dummy model:\n",
      "[[18104  4434]\n",
      " [ 4489  1115]]\n",
      "\n",
      "Logistic Regression\n",
      "[[22185   353]\n",
      " [  685  4919]]\n"
     ]
    }
   ],
   "source": [
    "print(\"Most frequent class:\")\n",
    "print(confusion_matrix(y_test_full, pred_most_frequent))\n",
    "print(\"\\nDummy model:\")\n",
    "print(confusion_matrix(y_test_full, pred_dummy))\n",
    "print(\"\\nLogistic Regression\")\n",
    "print(confusion_matrix(y_test_full, y_pred_knn))"
   ]
  },
  {
   "cell_type": "code",
   "execution_count": 105,
   "metadata": {},
   "outputs": [
    {
     "name": "stdout",
     "output_type": "stream",
     "text": [
      "f1 score most frequent: 0.00\n",
      "f1 score dummy: 0.20\n",
      "f1 score logistic regression: 0.90\n"
     ]
    },
    {
     "name": "stderr",
     "output_type": "stream",
     "text": [
      "C:\\Users\\sarkara7\\AppData\\Local\\Continuum\\anaconda3\\lib\\site-packages\\sklearn\\metrics\\classification.py:1135: UndefinedMetricWarning: F-score is ill-defined and being set to 0.0 due to no predicted samples.\n",
      "  'precision', 'predicted', average, warn_for)\n"
     ]
    }
   ],
   "source": [
    "print(\"f1 score most frequent: {:.2f}\".format(f1_score(y_test_full, pred_most_frequent)))\n",
    "print(\"f1 score dummy: {:.2f}\".format(f1_score(y_test_full, pred_dummy)))\n",
    "print(\"f1 score logistic regression: {:.2f}\".format(f1_score(y_test_full, y_pred_knn)))"
   ]
  },
  {
   "cell_type": "code",
   "execution_count": 107,
   "metadata": {},
   "outputs": [
    {
     "name": "stdout",
     "output_type": "stream",
     "text": [
      "             precision    recall  f1-score   support\n",
      "\n",
      "   not buzz       0.80      1.00      0.89     22538\n",
      "       buzz       0.00      0.00      0.00      5604\n",
      "\n",
      "avg / total       0.64      0.80      0.71     28142\n",
      "\n"
     ]
    },
    {
     "name": "stderr",
     "output_type": "stream",
     "text": [
      "C:\\Users\\sarkara7\\AppData\\Local\\Continuum\\anaconda3\\lib\\site-packages\\sklearn\\metrics\\classification.py:1135: UndefinedMetricWarning: Precision and F-score are ill-defined and being set to 0.0 in labels with no predicted samples.\n",
      "  'precision', 'predicted', average, warn_for)\n"
     ]
    }
   ],
   "source": [
    "print(classification_report(y_test_full, pred_most_frequent, target_names=[\"not buzz\", \"buzz\"]))"
   ]
  },
  {
   "cell_type": "markdown",
   "metadata": {},
   "source": [
    "###### precision-recall curve"
   ]
  },
  {
   "cell_type": "code",
   "execution_count": 108,
   "metadata": {
    "scrolled": true
   },
   "outputs": [
    {
     "data": {
      "text/plain": [
       "[<matplotlib.lines.Line2D at 0xe440f28>]"
      ]
     },
     "execution_count": 108,
     "metadata": {},
     "output_type": "execute_result"
    },
    {
     "data": {
      "image/png": "[encoded data removed]",
      "text/plain": [
       "<Figure size 432x288 with 1 Axes>"
      ]
     },
     "metadata": {},
     "output_type": "display_data"
    }
   ],
   "source": [
    "precision, recall, thresholds = precision_recall_curve(y_test_full, y_pred_knn)\n",
    "plt.plot(precision, recall, label=\"Precision Recall Curve\")"
   ]
  },
  {
   "cell_type": "markdown",
   "metadata": {},
   "source": [
    "###### roc curve"
   ]
  },
  {
   "cell_type": "code",
   "execution_count": 109,
   "metadata": {
    "scrolled": true
   },
   "outputs": [
    {
     "data": {
      "text/plain": [
       "[<matplotlib.lines.Line2D at 0xdafcba8>]"
      ]
     },
     "execution_count": 109,
     "metadata": {},
     "output_type": "execute_result"
    },
    {
     "data": {
      "image/png": "[encoded data removed]",
      "text/plain": [
       "<Figure size 432x288 with 1 Axes>"
      ]
     },
     "metadata": {},
     "output_type": "display_data"
    }
   ],
   "source": [
    "fpr, tpr,_=roc_curve(y_pred_knn,y_test_full,drop_intermediate=False)\n",
    "plt.plot(fpr, tpr, color='red',lw=2, label='ROC curve')"
   ]
  },
  {
   "cell_type": "code",
   "execution_count": null,
   "metadata": {
    "collapsed": true
   },
   "outputs": [],
   "source": []
  }
 ],
 "metadata": {
  "kernelspec": {
   "display_name": "Python 3",
   "language": "python",
   "name": "python3"
  },
  "language_info": {
   "codemirror_mode": {
    "name": "ipython",
    "version": 3
   },
   "file_extension": ".py",
   "mimetype": "text/x-python",
   "name": "python",
   "nbconvert_exporter": "python",
   "pygments_lexer": "ipython3",
   "version": "3.6.3"
  }
 },
 "nbformat": 4,
 "nbformat_minor": 2
}
