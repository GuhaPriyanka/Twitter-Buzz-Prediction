{
 "cells": [
  {
   "cell_type": "markdown",
   "metadata": {},
   "source": [
    "### <font color='red'> Project 2 : Buzz Prediction on Twitter\n",
    "\n",
    "Project Description:\n",
    "- There are two different datasets for Regression and Classification tasks. Right-most column in both the datasets is a dependent variable i.e. buzz.\n",
    "- Data description files are also provided for both the datasets.\n",
    "- Deciding which dataset is for which task is part of the project.\n",
    "- Read data into Jupyter notebook, use pandas to import data into a data frame.\n",
    "- Preprocess data: Explore data, check for missing data and apply data scaling. Justify the type of scaling used.\n",
    "\n",
    "Regression Task:\n",
    "- Apply all the regression models you've learned so far. If your model has a scaling parameter(s) use Grid Search to find the best scaling parameter. Use plots and graphs to help you get a better glimpse of the results. \n",
    "- Then use cross-validation to find average training and testing score. \n",
    "- Your submission should have at least the following regression models: KNN regressor, linear regression, Ridge, Lasso, polynomial regression, SVM both simple and with kernels. \n",
    "- Finally, find the best regressor for this dataset and train your model on the entire dataset using the best parameters and predict buzz for the test_set.\n",
    "\n",
    "Classification Task:\n",
    "- Decide about a good evaluation strategy and justify your choice.\n",
    "- Find best parameters for the following classification models: KNN classification, Logistic Regression, Linear Support Vector Machine, Kernelized Support Vector Machine, Decision Tree. \n",
    "- Which model gives the best results?\n",
    "\n",
    "Deliverables:\n",
    "- Submit IPython notebook. Use markdown to provide inline comments for this project.\n",
    "- Rename notebook with your group number and submit only one notebook. Before submitting, make sure everything runs as expected. To check that, restart the kernel (in the menubar, select Kernel > Restart) and then run all cells (in the menubar, select Cell > Run All).\n",
    "- Visualization encouraged.\n",
    "\n",
    "Questions regarding the project:\n",
    "- We have created a discussion board under Projects folder on e-learning. Create threads over there and post your queries related to project there.\n",
    "- There is a high possibility that your classmate has also faced the same problem and knows the solution. So this is an effort to encourage collaborative learning, reducing mails for frequently asked queries and also making all the information available to everyone.\n",
    "- Please check existing threads for your query before creating a new one. It goes without saying that do not share your code or complete solutions there.\n",
    "- We will also answer queries there. We will not be answering any project related queries through the mail."
   ]
  },
  {
   "cell_type": "markdown",
   "metadata": {},
   "source": [
    "# <font color='blue'> Project 2 : Buzz Prediction on Twitter\n",
    "#### Regression task: Prediction of buzz value for Twitter.Data dataset. \n",
    "\n",
    "\n"
   ]
  },
  {
   "cell_type": "markdown",
   "metadata": {},
   "source": [
    "#### Libraries imported for all the model and plots. \n",
    "\n",
    "#### Inline plotting of graph is being used"
   ]
  },
  {
   "cell_type": "code",
   "execution_count": 1,
   "metadata": {},
   "outputs": [
    {
     "name": "stderr",
     "output_type": "stream",
     "text": [
      "C:\\Users\\Apurva Sinha\\Anaconda3\\lib\\site-packages\\sklearn\\cross_validation.py:41: DeprecationWarning: This module was deprecated in version 0.18 in favor of the model_selection module into which all the refactored classes and functions are moved. Also note that the interface of the new CV iterators are different from that of this module. This module will be removed in 0.20.\n",
      "  \"This module will be removed in 0.20.\", DeprecationWarning)\n"
     ]
    }
   ],
   "source": [
    "import pandas as pd\n",
    "from sklearn.linear_model import LinearRegression as lm\n",
    "from sklearn.model_selection import train_test_split\n",
    "from sklearn import tree\n",
    "from matplotlib import pyplot as plt\n",
    "from sklearn.neighbors import KNeighborsRegressor\n",
    "from sklearn.preprocessing import StandardScaler, MinMaxScaler\n",
    "from  sklearn.preprocessing import PolynomialFeatures\n",
    "from  sklearn.linear_model import Ridge\n",
    "from sklearn.linear_model import Lasso\n",
    "from sklearn.linear_model import SGDRegressor\n",
    "from sklearn.tree import DecisionTreeRegressor\n",
    "from sklearn.cross_validation import cross_val_score, cross_val_predict\n",
    "from sklearn import metrics\n",
    "from sklearn.svm import SVR, LinearSVR\n",
    "from sklearn.model_selection import GridSearchCV\n",
    "import numpy as np\n",
    "from sklearn.pipeline import make_pipeline\n",
    "import warnings\n",
    "from scipy.stats import mstats\n",
    "%matplotlib inline \n",
    "pd.set_option('display.max_colwidth',-1)\n",
    "warnings.filterwarnings('ignore')\n"
   ]
  },
  {
   "cell_type": "markdown",
   "metadata": {},
   "source": [
    "#### Twitter Data used for Regression task of dependent variable : buzz\n",
    "\n",
    "#### Reading lines from Twitter.data file into data frame twitter_data and replacing columns into new ones."
   ]
  },
  {
   "cell_type": "code",
   "execution_count": 2,
   "metadata": {},
   "outputs": [
    {
     "name": "stdout",
     "output_type": "stream",
     "text": [
      "   NCD_0  NCD_1  NCD_2  NCD_3  NCD_4  NCD_5  NCD_6  AI_0  AI_1  AI_2  ...   \\\n",
      "0  2      1      0      0      0      0      4      2     1     0     ...    \n",
      "1  1      0      0      0      0      4      1      1     0     0     ...    \n",
      "2  1      0      0      1      0      0      1      1     0     0     ...    \n",
      "3  0      1      0      0      1      2      3      0     1     0     ...    \n",
      "\n",
      "   ADL_5  ADL_6  NAD_0  NAD_1  NAD_2  NAD_3  NAD_4  NAD_5  NAD_6  buzz  \n",
      "0  0.0    1.0    2      1      0      0      0      0      4      0.5   \n",
      "1  1.0    1.0    1      0      0      0      0      4      1      0.0   \n",
      "2  0.0    1.0    1      0      0      1      0      0      1      2.5   \n",
      "3  1.0    1.0    0      1      0      0      1      2      3      0.5   \n",
      "\n",
      "[4 rows x 78 columns]\n"
     ]
    },
    {
     "data": {
      "text/plain": [
       "(583249, 78)"
      ]
     },
     "execution_count": 2,
     "metadata": {},
     "output_type": "execute_result"
    }
   ],
   "source": [
    "twitter_data = pd.read_csv('Twitter.data')\n",
    "twitter_data.columns=('NCD_0','NCD_1','NCD_2','NCD_3','NCD_4','NCD_5','NCD_6',\n",
    "                      'AI_0','AI_1','AI_2','AI_3','AI_4','AI_5','AI_6',\n",
    "                      'AS(NA)_0','AS(NA)_1','AS(NA)_2','AS(NA)_3','AS(NA)_4','AS(NA)_5','AS(NA)_6',\n",
    "                      'BL_0','BL_1','BL_2','BL_3','BL_4','BL_5','BL_6',\n",
    "                      'NAC_0','NAC_1','NAC_2','NAC_3','NAC_4','NAC_5','NAC_6',\n",
    "                      'AS(NAC)_0','AS(NAC)_1','AS(NAC)_2','AS(NAC)_3','AS(NAC)_4',\n",
    "                      'AS(NAC)_5','AS(NAC)_6',\n",
    "                      'CS_0','CS_1','CS_2','CS_3','CS_4','CS_5','CS_6',\n",
    "                      'AT_0','AT_1','AT_2','AT_3','AT_4','AT_5','AT_6',\n",
    "                      'NA_0','NA_1','NA_2','NA_3','NA_4','NA_5','NA_6',\n",
    "                      'ADL_0','ADL_1','ADL_2','ADL_3','ADL_4','ADL_5','ADL_6',\n",
    "                      'NAD_0','NAD_1','NAD_2','NAD_3','NAD_4','NAD_5','NAD_6','buzz'\n",
    "                      )\n",
    "print(twitter_data.head(4))\n",
    "\n",
    "twitter_data.shape"
   ]
  },
  {
   "cell_type": "markdown",
   "metadata": {},
   "source": [
    "#### Exploring dataset"
   ]
  },
  {
   "cell_type": "code",
   "execution_count": 3,
   "metadata": {},
   "outputs": [
    {
     "name": "stdout",
     "output_type": "stream",
     "text": [
      "<class 'pandas.core.frame.DataFrame'>\n",
      "RangeIndex: 583249 entries, 0 to 583248\n",
      "Data columns (total 78 columns):\n",
      "NCD_0        583249 non-null int64\n",
      "NCD_1        583249 non-null int64\n",
      "NCD_2        583249 non-null int64\n",
      "NCD_3        583249 non-null int64\n",
      "NCD_4        583249 non-null int64\n",
      "NCD_5        583249 non-null int64\n",
      "NCD_6        583249 non-null int64\n",
      "AI_0         583249 non-null int64\n",
      "AI_1         583249 non-null int64\n",
      "AI_2         583249 non-null int64\n",
      "AI_3         583249 non-null int64\n",
      "AI_4         583249 non-null int64\n",
      "AI_5         583249 non-null int64\n",
      "AI_6         583249 non-null int64\n",
      "AS(NA)_0     583249 non-null float64\n",
      "AS(NA)_1     583249 non-null float64\n",
      "AS(NA)_2     583249 non-null float64\n",
      "AS(NA)_3     583249 non-null float64\n",
      "AS(NA)_4     583249 non-null float64\n",
      "AS(NA)_5     583249 non-null float64\n",
      "AS(NA)_6     583249 non-null float64\n",
      "BL_0         583249 non-null float64\n",
      "BL_1         583249 non-null float64\n",
      "BL_2         583249 non-null float64\n",
      "BL_3         583249 non-null float64\n",
      "BL_4         583249 non-null float64\n",
      "BL_5         583249 non-null float64\n",
      "BL_6         583249 non-null float64\n",
      "NAC_0        583249 non-null int64\n",
      "NAC_1        583249 non-null int64\n",
      "NAC_2        583249 non-null int64\n",
      "NAC_3        583249 non-null int64\n",
      "NAC_4        583249 non-null int64\n",
      "NAC_5        583249 non-null int64\n",
      "NAC_6        583249 non-null int64\n",
      "AS(NAC)_0    583249 non-null float64\n",
      "AS(NAC)_1    583249 non-null float64\n",
      "AS(NAC)_2    583249 non-null float64\n",
      "AS(NAC)_3    583249 non-null float64\n",
      "AS(NAC)_4    583249 non-null float64\n",
      "AS(NAC)_5    583249 non-null float64\n",
      "AS(NAC)_6    583249 non-null float64\n",
      "CS_0         583249 non-null float64\n",
      "CS_1         583249 non-null float64\n",
      "CS_2         583249 non-null float64\n",
      "CS_3         583249 non-null float64\n",
      "CS_4         583249 non-null float64\n",
      "CS_5         583249 non-null float64\n",
      "CS_6         583249 non-null float64\n",
      "AT_0         583249 non-null float64\n",
      "AT_1         583249 non-null float64\n",
      "AT_2         583249 non-null float64\n",
      "AT_3         583249 non-null float64\n",
      "AT_4         583249 non-null float64\n",
      "AT_5         583249 non-null float64\n",
      "AT_6         583249 non-null float64\n",
      "NA_0         583249 non-null int64\n",
      "NA_1         583249 non-null int64\n",
      "NA_2         583249 non-null int64\n",
      "NA_3         583249 non-null int64\n",
      "NA_4         583249 non-null int64\n",
      "NA_5         583249 non-null int64\n",
      "NA_6         583249 non-null int64\n",
      "ADL_0        583249 non-null float64\n",
      "ADL_1        583249 non-null float64\n",
      "ADL_2        583249 non-null float64\n",
      "ADL_3        583249 non-null float64\n",
      "ADL_4        583249 non-null float64\n",
      "ADL_5        583249 non-null float64\n",
      "ADL_6        583249 non-null float64\n",
      "NAD_0        583249 non-null int64\n",
      "NAD_1        583249 non-null int64\n",
      "NAD_2        583249 non-null int64\n",
      "NAD_3        583249 non-null int64\n",
      "NAD_4        583249 non-null int64\n",
      "NAD_5        583249 non-null int64\n",
      "NAD_6        583249 non-null int64\n",
      "buzz         583249 non-null float64\n",
      "dtypes: float64(43), int64(35)\n",
      "memory usage: 347.1 MB\n"
     ]
    }
   ],
   "source": [
    "twitter_data.info()"
   ]
  },
  {
   "cell_type": "code",
   "execution_count": 4,
   "metadata": {},
   "outputs": [
    {
     "data": {
      "text/html": [
       "<div>\n",
       "<style>\n",
       "    .dataframe thead tr:only-child th {\n",
       "        text-align: right;\n",
       "    }\n",
       "\n",
       "    .dataframe thead th {\n",
       "        text-align: left;\n",
       "    }\n",
       "\n",
       "    .dataframe tbody tr th {\n",
       "        vertical-align: top;\n",
       "    }\n",
       "</style>\n",
       "<table border=\"1\" class=\"dataframe\">\n",
       "  <thead>\n",
       "    <tr style=\"text-align: right;\">\n",
       "      <th></th>\n",
       "      <th>NCD_0</th>\n",
       "      <th>NCD_1</th>\n",
       "      <th>NCD_2</th>\n",
       "      <th>NCD_3</th>\n",
       "      <th>NCD_4</th>\n",
       "      <th>NCD_5</th>\n",
       "      <th>NCD_6</th>\n",
       "      <th>AI_0</th>\n",
       "      <th>AI_1</th>\n",
       "      <th>AI_2</th>\n",
       "      <th>...</th>\n",
       "      <th>ADL_5</th>\n",
       "      <th>ADL_6</th>\n",
       "      <th>NAD_0</th>\n",
       "      <th>NAD_1</th>\n",
       "      <th>NAD_2</th>\n",
       "      <th>NAD_3</th>\n",
       "      <th>NAD_4</th>\n",
       "      <th>NAD_5</th>\n",
       "      <th>NAD_6</th>\n",
       "      <th>buzz</th>\n",
       "    </tr>\n",
       "  </thead>\n",
       "  <tbody>\n",
       "    <tr>\n",
       "      <th>0</th>\n",
       "      <td>2</td>\n",
       "      <td>1</td>\n",
       "      <td>0</td>\n",
       "      <td>0</td>\n",
       "      <td>0</td>\n",
       "      <td>0</td>\n",
       "      <td>4</td>\n",
       "      <td>2</td>\n",
       "      <td>1</td>\n",
       "      <td>0</td>\n",
       "      <td>...</td>\n",
       "      <td>0.0</td>\n",
       "      <td>1.0</td>\n",
       "      <td>2</td>\n",
       "      <td>1</td>\n",
       "      <td>0</td>\n",
       "      <td>0</td>\n",
       "      <td>0</td>\n",
       "      <td>0</td>\n",
       "      <td>4</td>\n",
       "      <td>0.5</td>\n",
       "    </tr>\n",
       "    <tr>\n",
       "      <th>1</th>\n",
       "      <td>1</td>\n",
       "      <td>0</td>\n",
       "      <td>0</td>\n",
       "      <td>0</td>\n",
       "      <td>0</td>\n",
       "      <td>4</td>\n",
       "      <td>1</td>\n",
       "      <td>1</td>\n",
       "      <td>0</td>\n",
       "      <td>0</td>\n",
       "      <td>...</td>\n",
       "      <td>1.0</td>\n",
       "      <td>1.0</td>\n",
       "      <td>1</td>\n",
       "      <td>0</td>\n",
       "      <td>0</td>\n",
       "      <td>0</td>\n",
       "      <td>0</td>\n",
       "      <td>4</td>\n",
       "      <td>1</td>\n",
       "      <td>0.0</td>\n",
       "    </tr>\n",
       "    <tr>\n",
       "      <th>2</th>\n",
       "      <td>1</td>\n",
       "      <td>0</td>\n",
       "      <td>0</td>\n",
       "      <td>1</td>\n",
       "      <td>0</td>\n",
       "      <td>0</td>\n",
       "      <td>1</td>\n",
       "      <td>1</td>\n",
       "      <td>0</td>\n",
       "      <td>0</td>\n",
       "      <td>...</td>\n",
       "      <td>0.0</td>\n",
       "      <td>1.0</td>\n",
       "      <td>1</td>\n",
       "      <td>0</td>\n",
       "      <td>0</td>\n",
       "      <td>1</td>\n",
       "      <td>0</td>\n",
       "      <td>0</td>\n",
       "      <td>1</td>\n",
       "      <td>2.5</td>\n",
       "    </tr>\n",
       "    <tr>\n",
       "      <th>3</th>\n",
       "      <td>0</td>\n",
       "      <td>1</td>\n",
       "      <td>0</td>\n",
       "      <td>0</td>\n",
       "      <td>1</td>\n",
       "      <td>2</td>\n",
       "      <td>3</td>\n",
       "      <td>0</td>\n",
       "      <td>1</td>\n",
       "      <td>0</td>\n",
       "      <td>...</td>\n",
       "      <td>1.0</td>\n",
       "      <td>1.0</td>\n",
       "      <td>0</td>\n",
       "      <td>1</td>\n",
       "      <td>0</td>\n",
       "      <td>0</td>\n",
       "      <td>1</td>\n",
       "      <td>2</td>\n",
       "      <td>3</td>\n",
       "      <td>0.5</td>\n",
       "    </tr>\n",
       "    <tr>\n",
       "      <th>4</th>\n",
       "      <td>1</td>\n",
       "      <td>0</td>\n",
       "      <td>0</td>\n",
       "      <td>1</td>\n",
       "      <td>2</td>\n",
       "      <td>3</td>\n",
       "      <td>0</td>\n",
       "      <td>1</td>\n",
       "      <td>0</td>\n",
       "      <td>0</td>\n",
       "      <td>...</td>\n",
       "      <td>1.0</td>\n",
       "      <td>0.0</td>\n",
       "      <td>1</td>\n",
       "      <td>0</td>\n",
       "      <td>0</td>\n",
       "      <td>1</td>\n",
       "      <td>2</td>\n",
       "      <td>3</td>\n",
       "      <td>0</td>\n",
       "      <td>1.0</td>\n",
       "    </tr>\n",
       "  </tbody>\n",
       "</table>\n",
       "<p>5 rows × 78 columns</p>\n",
       "</div>"
      ],
      "text/plain": [
       "   NCD_0  NCD_1  NCD_2  NCD_3  NCD_4  NCD_5  NCD_6  AI_0  AI_1  AI_2  ...   \\\n",
       "0  2      1      0      0      0      0      4      2     1     0     ...    \n",
       "1  1      0      0      0      0      4      1      1     0     0     ...    \n",
       "2  1      0      0      1      0      0      1      1     0     0     ...    \n",
       "3  0      1      0      0      1      2      3      0     1     0     ...    \n",
       "4  1      0      0      1      2      3      0      1     0     0     ...    \n",
       "\n",
       "   ADL_5  ADL_6  NAD_0  NAD_1  NAD_2  NAD_3  NAD_4  NAD_5  NAD_6  buzz  \n",
       "0  0.0    1.0    2      1      0      0      0      0      4      0.5   \n",
       "1  1.0    1.0    1      0      0      0      0      4      1      0.0   \n",
       "2  0.0    1.0    1      0      0      1      0      0      1      2.5   \n",
       "3  1.0    1.0    0      1      0      0      1      2      3      0.5   \n",
       "4  1.0    0.0    1      0      0      1      2      3      0      1.0   \n",
       "\n",
       "[5 rows x 78 columns]"
      ]
     },
     "execution_count": 4,
     "metadata": {},
     "output_type": "execute_result"
    }
   ],
   "source": [
    "twitter_data.head()"
   ]
  },
  {
   "cell_type": "markdown",
   "metadata": {},
   "source": [
    "#### Preprocessing of data:\n",
    "Check for missing values\n"
   ]
  },
  {
   "cell_type": "code",
   "execution_count": 5,
   "metadata": {},
   "outputs": [
    {
     "name": "stdout",
     "output_type": "stream",
     "text": [
      "               NCD_0          NCD_1          NCD_2          NCD_3  \\\n",
      "count  583249.000000  583249.000000  583249.000000  583249.000000   \n",
      "mean   140.339881     136.770378     159.679545     181.592402      \n",
      "std    431.772970     432.305464     502.057815     574.884157      \n",
      "min    0.000000       0.000000       0.000000       0.000000        \n",
      "25%    3.000000       3.000000       4.000000       4.000000        \n",
      "50%    18.000000      17.000000      21.000000      24.000000       \n",
      "75%    104.000000     100.000000     115.000000     131.000000      \n",
      "max    24210.000000   29574.000000   37505.000000   72366.000000    \n",
      "\n",
      "               NCD_4          NCD_5          NCD_6           AI_0  \\\n",
      "count  583249.000000  583249.000000  583249.000000  583249.000000   \n",
      "mean   201.097788     220.175747     219.388589     71.038172       \n",
      "std    630.448918     669.206442     672.182719     196.876865      \n",
      "min    0.000000       0.000000       0.000000       0.000000        \n",
      "25%    5.000000       6.000000       6.000000       2.000000        \n",
      "50%    27.000000      31.000000      30.000000      11.000000       \n",
      "75%    147.000000     166.000000     164.000000     59.000000       \n",
      "max    79079.000000   79079.000000   79079.000000   18654.000000    \n",
      "\n",
      "                AI_1           AI_2      ...                ADL_5  \\\n",
      "count  583249.000000  583249.000000      ...        583249.000000   \n",
      "mean   69.829749      82.198344          ...        1.136689        \n",
      "std    202.199911     239.523223         ...        1.432328        \n",
      "min    0.000000       0.000000           ...        0.000000        \n",
      "25%    2.000000       2.000000           ...        1.000000        \n",
      "50%    11.000000      13.000000          ...        1.000000        \n",
      "75%    57.000000      65.000000          ...        1.090909        \n",
      "max    22035.000000   29402.000000       ...        262.000000      \n",
      "\n",
      "               ADL_6          NAD_0          NAD_1          NAD_2  \\\n",
      "count  583249.000000  583249.000000  583249.000000  583249.000000   \n",
      "mean   1.140372       140.790102     137.181502     160.106196      \n",
      "std    1.552315       432.625285     433.026946     502.774795      \n",
      "min    0.000000       0.000000       0.000000       0.000000        \n",
      "25%    1.000000       3.000000       3.000000       4.000000        \n",
      "50%    1.000000       18.000000      17.000000      21.000000       \n",
      "75%    1.091298       104.000000     101.000000     115.000000      \n",
      "max    295.000000     24301.000000   29574.000000   37505.000000    \n",
      "\n",
      "               NAD_3          NAD_4          NAD_5          NAD_6  \\\n",
      "count  583249.000000  583249.000000  583249.000000  583249.000000   \n",
      "mean   182.057752     201.596826     220.706276     219.937239      \n",
      "std    575.658466     631.258804     670.051490     673.033057      \n",
      "min    0.000000       0.000000       0.000000       0.000000        \n",
      "25%    4.000000       5.000000       6.000000       6.000000        \n",
      "50%    24.000000      27.000000      31.000000      31.000000       \n",
      "75%    131.000000     148.000000     167.000000     165.000000      \n",
      "max    72366.000000   79083.000000   79083.000000   79083.000000    \n",
      "\n",
      "                buzz  \n",
      "count  583249.000000  \n",
      "mean   191.279821     \n",
      "std    612.352828     \n",
      "min    0.000000       \n",
      "25%    4.500000       \n",
      "50%    25.500000      \n",
      "75%    139.000000     \n",
      "max    75724.500000   \n",
      "\n",
      "[8 rows x 78 columns]\n",
      "NCD_0       0\n",
      "NCD_1       0\n",
      "NCD_2       0\n",
      "NCD_3       0\n",
      "NCD_4       0\n",
      "NCD_5       0\n",
      "NCD_6       0\n",
      "AI_0        0\n",
      "AI_1        0\n",
      "AI_2        0\n",
      "AI_3        0\n",
      "AI_4        0\n",
      "AI_5        0\n",
      "AI_6        0\n",
      "AS(NA)_0    0\n",
      "AS(NA)_1    0\n",
      "AS(NA)_2    0\n",
      "AS(NA)_3    0\n",
      "AS(NA)_4    0\n",
      "AS(NA)_5    0\n",
      "AS(NA)_6    0\n",
      "BL_0        0\n",
      "BL_1        0\n",
      "BL_2        0\n",
      "BL_3        0\n",
      "BL_4        0\n",
      "BL_5        0\n",
      "BL_6        0\n",
      "NAC_0       0\n",
      "NAC_1       0\n",
      "           ..\n",
      "CS_6        0\n",
      "AT_0        0\n",
      "AT_1        0\n",
      "AT_2        0\n",
      "AT_3        0\n",
      "AT_4        0\n",
      "AT_5        0\n",
      "AT_6        0\n",
      "NA_0        0\n",
      "NA_1        0\n",
      "NA_2        0\n",
      "NA_3        0\n",
      "NA_4        0\n",
      "NA_5        0\n",
      "NA_6        0\n",
      "ADL_0       0\n",
      "ADL_1       0\n",
      "ADL_2       0\n",
      "ADL_3       0\n",
      "ADL_4       0\n",
      "ADL_5       0\n",
      "ADL_6       0\n",
      "NAD_0       0\n",
      "NAD_1       0\n",
      "NAD_2       0\n",
      "NAD_3       0\n",
      "NAD_4       0\n",
      "NAD_5       0\n",
      "NAD_6       0\n",
      "buzz        0\n",
      "Length: 78, dtype: int64\n"
     ]
    }
   ],
   "source": [
    "print(twitter_data.describe())\n",
    "print(twitter_data.isnull().sum())"
   ]
  },
  {
   "cell_type": "markdown",
   "metadata": {},
   "source": [
    "#### Splitting of dataset into y(buzz) and x variable(77 features)"
   ]
  },
  {
   "cell_type": "code",
   "execution_count": 6,
   "metadata": {},
   "outputs": [
    {
     "name": "stdout",
     "output_type": "stream",
     "text": [
      "(583249, 77)\n",
      "(583249, 1)\n"
     ]
    }
   ],
   "source": [
    "twitter_data_x = twitter_data.iloc[:,0:77]\n",
    "twitter_data_y = twitter_data.iloc[:,77:]\n",
    "\n",
    "print(twitter_data_x.shape)\n",
    "print(twitter_data_y.shape)\n"
   ]
  },
  {
   "cell_type": "code",
   "execution_count": 7,
   "metadata": {
    "collapsed": true
   },
   "outputs": [],
   "source": [
    " _, sample_data, _, sample_target = train_test_split(twitter_data_x, twitter_data_y, shuffle = True, test_size = 0.1)\n"
   ]
  },
  {
   "cell_type": "code",
   "execution_count": 8,
   "metadata": {},
   "outputs": [
    {
     "name": "stdout",
     "output_type": "stream",
     "text": [
      "(58325, 77)\n",
      "(58325, 1)\n"
     ]
    }
   ],
   "source": [
    "print(sample_data.shape)   \n",
    "print(sample_target.shape)"
   ]
  },
  {
   "cell_type": "markdown",
   "metadata": {},
   "source": [
    "#### Splitting of dataset into 70 & 30 dataset fro training and test data"
   ]
  },
  {
   "cell_type": "code",
   "execution_count": 9,
   "metadata": {
    "collapsed": true
   },
   "outputs": [],
   "source": [
    "twitter_x_train, twitter_x_test, twitter_y_train, twitter_y_test = \\\n",
    "    train_test_split(sample_data, sample_target, random_state = 0,test_size = 0.3)\n",
    "\n",
    "\n"
   ]
  },
  {
   "cell_type": "markdown",
   "metadata": {},
   "source": [
    "#### Min max Scaler used for scaling of dataset.\n",
    "###### StandardScaler removes the mean and scales the data to unit variance. This scaler cannot guarantee balanced feature scales in the presence of outliers. MinMaxScaler rescales the data set such that all feature values are in the range [0, 1]. The outliers have an influence when computing the empirical mean and standard deviation which shrink the range of the feature values. Therefore, we prefer using MinMaxScaler to preserve the effects of outliers."
   ]
  },
  {
   "cell_type": "code",
   "execution_count": 10,
   "metadata": {
    "collapsed": true
   },
   "outputs": [],
   "source": [
    "#scaling using min max scaler\n",
    "scaler = MinMaxScaler()\n",
    "twitter_data_x_scaled_train = scaler.fit_transform(twitter_x_train)\n",
    "twitter_data_x_scaled_test = scaler.transform(twitter_x_test)"
   ]
  },
  {
   "cell_type": "code",
   "execution_count": 11,
   "metadata": {},
   "outputs": [
    {
     "name": "stdout",
     "output_type": "stream",
     "text": [
      "Size of training set: 40827  size of test set: 17498\n",
      "\n"
     ]
    }
   ],
   "source": [
    "print(\"Size of training set: {}  size of test set:\"\n",
    "      \" {}\\n\".format(twitter_data_x_scaled_train.shape[0], twitter_data_x_scaled_test.shape[0]))"
   ]
  },
  {
   "cell_type": "markdown",
   "metadata": {},
   "source": [
    "### KNN regressor with grid search cv parameters\n",
    "\n",
    "#### Best parameters and best score from gridSearch CV"
   ]
  },
  {
   "cell_type": "code",
   "execution_count": 12,
   "metadata": {},
   "outputs": [
    {
     "name": "stdout",
     "output_type": "stream",
     "text": [
      "Parameter grid:\n",
      "{'n_neighbors': [1, 3, 5, 10, 15, 17, 20, 25, 27]}\n"
     ]
    }
   ],
   "source": [
    "param_grid_knn = {'n_neighbors': [1,3,5,10,15,17,20,25,27]}\n",
    "print(\"Parameter grid:\\n{}\".format(param_grid_knn))\n",
    "\n",
    "grid_search_knn = GridSearchCV(KNeighborsRegressor(), param_grid_knn, cv=4, return_train_score=True)\n"
   ]
  },
  {
   "cell_type": "code",
   "execution_count": 13,
   "metadata": {},
   "outputs": [
    {
     "name": "stdout",
     "output_type": "stream",
     "text": [
      "r2/variance Train:  0.9471042219019865\n",
      "r2/variance Test:  0.9093031741022704\n",
      "average of train: 0.906530120320482\n",
      "average of test: 0.8779839236688334\n",
      "Best parameters: {'n_neighbors': 3}\n",
      "Best cross-validation score: 0.89\n"
     ]
    }
   ],
   "source": [
    "#KNN regressor\n",
    "\n",
    "grid_search_knn.fit(twitter_data_x_scaled_train,twitter_y_train)\n",
    "#r2 score\n",
    "train_score_array_knn = grid_search_knn.score(twitter_data_x_scaled_train,twitter_y_train)\n",
    "test_score_array_knn = grid_search_knn.score(twitter_data_x_scaled_test,twitter_y_test)\n",
    "print(\"r2/variance Train: \",train_score_array_knn)\n",
    "print(\"r2/variance Test: \",test_score_array_knn)\n",
    "\n",
    "#average score for train and test dataset as per cross validation\n",
    "\n",
    "print(\"average of train:\",np.mean(grid_search_knn.cv_results_['mean_train_score']))\n",
    "print(\"average of test:\",np.mean(grid_search_knn.cv_results_['mean_test_score']))\n",
    "\n",
    "print(\"Best parameters: {}\".format(grid_search_knn.best_params_))\n",
    "print(\"Best cross-validation score: {:.2f}\".format(grid_search_knn.best_score_))"
   ]
  },
  {
   "cell_type": "markdown",
   "metadata": {},
   "source": [
    "#### Capturing the score metrics for all models in report_table"
   ]
  },
  {
   "cell_type": "code",
   "execution_count": 14,
   "metadata": {
    "collapsed": true
   },
   "outputs": [],
   "source": [
    "report_table=[]\n",
    "report_table = report_table + [['knn',\n",
    "                 grid_search_knn.best_params_,\n",
    "                 train_score_array_knn, test_score_array_knn ,\n",
    "                 np.mean(grid_search_knn.cv_results_['mean_train_score']),\n",
    "                 np.mean(grid_search_knn.cv_results_['mean_test_score'])]]"
   ]
  },
  {
   "cell_type": "markdown",
   "metadata": {},
   "source": [
    "#### Plotting of train and test score for KNN regressor for multiple n_neighbors values"
   ]
  },
  {
   "cell_type": "code",
   "execution_count": 15,
   "metadata": {},
   "outputs": [
    {
     "data": {
      "text/plain": [
       "<matplotlib.legend.Legend at 0x2b29e180c88>"
      ]
     },
     "execution_count": 15,
     "metadata": {},
     "output_type": "execute_result"
    },
    {
     "data": {
      "image/png": "[encoded data removed]",
      "text/plain": [
       "<matplotlib.figure.Figure at 0x2b2fa910518>"
      ]
     },
     "metadata": {},
     "output_type": "display_data"
    }
   ],
   "source": [
    "x_axis = [1, 3, 5, 10, 15, 17, 20, 25, 27]\n",
    "%matplotlib inline\n",
    "plt.plot(x_axis,grid_search_knn.cv_results_['mean_train_score'], label = 'Train Score', c = 'g')\n",
    "plt.plot(x_axis, grid_search_knn.cv_results_['mean_test_score'], label = 'Test Score', c='b')\n",
    "plt.xlabel('k')\n",
    "plt.ylabel('Accuracy')\n",
    "plt.legend()"
   ]
  },
  {
   "cell_type": "markdown",
   "metadata": {},
   "source": [
    "### Linear regression using cross validation"
   ]
  },
  {
   "cell_type": "code",
   "execution_count": 16,
   "metadata": {},
   "outputs": [
    {
     "name": "stdout",
     "output_type": "stream",
     "text": [
      "Average cross-validation score Train: 0.85\n",
      "Average cross-validation score Test: 0.94\n"
     ]
    }
   ],
   "source": [
    "\n",
    "lreg = lm()\n",
    "scores_train = cross_val_score(lreg, twitter_data_x_scaled_train, twitter_y_train, cv=4,scoring='r2')\n",
    "scores_test = cross_val_score(lreg, twitter_data_x_scaled_test, twitter_y_test, cv=4,scoring='r2')\n",
    "\n",
    "print(\"Average cross-validation score Train: {:.2f}\".format(scores_train.mean()))\n",
    "print(\"Average cross-validation score Test: {:.2f}\".format(scores_test.mean()))\n"
   ]
  },
  {
   "cell_type": "code",
   "execution_count": 17,
   "metadata": {},
   "outputs": [
    {
     "name": "stdout",
     "output_type": "stream",
     "text": [
      "r2/variance Train:  0.9342599330318536\n",
      "r2/variance Test:  0.9316085881504872\n"
     ]
    }
   ],
   "source": [
    "lreg.fit(twitter_data_x_scaled_train, twitter_y_train)\n",
    "#r2 score\n",
    "\n",
    "train_score_array_linear = lreg.score(twitter_data_x_scaled_train,twitter_y_train)\n",
    "test_score_array_linear = lreg.score(twitter_data_x_scaled_test,twitter_y_test)\n",
    "print(\"r2/variance Train: \",train_score_array_linear)\n",
    "print(\"r2/variance Test: \",test_score_array_linear)"
   ]
  },
  {
   "cell_type": "code",
   "execution_count": 18,
   "metadata": {
    "collapsed": true
   },
   "outputs": [],
   "source": [
    "report_table = report_table+[['Linear regression',\n",
    "                              \"NA\" ,\n",
    "                              train_score_array_linear ,test_score_array_linear ,\n",
    "                              scores_train.mean(),scores_test.mean()]]"
   ]
  },
  {
   "cell_type": "code",
   "execution_count": 52,
   "metadata": {},
   "outputs": [
    {
     "name": "stdout",
     "output_type": "stream",
     "text": [
      "[1 2 3 4]\n"
     ]
    },
    {
     "data": {
      "text/plain": [
       "Text(0,0.5,'cross validation score')"
      ]
     },
     "execution_count": 52,
     "metadata": {},
     "output_type": "execute_result"
    },
    {
     "data": {
      "image/png": "[encoded data removed]",
      "text/plain": [
       "<matplotlib.figure.Figure at 0x2b2a21c74e0>"
      ]
     },
     "metadata": {},
     "output_type": "display_data"
    }
   ],
   "source": [
    "cv = np.arange(1,5)\n",
    "print(cv)\n",
    "plt.plot(cv,scores_train, c= 'r')\n",
    "plt.plot(cv,scores_test, c= 'g')\n",
    "plt.title(\"Train & Test Plot for Linear Regression\")\n",
    "plt.xlabel(\"Cross validation folds\")\n",
    "plt.ylabel(\"cross validation score\")"
   ]
  },
  {
   "cell_type": "markdown",
   "metadata": {},
   "source": [
    "### Ridge regression with GridSearchCV\n",
    "\n",
    "#### Finding best parameters and appending into report table"
   ]
  },
  {
   "cell_type": "code",
   "execution_count": 19,
   "metadata": {},
   "outputs": [
    {
     "name": "stdout",
     "output_type": "stream",
     "text": [
      "Parameter grid:\n",
      "{'alpha': [0.01, 0.05, 0.1, 1, 0.001, 10], 'max_iter': [5, 10], 'solver': ['auto', 'svd', 'cholesky', 'lsqr', 'sparse_cg', 'sag']}\n",
      "r2/variance Train:  0.864233917175519\n",
      "r2/variance Test:  0.8971344507623248\n",
      "average of train: 0.8883694925909748\n",
      "average of test: 0.8466270983455082\n",
      "\n",
      "Best parameters: {'alpha': 0.001, 'max_iter': 5, 'solver': 'sag'}\n",
      "\n",
      "Best cross-validation score: 0.86\n"
     ]
    }
   ],
   "source": [
    "\n",
    "#ridge\n",
    "param_grid_ridge = {'alpha': [0.01, 0.05,0.1,1,0.001,10],\n",
    "                    'max_iter': [5,10],\n",
    "                    'solver': ['auto', 'svd', 'cholesky', 'lsqr', 'sparse_cg', 'sag']}\n",
    "print(\"Parameter grid:\\n{}\".format(param_grid_ridge))\n",
    "\n",
    "grid_search_ridge = GridSearchCV(Ridge(), param_grid_ridge, cv=4, return_train_score=True)\n",
    "\n",
    "grid_search_ridge.fit(twitter_data_x_scaled_train,twitter_y_train)\n",
    "twitter_y_test_ridge = grid_search_ridge.predict(twitter_data_x_scaled_test)\n",
    "#r2 score\n",
    "\n",
    "train_score_array_ridge = grid_search_ridge.score(twitter_data_x_scaled_train,twitter_y_train)\n",
    "test_score_array_ridge = grid_search_ridge.score(twitter_data_x_scaled_test,twitter_y_test)\n",
    "print(\"r2/variance Train: \",train_score_array_ridge)\n",
    "print(\"r2/variance Test: \",test_score_array_ridge)\n",
    "#average score for train and test dataset as per cross validation\n",
    "\n",
    "print(\"average of train:\",np.mean(grid_search_ridge.cv_results_['mean_train_score']))\n",
    "print(\"average of test:\",np.mean(grid_search_ridge.cv_results_['mean_test_score']))\n",
    "\n",
    "print(\"\\nBest parameters: {}\".format(grid_search_ridge.best_params_))\n",
    "print(\"\\nBest cross-validation score: {:.2f}\".format(grid_search_ridge.best_score_))"
   ]
  },
  {
   "cell_type": "code",
   "execution_count": 20,
   "metadata": {
    "collapsed": true
   },
   "outputs": [],
   "source": [
    "report_table = report_table+[['Ridge regression',\n",
    "                              grid_search_ridge.best_params_,\n",
    "                              train_score_array_ridge ,test_score_array_ridge,\n",
    "                              np.mean(grid_search_ridge.cv_results_['mean_train_score']),np.mean(grid_search_ridge.cv_results_['mean_test_score'])]]"
   ]
  },
  {
   "cell_type": "markdown",
   "metadata": {},
   "source": [
    "### Lasso regression with GridSearchCV\n",
    "\n",
    "#### Selecting best parameters for lasso from gridsearchCV"
   ]
  },
  {
   "cell_type": "code",
   "execution_count": 21,
   "metadata": {},
   "outputs": [
    {
     "name": "stdout",
     "output_type": "stream",
     "text": [
      "Parameter grid:\n",
      "{'alpha': [0.01, 0.05, 0.1, 0.001, 10], 'max_iter': [50, 100]}\n",
      "r2/variance Train:  0.9299434489829134\n",
      "r2/variance Test:  0.9334448780177719\n",
      "average of train: 0.8229340793660185\n",
      "average of test: 0.7569562482429353\n",
      "\n",
      "Best parameters: {'alpha': 0.01, 'max_iter': 100}\n",
      "\n",
      "Best cross-validation score: 0.86\n"
     ]
    }
   ],
   "source": [
    "#lasso\n",
    "param_grid_lasso = {'alpha': [0.01, 0.05,0.1,0.001,10],\n",
    "                    'max_iter': [50,100]}\n",
    "print(\"Parameter grid:\\n{}\".format(param_grid_lasso))\n",
    "\n",
    "grid_search_lasso = GridSearchCV(Lasso(), param_grid_lasso, cv=4, return_train_score=True)\n",
    "\n",
    "grid_search_lasso.fit(twitter_data_x_scaled_train,twitter_y_train)\n",
    "twitter_y_test_lasso = grid_search_lasso.predict(twitter_data_x_scaled_test)\n",
    "#r2_Score\n",
    "train_score_array_lasso = grid_search_lasso.score(twitter_data_x_scaled_train,twitter_y_train)\n",
    "test_score_array_lasso = grid_search_lasso.score(twitter_data_x_scaled_test,twitter_y_test)\n",
    "print(\"r2/variance Train: \",train_score_array_lasso)\n",
    "print(\"r2/variance Test: \",test_score_array_lasso)\n",
    "\n",
    "#average score for train and test dataset as per cross validation\n",
    "\n",
    "print(\"average of train:\",np.mean(grid_search_lasso.cv_results_['mean_train_score']))\n",
    "print(\"average of test:\",np.mean(grid_search_lasso.cv_results_['mean_test_score']))\n",
    "\n",
    "print(\"\\nBest parameters: {}\".format(grid_search_lasso.best_params_))\n",
    "print(\"\\nBest cross-validation score: {:.2f}\".format(grid_search_lasso.best_score_))\n"
   ]
  },
  {
   "cell_type": "code",
   "execution_count": 22,
   "metadata": {
    "collapsed": true
   },
   "outputs": [],
   "source": [
    "report_table = report_table+[['Lasso regression',\n",
    "                              grid_search_lasso.best_params_ ,\n",
    "                              train_score_array_lasso,test_score_array_lasso,\n",
    "                              np.mean(grid_search_lasso.cv_results_['mean_train_score']),\n",
    "                              np.mean(grid_search_lasso.cv_results_['mean_test_score'])]]"
   ]
  },
  {
   "cell_type": "markdown",
   "metadata": {},
   "source": [
    "### SGD Regressor with GridSearchCV parameters\n",
    "\n",
    "#### Finding best parameters and appending the value to report_table"
   ]
  },
  {
   "cell_type": "code",
   "execution_count": 23,
   "metadata": {},
   "outputs": [
    {
     "name": "stdout",
     "output_type": "stream",
     "text": [
      "Parameter grid:\n",
      "{'penalty': ['l1', 'l2'], 'alpha': [0.01, 0.05, 0.1, 0.001, 10], 'learning_rate': ['constant', 'optimal', 'invscaling']}\n",
      "r2/variance Train:  0.8527248209881919\n",
      "r2/variance Test:  0.881581691016439\n",
      "average of train: -113452550274460.23\n",
      "average of test: -116979090071649.98\n",
      "\n",
      "Best parameters: {'alpha': 0.001, 'learning_rate': 'constant', 'penalty': 'l1'}\n",
      "\n",
      "Best cross-validation score: 0.83\n"
     ]
    }
   ],
   "source": [
    "#sgd regressor\n",
    "param_grid_sgd = {'penalty': ['l1','l2'],\n",
    "                  'alpha': [0.01, 0.05, 0.1, 0.001, 10],\n",
    "                  'learning_rate': ['constant','optimal','invscaling']\n",
    "                  }\n",
    "print(\"Parameter grid:\\n{}\".format(param_grid_sgd))\n",
    "\n",
    "grid_search_sgd = GridSearchCV(SGDRegressor(), param_grid_sgd, cv=4, return_train_score=True)\n",
    "\n",
    "grid_search_sgd.fit(twitter_data_x_scaled_train,twitter_y_train)\n",
    "twitter_y_test_sgd = grid_search_sgd.predict(twitter_data_x_scaled_test)\n",
    "#r2 score\n",
    "train_score_array_sgd = grid_search_sgd.score(twitter_data_x_scaled_train, twitter_y_train)\n",
    "test_score_array_sgd = grid_search_sgd.score(twitter_data_x_scaled_test, twitter_y_test)\n",
    "print(\"r2/variance Train: \",train_score_array_sgd)\n",
    "print(\"r2/variance Test: \",test_score_array_sgd)\n",
    "\n",
    "#average score for train and test dataset as per cross validation\n",
    "\n",
    "print(\"average of train:\",np.mean(grid_search_sgd.cv_results_['mean_train_score']))\n",
    "print(\"average of test:\",np.mean(grid_search_sgd.cv_results_['mean_test_score']))\n",
    "\n",
    "print(\"\\nBest parameters: {}\".format(grid_search_sgd.best_params_))\n",
    "print(\"\\nBest cross-validation score: {:.2f}\".format(grid_search_sgd.best_score_))\n"
   ]
  },
  {
   "cell_type": "code",
   "execution_count": 24,
   "metadata": {
    "collapsed": true
   },
   "outputs": [],
   "source": [
    "report_table = report_table+[['SGD regressor',\n",
    "                              grid_search_sgd.best_params_,\n",
    "                              train_score_array_sgd,test_score_array_sgd,\n",
    "                              np.mean(grid_search_sgd.cv_results_['mean_train_score']),\n",
    "                              np.mean(grid_search_sgd.cv_results_['mean_test_score'])]]"
   ]
  },
  {
   "cell_type": "markdown",
   "metadata": {},
   "source": [
    "### Polynomial Regression with GridSearchCV \n",
    "\n",
    "#### Finding best parameters and appending metrics into report_table\n",
    "\n",
    "##### Plotting the distribution of x and y values"
   ]
  },
  {
   "cell_type": "code",
   "execution_count": 25,
   "metadata": {
    "collapsed": true
   },
   "outputs": [],
   "source": [
    "def PolynomialRegression(degree=2, **kwargs):\n",
    "    return make_pipeline(PolynomialFeatures(degree),\n",
    "                         lm(**kwargs))"
   ]
  },
  {
   "cell_type": "code",
   "execution_count": 26,
   "metadata": {},
   "outputs": [
    {
     "data": {
      "text/plain": [
       "Text(0.5,1,'NCD_0')"
      ]
     },
     "execution_count": 26,
     "metadata": {},
     "output_type": "execute_result"
    },
    {
     "data": {
      "image/png": "[encoded data removed]",
      "text/plain": [
       "<matplotlib.figure.Figure at 0x2b29d832940>"
      ]
     },
     "metadata": {},
     "output_type": "display_data"
    }
   ],
   "source": [
    "#plot for NCD_0 against first 30 records of y_train\n",
    "X_train_1 = twitter_data_x_scaled_train[0:30,0].reshape(-1,1)\n",
    "plt.scatter(X_train_1,twitter_y_train[0:30])\n",
    "plt.title(\"NCD_0\")"
   ]
  },
  {
   "cell_type": "code",
   "execution_count": 27,
   "metadata": {},
   "outputs": [
    {
     "name": "stdout",
     "output_type": "stream",
     "text": [
      "r2/variance Train:  0.9342599330318536\n",
      "r2/variance Test:  0.9316085881504866\n",
      "average of train: 0.9617237881356712\n",
      "average of test: -34.7193970649792\n",
      "Best parameters: {'polynomialfeatures__degree': 1}\n",
      "Best cross-validation score: 0.85\n"
     ]
    }
   ],
   "source": [
    "#degrees from 1 to 3\n",
    "param_poly = {'polynomialfeatures__degree': np.arange(1,3)\n",
    "              }\n",
    "\n",
    "grid_search_poly = GridSearchCV(PolynomialRegression(), param_poly, cv=4)\n",
    "grid_search_poly.fit(twitter_data_x_scaled_train, twitter_y_train)\n",
    "#r2 score\n",
    "train_score_array_poly = grid_search_poly.score(twitter_data_x_scaled_train, twitter_y_train)\n",
    "test_score_array_poly = grid_search_poly.score(twitter_data_x_scaled_test, twitter_y_test)\n",
    "print(\"r2/variance Train: \",train_score_array_poly)\n",
    "print(\"r2/variance Test: \",test_score_array_poly)\n",
    "#average score for train and test dataset as per cross validation\n",
    "\n",
    "print(\"average of train:\",np.mean(grid_search_poly.cv_results_['mean_train_score']))\n",
    "print(\"average of test:\",np.mean(grid_search_poly.cv_results_['mean_test_score']))\n",
    "\n",
    "print(\"Best parameters: {}\".format(grid_search_poly.best_params_))\n",
    "print(\"Best cross-validation score: {:.2f}\".format(grid_search_poly.best_score_))\n",
    "\n"
   ]
  },
  {
   "cell_type": "markdown",
   "metadata": {},
   "source": [
    "#### Plot for train and test scores of polynomial regression"
   ]
  },
  {
   "cell_type": "code",
   "execution_count": 28,
   "metadata": {},
   "outputs": [
    {
     "data": {
      "text/plain": [
       "<matplotlib.legend.Legend at 0x2b2fa8e4828>"
      ]
     },
     "execution_count": 28,
     "metadata": {},
     "output_type": "execute_result"
    },
    {
     "data": {
      "image/png": "[encoded data removed]",
      "text/plain": [
       "<matplotlib.figure.Figure at 0x2b2a205f2b0>"
      ]
     },
     "metadata": {},
     "output_type": "display_data"
    }
   ],
   "source": [
    "x_axis = range(1,3)\n",
    "%matplotlib inline\n",
    "\n",
    "plt.plot(x_axis, grid_search_poly.cv_results_['mean_train_score'], c = 'g', label = 'Train Score')\n",
    "plt.plot(x_axis, grid_search_poly.cv_results_['mean_test_score'], c = 'b', label = 'Test Score')\n",
    "plt.xlabel('degree')\n",
    "plt.ylabel('average score')\n",
    "plt.legend()"
   ]
  },
  {
   "cell_type": "code",
   "execution_count": 29,
   "metadata": {
    "collapsed": true
   },
   "outputs": [],
   "source": [
    "report_table = report_table+[['Polynomial regression',\n",
    "                              grid_search_poly.best_params_,\n",
    "                              train_score_array_poly,test_score_array_poly,\n",
    "                              np.mean(grid_search_poly.cv_results_['mean_train_score']),\n",
    "                              np.mean(grid_search_poly.cv_results_['mean_test_score'])]]"
   ]
  },
  {
   "cell_type": "markdown",
   "metadata": {},
   "source": [
    "### Decision tree with GridSearchCv parameters\n",
    "\n",
    "#### Finding best parameters and appending metrics into report_table"
   ]
  },
  {
   "cell_type": "code",
   "execution_count": 30,
   "metadata": {},
   "outputs": [
    {
     "name": "stdout",
     "output_type": "stream",
     "text": [
      "Parameter grid:\n",
      "{'max_depth': [3, 5, 8, 15], 'min_samples_split': [2, 4, 6, 10], 'min_samples_leaf': [2, 4, 6, 10], 'max_features': ['auto', 'sqrt', 'log2'], 'max_leaf_nodes': [5, 10, 15]}\n",
      "r2/variance Train:  0.9359469184671722\n",
      "r2/variance Test:  0.9137154057571139\n",
      "average of train: 0.8692871578476302\n",
      "average of test: 0.8224517616931997\n",
      "\n",
      "Best parameters: {'max_depth': 5, 'max_features': 'auto', 'max_leaf_nodes': 15, 'min_samples_leaf': 4, 'min_samples_split': 4}\n",
      "\n",
      "Best cross-validation score: 0.90\n"
     ]
    }
   ],
   "source": [
    "#decision tree\n",
    "n_features = 77\n",
    "param_grid_tree = {'max_depth': [3,5,8,15],\n",
    "                  'min_samples_split': [2,4,6,10],\n",
    "                  'min_samples_leaf': [2,4,6,10],\n",
    "                  'max_features': ['auto','sqrt','log2'],\n",
    "                  'max_leaf_nodes': [5,10,15]\n",
    "              }\n",
    "print(\"Parameter grid:\\n{}\".format(param_grid_tree))\n",
    "\n",
    "grid_search_tree = GridSearchCV(DecisionTreeRegressor(), param_grid_tree, cv=4, return_train_score=True)\n",
    "grid_search_tree.fit(twitter_data_x_scaled_train, twitter_y_train)\n",
    "twitter_y_test_dtree = grid_search_tree.predict(twitter_data_x_scaled_test)\n",
    "\n",
    "#r2 score\n",
    "train_score_array_dtree = grid_search_tree.score(twitter_data_x_scaled_train, twitter_y_train)\n",
    "test_score_array_dtree = grid_search_tree.score(twitter_data_x_scaled_test, twitter_y_test)\n",
    "print(\"r2/variance Train: \",train_score_array_dtree)\n",
    "print(\"r2/variance Test: \",test_score_array_dtree)\n",
    "#average score for train and test dataset as per cross validation\n",
    "\n",
    "print(\"average of train:\",np.mean(grid_search_tree.cv_results_['mean_train_score']))\n",
    "print(\"average of test:\",np.mean(grid_search_tree.cv_results_['mean_test_score']))\n",
    "\n",
    "print(\"\\nBest parameters: {}\".format(grid_search_tree.best_params_))\n",
    "print(\"\\nBest cross-validation score: {:.2f}\".format(grid_search_tree.best_score_))\n"
   ]
  },
  {
   "cell_type": "code",
   "execution_count": 31,
   "metadata": {
    "collapsed": true
   },
   "outputs": [],
   "source": [
    "report_table = report_table+[['Decision Tree',\n",
    "                              grid_search_tree.best_params_,\n",
    "                              train_score_array_dtree,test_score_array_dtree,\n",
    "                              np.mean(grid_search_tree.cv_results_['mean_train_score']),\n",
    "                              np.mean(grid_search_tree.cv_results_['mean_test_score'])]]\n"
   ]
  },
  {
   "cell_type": "markdown",
   "metadata": {},
   "source": [
    "### Linear SVR GridSearchCV \n",
    "\n",
    "#### Finding best parameters and appending metrics into report_table"
   ]
  },
  {
   "cell_type": "code",
   "execution_count": 32,
   "metadata": {},
   "outputs": [
    {
     "name": "stdout",
     "output_type": "stream",
     "text": [
      "Parameter grid:\n",
      "{'C': [0.001, 0.01, 0.1, 1, 10], 'max_iter': [10, 20]}\n",
      "r2/variance Train:  -0.09625680235154\n",
      "r2/variance Test:  -0.12411089912930694\n",
      "average of train: 0.7645780019360486\n",
      "average of test: 0.7662608442587495\n",
      "\n",
      "Best parameters: {'C': 0.1, 'max_iter': 20}\n",
      "\n",
      "Best cross-validation score: 0.88\n"
     ]
    }
   ],
   "source": [
    "#LinearSVR\n",
    "\n",
    "param_svr = {'C': [0.001, 0.01, 0.1, 1, 10],\n",
    "              'max_iter': [10,20]\n",
    "             }\n",
    "print(\"Parameter grid:\\n{}\".format(param_svr))\n",
    "\n",
    "grid_search_svm_l = GridSearchCV(LinearSVR(), param_svr, cv=4, return_train_score=True)\n",
    "grid_search_svm_l.fit(twitter_data_x,twitter_data_y)\n",
    "# evaluate the Linear SVR on parameters\n",
    "#r2 score\n",
    "twitter_y_test_lsvr = grid_search_svm_l.predict(twitter_data_x_scaled_train)\n",
    "train_score_array_lsvr = grid_search_svm_l.score(twitter_data_x_scaled_train, twitter_y_train)\n",
    "test_score_array_lsvr = grid_search_svm_l.score(twitter_data_x_scaled_test, twitter_y_test)\n",
    "print(\"r2/variance Train: \",train_score_array_lsvr)\n",
    "print(\"r2/variance Test: \",test_score_array_lsvr)\n",
    "\n",
    "#average score for train and test dataset as per cross validation\n",
    "\n",
    "print(\"average of train:\",np.mean(grid_search_svm_l.cv_results_['mean_train_score']))\n",
    "print(\"average of test:\",np.mean(grid_search_svm_l.cv_results_['mean_test_score']))\n",
    "\n",
    "print(\"\\nBest parameters: {}\".format(grid_search_svm_l.best_params_))\n",
    "print(\"\\nBest cross-validation score: {:.2f}\".format(grid_search_svm_l.best_score_))\n",
    "\n",
    "\n"
   ]
  },
  {
   "cell_type": "code",
   "execution_count": 33,
   "metadata": {
    "collapsed": true
   },
   "outputs": [],
   "source": [
    "report_table = report_table+[['Linear SVR',\n",
    "                              grid_search_svm_l.best_params_,\n",
    "                              train_score_array_lsvr,test_score_array_lsvr,\n",
    "                              np.mean(grid_search_svm_l.cv_results_['mean_train_score']),\n",
    "                              np.mean(grid_search_svm_l.cv_results_['mean_test_score'])]]"
   ]
  },
  {
   "cell_type": "markdown",
   "metadata": {},
   "source": [
    "### Kernel SVR with GridSearchCV\n",
    "\n",
    "#### Finding best parameters and appending the metrics into report_table"
   ]
  },
  {
   "cell_type": "code",
   "execution_count": 34,
   "metadata": {},
   "outputs": [
    {
     "name": "stdout",
     "output_type": "stream",
     "text": [
      "Parameter grid:\n",
      "{'C': [0.001, 0.01, 0.1, 10], 'gamma': [0.001, 0.01, 10]}\n",
      "r2/variance Train:  0.28811381454422225\n",
      "r2/variance Test:  0.40237344530418406\n",
      "average of train: -0.02898079996287636\n",
      "average of test: -0.02985579300293115\n",
      "\n",
      "Best parameters: {'C': 10, 'gamma': 10}\n",
      "\n",
      "Best cross-validation score: 0.28\n"
     ]
    }
   ],
   "source": [
    "#SVR with kernel\n",
    "param_ksvr = {'C': [0.001, 0.01, 0.1, 10],\n",
    "              'gamma': [0.001, 0.01,10]}\n",
    "print(\"Parameter grid:\\n{}\".format(param_ksvr))\n",
    "\n",
    "\n",
    "grid_search_svm_k = GridSearchCV(SVR(), param_ksvr, cv=4, return_train_score=True)\n",
    "grid_search_svm_k.fit(twitter_data_x_scaled_train, twitter_y_train)\n",
    "twitter_y_test_svr = grid_search_svm_k.predict(twitter_data_x_scaled_train)\n",
    "\n",
    "#r2 score\n",
    "train_score_array_svr = grid_search_svm_k.score(twitter_data_x_scaled_train, twitter_y_train)\n",
    "test_score_array_svr = grid_search_svm_k.score(twitter_data_x_scaled_test, twitter_y_test)\n",
    "print(\"r2/variance Train: \",train_score_array_svr)\n",
    "print(\"r2/variance Test: \",test_score_array_svr)\n",
    "\n",
    "\n",
    "#average score for train and test dataset as per cross validation\n",
    "\n",
    "print(\"average of train:\",np.mean(grid_search_svm_k.cv_results_['mean_train_score']))\n",
    "print(\"average of test:\",np.mean(grid_search_svm_k.cv_results_['mean_test_score']))\n",
    "\n",
    "# evaluate the SVR on parameters\n",
    "print(\"\\nBest parameters: {}\".format(grid_search_svm_k.best_params_))\n",
    "print(\"\\nBest cross-validation score: {:.2f}\".format(grid_search_svm_k.best_score_))"
   ]
  },
  {
   "cell_type": "markdown",
   "metadata": {},
   "source": [
    "### Compiling the report_table into new Data Frame report"
   ]
  },
  {
   "cell_type": "code",
   "execution_count": 35,
   "metadata": {
    "collapsed": true
   },
   "outputs": [],
   "source": [
    "report_table = report_table+[['SVR with kernel',\n",
    "                              grid_search_svm_k.best_params_,\n",
    "                              train_score_array_svr,test_score_array_svr,\n",
    "                              np.mean(grid_search_svm_k.cv_results_['mean_train_score']),\n",
    "                              np.mean(grid_search_svm_k.cv_results_['mean_test_score'])]]"
   ]
  },
  {
   "cell_type": "code",
   "execution_count": 36,
   "metadata": {
    "scrolled": false
   },
   "outputs": [
    {
     "data": {
      "text/html": [
       "<div>\n",
       "<style>\n",
       "    .dataframe thead tr:only-child th {\n",
       "        text-align: right;\n",
       "    }\n",
       "\n",
       "    .dataframe thead th {\n",
       "        text-align: left;\n",
       "    }\n",
       "\n",
       "    .dataframe tbody tr th {\n",
       "        vertical-align: top;\n",
       "    }\n",
       "</style>\n",
       "<table border=\"1\" class=\"dataframe\">\n",
       "  <thead>\n",
       "    <tr style=\"text-align: right;\">\n",
       "      <th></th>\n",
       "      <th>Model name</th>\n",
       "      <th>Model Best parameter</th>\n",
       "      <th>Train r2 score</th>\n",
       "      <th>Test r2 score</th>\n",
       "      <th>Train average score</th>\n",
       "      <th>Test average score</th>\n",
       "    </tr>\n",
       "    <tr>\n",
       "      <th>Model name</th>\n",
       "      <th></th>\n",
       "      <th></th>\n",
       "      <th></th>\n",
       "      <th></th>\n",
       "      <th></th>\n",
       "      <th></th>\n",
       "    </tr>\n",
       "  </thead>\n",
       "  <tbody>\n",
       "    <tr>\n",
       "      <th>knn</th>\n",
       "      <td>knn</td>\n",
       "      <td>{'n_neighbors': 3}</td>\n",
       "      <td>0.947104</td>\n",
       "      <td>0.909303</td>\n",
       "      <td>9.065301e-01</td>\n",
       "      <td>8.779839e-01</td>\n",
       "    </tr>\n",
       "    <tr>\n",
       "      <th>Linear regression</th>\n",
       "      <td>Linear regression</td>\n",
       "      <td>NA</td>\n",
       "      <td>0.934260</td>\n",
       "      <td>0.931609</td>\n",
       "      <td>8.546588e-01</td>\n",
       "      <td>9.439975e-01</td>\n",
       "    </tr>\n",
       "    <tr>\n",
       "      <th>Ridge regression</th>\n",
       "      <td>Ridge regression</td>\n",
       "      <td>{'alpha': 0.001, 'max_iter': 5, 'solver': 'sag'}</td>\n",
       "      <td>0.864234</td>\n",
       "      <td>0.897134</td>\n",
       "      <td>8.883695e-01</td>\n",
       "      <td>8.466271e-01</td>\n",
       "    </tr>\n",
       "    <tr>\n",
       "      <th>Lasso regression</th>\n",
       "      <td>Lasso regression</td>\n",
       "      <td>{'alpha': 0.01, 'max_iter': 100}</td>\n",
       "      <td>0.929943</td>\n",
       "      <td>0.933445</td>\n",
       "      <td>8.229341e-01</td>\n",
       "      <td>7.569562e-01</td>\n",
       "    </tr>\n",
       "    <tr>\n",
       "      <th>SGD regressor</th>\n",
       "      <td>SGD regressor</td>\n",
       "      <td>{'alpha': 0.001, 'learning_rate': 'constant', 'penalty': 'l1'}</td>\n",
       "      <td>0.852725</td>\n",
       "      <td>0.881582</td>\n",
       "      <td>-1.134526e+14</td>\n",
       "      <td>-1.169791e+14</td>\n",
       "    </tr>\n",
       "    <tr>\n",
       "      <th>Polynomial regression</th>\n",
       "      <td>Polynomial regression</td>\n",
       "      <td>{'polynomialfeatures__degree': 1}</td>\n",
       "      <td>0.934260</td>\n",
       "      <td>0.931609</td>\n",
       "      <td>9.617238e-01</td>\n",
       "      <td>-3.471940e+01</td>\n",
       "    </tr>\n",
       "    <tr>\n",
       "      <th>Decision Tree</th>\n",
       "      <td>Decision Tree</td>\n",
       "      <td>{'max_depth': 5, 'max_features': 'auto', 'max_leaf_nodes': 15, 'min_samples_leaf': 4, 'min_samples_split': 4}</td>\n",
       "      <td>0.935947</td>\n",
       "      <td>0.913715</td>\n",
       "      <td>8.692872e-01</td>\n",
       "      <td>8.224518e-01</td>\n",
       "    </tr>\n",
       "    <tr>\n",
       "      <th>Linear SVR</th>\n",
       "      <td>Linear SVR</td>\n",
       "      <td>{'C': 0.1, 'max_iter': 20}</td>\n",
       "      <td>-0.096257</td>\n",
       "      <td>-0.124111</td>\n",
       "      <td>7.645780e-01</td>\n",
       "      <td>7.662608e-01</td>\n",
       "    </tr>\n",
       "    <tr>\n",
       "      <th>SVR with kernel</th>\n",
       "      <td>SVR with kernel</td>\n",
       "      <td>{'C': 10, 'gamma': 10}</td>\n",
       "      <td>0.288114</td>\n",
       "      <td>0.402373</td>\n",
       "      <td>-2.898080e-02</td>\n",
       "      <td>-2.985579e-02</td>\n",
       "    </tr>\n",
       "  </tbody>\n",
       "</table>\n",
       "</div>"
      ],
      "text/plain": [
       "                                  Model name  \\\n",
       "Model name                                     \n",
       "knn                    knn                     \n",
       "Linear regression      Linear regression       \n",
       "Ridge regression       Ridge regression        \n",
       "Lasso regression       Lasso regression        \n",
       "SGD regressor          SGD regressor           \n",
       "Polynomial regression  Polynomial regression   \n",
       "Decision Tree          Decision Tree           \n",
       "Linear SVR             Linear SVR              \n",
       "SVR with kernel        SVR with kernel         \n",
       "\n",
       "                                                                                                                Model Best parameter  \\\n",
       "Model name                                                                                                                             \n",
       "knn                    {'n_neighbors': 3}                                                                                              \n",
       "Linear regression      NA                                                                                                              \n",
       "Ridge regression       {'alpha': 0.001, 'max_iter': 5, 'solver': 'sag'}                                                                \n",
       "Lasso regression       {'alpha': 0.01, 'max_iter': 100}                                                                                \n",
       "SGD regressor          {'alpha': 0.001, 'learning_rate': 'constant', 'penalty': 'l1'}                                                  \n",
       "Polynomial regression  {'polynomialfeatures__degree': 1}                                                                               \n",
       "Decision Tree          {'max_depth': 5, 'max_features': 'auto', 'max_leaf_nodes': 15, 'min_samples_leaf': 4, 'min_samples_split': 4}   \n",
       "Linear SVR             {'C': 0.1, 'max_iter': 20}                                                                                      \n",
       "SVR with kernel        {'C': 10, 'gamma': 10}                                                                                          \n",
       "\n",
       "                       Train r2 score  Test r2 score  Train average score  \\\n",
       "Model name                                                                  \n",
       "knn                    0.947104        0.909303       9.065301e-01          \n",
       "Linear regression      0.934260        0.931609       8.546588e-01          \n",
       "Ridge regression       0.864234        0.897134       8.883695e-01          \n",
       "Lasso regression       0.929943        0.933445       8.229341e-01          \n",
       "SGD regressor          0.852725        0.881582      -1.134526e+14          \n",
       "Polynomial regression  0.934260        0.931609       9.617238e-01          \n",
       "Decision Tree          0.935947        0.913715       8.692872e-01          \n",
       "Linear SVR            -0.096257       -0.124111       7.645780e-01          \n",
       "SVR with kernel        0.288114        0.402373      -2.898080e-02          \n",
       "\n",
       "                       Test average score  \n",
       "Model name                                 \n",
       "knn                    8.779839e-01        \n",
       "Linear regression      9.439975e-01        \n",
       "Ridge regression       8.466271e-01        \n",
       "Lasso regression       7.569562e-01        \n",
       "SGD regressor         -1.169791e+14        \n",
       "Polynomial regression -3.471940e+01        \n",
       "Decision Tree          8.224518e-01        \n",
       "Linear SVR             7.662608e-01        \n",
       "SVR with kernel       -2.985579e-02        "
      ]
     },
     "execution_count": 36,
     "metadata": {},
     "output_type": "execute_result"
    }
   ],
   "source": [
    "report = pd.DataFrame(report_table,columns = ['Model name', 'Model Best parameter', 'Train r2 score', 'Test r2 score',\n",
    "                                              'Train average score', 'Test average score'])\n",
    "report.index = report['Model name']\n",
    "\n",
    "report\n"
   ]
  },
  {
   "cell_type": "markdown",
   "metadata": {},
   "source": [
    "###### Based on the r2(r-squared) scores(least difference between train and test score/ best score overall) above,Linear and polynomial regression has same values(with degree = 1),So we determine Linear regression to be the best regression model for this dataset. We run this model below with the cross validation"
   ]
  },
  {
   "cell_type": "markdown",
   "metadata": {
    "collapsed": true
   },
   "source": [
    "### Best Model based on train and test accuracy\n"
   ]
  },
  {
   "cell_type": "code",
   "execution_count": 37,
   "metadata": {},
   "outputs": [
    {
     "name": "stdout",
     "output_type": "stream",
     "text": [
      "   NCD_0  NCD_1  NCD_2  NCD_3  NCD_4  NCD_5  NCD_6  AI_0  AI_1  AI_2  ...   \\\n",
      "0  2      1      0      0      0      0      4      2     1     0     ...    \n",
      "1  1      0      0      0      0      4      1      1     0     0     ...    \n",
      "2  1      0      0      1      0      0      1      1     0     0     ...    \n",
      "3  0      1      0      0      1      2      3      0     1     0     ...    \n",
      "\n",
      "   ADL_5  ADL_6  NAD_0  NAD_1  NAD_2  NAD_3  NAD_4  NAD_5  NAD_6  buzz  \n",
      "0  0.0    1.0    2      1      0      0      0      0      4      0.5   \n",
      "1  1.0    1.0    1      0      0      0      0      4      1      0.0   \n",
      "2  0.0    1.0    1      0      0      1      0      0      1      2.5   \n",
      "3  1.0    1.0    0      1      0      0      1      2      3      0.5   \n",
      "\n",
      "[4 rows x 78 columns]\n"
     ]
    },
    {
     "data": {
      "text/plain": [
       "(583249, 78)"
      ]
     },
     "execution_count": 37,
     "metadata": {},
     "output_type": "execute_result"
    }
   ],
   "source": [
    "twitter_data_final = pd.read_csv('C:\\ML\\Project\\Twitter.data')\n",
    "twitter_data_final.columns=('NCD_0','NCD_1','NCD_2','NCD_3','NCD_4','NCD_5','NCD_6',\n",
    "                      'AI_0','AI_1','AI_2','AI_3','AI_4','AI_5','AI_6',\n",
    "                      'AS(NA)_0','AS(NA)_1','AS(NA)_2','AS(NA)_3','AS(NA)_4','AS(NA)_5','AS(NA)_6',\n",
    "                      'BL_0','BL_1','BL_2','BL_3','BL_4','BL_5','BL_6',\n",
    "                      'NAC_0','NAC_1','NAC_2','NAC_3','NAC_4','NAC_5','NAC_6',\n",
    "                      'AS(NAC)_0','AS(NAC)_1','AS(NAC)_2','AS(NAC)_3','AS(NAC)_4',\n",
    "                      'AS(NAC)_5','AS(NAC)_6',\n",
    "                      'CS_0','CS_1','CS_2','CS_3','CS_4','CS_5','CS_6',\n",
    "                      'AT_0','AT_1','AT_2','AT_3','AT_4','AT_5','AT_6',\n",
    "                      'NA_0','NA_1','NA_2','NA_3','NA_4','NA_5','NA_6',\n",
    "                      'ADL_0','ADL_1','ADL_2','ADL_3','ADL_4','ADL_5','ADL_6',\n",
    "                      'NAD_0','NAD_1','NAD_2','NAD_3','NAD_4','NAD_5','NAD_6','buzz'\n",
    "                      )\n",
    "print(twitter_data_final.head(4))\n",
    "\n",
    "twitter_data_final.shape"
   ]
  },
  {
   "cell_type": "markdown",
   "metadata": {},
   "source": [
    "\n",
    "#### Reading the full dataset and splitting it to train and test with 70 & 30 ratio\n",
    "\n",
    "#### Applying MinMaxScaler scaling to standardize the data"
   ]
  },
  {
   "cell_type": "code",
   "execution_count": 38,
   "metadata": {},
   "outputs": [
    {
     "name": "stdout",
     "output_type": "stream",
     "text": [
      "(583249, 77)\n",
      "(583249, 1)\n",
      "Size of training set: 408274  size of test set: 174975\n",
      "\n"
     ]
    }
   ],
   "source": [
    "twitter_x = twitter_data_final.iloc[:,0:77]\n",
    "twitter_y = twitter_data_final.iloc[:,77:]\n",
    "\n",
    "print(twitter_x.shape)\n",
    "print(twitter_y.shape)\n",
    "\n",
    "x_train, x_test, y_train, y_test = \\\n",
    "    train_test_split(twitter_x, twitter_y, random_state = 0,test_size = 0.3)\n",
    "    \n",
    "#scaling using min max scaler\n",
    "scaler = MinMaxScaler()\n",
    "twitter_x_scaled_train = scaler.fit_transform(x_train)\n",
    "twitter_x_scaled_test = scaler.transform(x_test)\n",
    "\n",
    "print(\"Size of training set: {}  size of test set:\"\n",
    "      \" {}\\n\".format(twitter_x_scaled_train.shape[0], twitter_x_scaled_test.shape[0]))"
   ]
  },
  {
   "cell_type": "code",
   "execution_count": 43,
   "metadata": {},
   "outputs": [
    {
     "name": "stdout",
     "output_type": "stream",
     "text": [
      "Average cross-validation score Train: 0.94\n",
      "Average cross-validation score Test: 0.87\n"
     ]
    }
   ],
   "source": [
    "#Linear regression\n",
    "\n",
    "lreg_final = lm()\n",
    "scores_train_final = cross_val_score(lreg_final, twitter_x_scaled_train, y_train, cv=4,scoring='r2')\n",
    "scores_test_final = cross_val_score(lreg_final, twitter_x_scaled_test, y_test, cv=4,scoring='r2')\n",
    "\n",
    "print(\"Average cross-validation score Train: {:.2f}\".format(scores_train_final.mean()))\n",
    "print(\"Average cross-validation score Test: {:.2f}\".format(scores_test_final.mean()))"
   ]
  },
  {
   "cell_type": "code",
   "execution_count": 44,
   "metadata": {},
   "outputs": [
    {
     "name": "stdout",
     "output_type": "stream",
     "text": [
      "r2/variance Train:  0.9162371679226623\n",
      "r2/variance Test:  0.8878610910462605\n"
     ]
    }
   ],
   "source": [
    "lreg_final.fit(twitter_x_scaled_train, y_train)\n",
    "pred_buzz = lreg_final.predict(twitter_x_scaled_test) \n",
    "#r2 score\n",
    "\n",
    "train_score_array_linear = lreg.score(twitter_x_scaled_train,y_train)\n",
    "test_score_array_linear = lreg.score(twitter_x_scaled_test,y_test)\n",
    "print(\"r2/variance Train: \",train_score_array_linear)\n",
    "print(\"r2/variance Test: \",test_score_array_linear)"
   ]
  },
  {
   "cell_type": "code",
   "execution_count": 51,
   "metadata": {},
   "outputs": [
    {
     "name": "stdout",
     "output_type": "stream",
     "text": [
      "[1 2 3 4]\n"
     ]
    },
    {
     "data": {
      "text/plain": [
       "Text(0,0.5,'cross validation score')"
      ]
     },
     "execution_count": 51,
     "metadata": {},
     "output_type": "execute_result"
    },
    {
     "data": {
      "image/png": "[encoded data removed]",
      "text/plain": [
       "<matplotlib.figure.Figure at 0x2b2a2340c88>"
      ]
     },
     "metadata": {},
     "output_type": "display_data"
    }
   ],
   "source": [
    "cv = np.arange(1,5)\n",
    "print(cv)\n",
    "plt.plot(cv,scores_train_final, c= 'r')\n",
    "plt.plot(cv,scores_test_final, c= 'g')\n",
    "plt.title(\"Train & Test Plot for Linear Regression\")\n",
    "plt.xlabel(\"Cross validation folds\")\n",
    "plt.ylabel(\"cross validation score\")"
   ]
  }
 ],
 "metadata": {
  "kernelspec": {
   "display_name": "Python 3",
   "language": "python",
   "name": "python3"
  },
  "language_info": {
   "codemirror_mode": {
    "name": "ipython",
    "version": 3
   },
   "file_extension": ".py",
   "mimetype": "text/x-python",
   "name": "python",
   "nbconvert_exporter": "python",
   "pygments_lexer": "ipython3",
   "version": "3.6.3"
  }
 },
 "nbformat": 4,
 "nbformat_minor": 1
}
