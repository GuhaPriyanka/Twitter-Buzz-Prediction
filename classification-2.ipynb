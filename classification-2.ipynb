{
 "cells": [
  {
   "cell_type": "markdown",
   "metadata": {},
   "source": [
    "### <font color='red'> Project 3 : Buzz Prediction on Twitter\n",
    "\n",
    "Project Description:\n",
    "- Use same datasets as Project 2.\n",
    "- Run all the models only on 10% data. Use code given in Project 2 for sampling.\n",
    "- Preprocess data: Explore data and apply data scaling.\n",
    "\n",
    "Regression Task:\n",
    "- Apply any two models with bagging and any two models with pasting.\n",
    "- Apply any two models with adaboost boosting\n",
    "- Apply one model with gradient boosting\n",
    "- Apply PCA on data and then apply all the models in project 2 again on data you get from PCA. Compare your results with results in project 2. You don't need to apply all the models twice. Just copy the result table from project 2, prepare similar table for all the models after PCA and compare both tables. Does PCA help in getting better results?\n",
    "- Apply deep learning models covered in class\n",
    "\n",
    "Classification Task:\n",
    "- Apply four voting classifiers - two with hard voting and two with soft voting\n",
    "- Apply any two models with bagging and any two models with pasting.\n",
    "- Apply any two models with adaboost boosting\n",
    "- Apply one model with gradient boosting\n",
    "- Apply PCA on data and then apply all the models in project 2 again on data you get from PCA. Compare your results with results in project 2. You don't need to apply all the models twice. Just copy the result table from project 2, prepare similar table for all the models after PCA and compare both tables. Does PCA help in getting better results?\n",
    "- Apply deep learning models covered in class\n",
    "\n",
    "Deliverables:\n",
    "- Use markdown to provide inline comments for this project.\n",
    "- Your outputs should be clearly executed in the notebook i.e. we should not need to rerun the code to obtain the outputs.\n",
    "- Visualization encouraged.\n",
    "- If you are submitting two different files, then please only one group member submit both the files. If you submit two files separately from different accounts, it will be submitted as two different attempts.\n",
    "- If you are submitting two different files, then please follow below naming convetion:\n",
    "    Project3_Regression_GroupXX_Firstname1_Firstname2.ipynb\n",
    "    Project3_Classification_GroupXX_Firstname1_Firstname2.ipynb\n",
    "- If you are submitting single file, then please follow below naming convetion:\n",
    "    Project3_Both_GroupXX_Firstname1_Firstname2.ipynb\n",
    "\n",
    "Questions regarding the project:\n",
    "- We have created a discussion board under Projects folder on e-learning. Create threads over there and post your queries related to project there.\n",
    "- We will also answer queries there. We will not be answering any project related queries through the mail."
   ]
  },
  {
   "cell_type": "markdown",
   "metadata": {},
   "source": [
    "# <font color='blue'> Project 3 : Buzz Prediction on Twitter\n",
    "#### Classification task: Prediction of buzz value for Twitter-Absolute-Sigma-500.Data dataset. \n",
    "\n",
    "\n"
   ]
  },
  {
   "cell_type": "code",
   "execution_count": 1,
   "metadata": {
    "collapsed": true
   },
   "outputs": [],
   "source": [
    "import pandas as pd\n",
    "import numpy as np\n",
    "import csv\n",
    "import matplotlib.pyplot as plt\n",
    "%matplotlib inline\n",
    "from pandas.plotting import scatter_matrix\n",
    "from sklearn.preprocessing import MinMaxScaler\n",
    "import seaborn as sns; sns.set()\n",
    "from sklearn.model_selection import GridSearchCV\n",
    "from sklearn.neighbors import KNeighborsClassifier\n",
    "from sklearn.model_selection import train_test_split\n",
    "from sklearn.metrics import confusion_matrix\n",
    "from sklearn.metrics import roc_auc_score\n",
    "from sklearn.linear_model import LogisticRegression\n",
    "from sklearn.metrics import confusion_matrix\n",
    "from sklearn.svm import LinearSVC\n",
    "from sklearn.metrics import accuracy_score\n",
    "from sklearn.tree import DecisionTreeClassifier\n",
    "from sklearn.metrics import confusion_matrix\n",
    "from sklearn.externals.six import StringIO  \n",
    "from IPython.display import Image  \n",
    "from sklearn.tree import export_graphviz\n",
    "import pydotplus\n",
    "from sklearn.svm import SVC\n",
    "from sklearn.model_selection import cross_val_score\n",
    "from sklearn.metrics import precision_recall_curve\n",
    "from sklearn.metrics import f1_score\n",
    "from sklearn.dummy import DummyClassifier\n",
    "from sklearn.metrics import classification_report\n",
    "from sklearn.metrics import roc_curve\n",
    "from sklearn.neighbors import KNeighborsClassifier\n",
    "from sklearn.ensemble import VotingClassifier\n",
    "from sklearn.svm import SVC"
   ]
  },
  {
   "cell_type": "code",
   "execution_count": 2,
   "metadata": {
    "collapsed": true
   },
   "outputs": [],
   "source": [
    "import warnings\n",
    "warnings.filterwarnings(\"ignore\")"
   ]
  },
  {
   "cell_type": "code",
   "execution_count": 3,
   "metadata": {
    "collapsed": true
   },
   "outputs": [],
   "source": [
    "from sklearn import metrics"
   ]
  },
  {
   "cell_type": "code",
   "execution_count": 4,
   "metadata": {
    "scrolled": true
   },
   "outputs": [
    {
     "name": "stderr",
     "output_type": "stream",
     "text": [
      "Using TensorFlow backend.\n"
     ]
    }
   ],
   "source": [
    "import os\n",
    "import json\n",
    "import datetime\n",
    "import numpy as np\n",
    "import pandas as pd\n",
    "import seaborn as sns\n",
    "import matplotlib.pyplot as plt\n",
    "from pandas.io.json import json_normalize\n",
    "from sklearn.metrics import mean_squared_error\n",
    "from sklearn import preprocessing\n",
    "from sklearn.model_selection import train_test_split\n",
    "from keras.models import Sequential\n",
    "from keras.layers import Dense, Dropout, BatchNormalization, Activation, Dropout\n",
    "from keras import optimizers\n",
    "from keras.models import Sequential\n",
    "from keras.layers import Dense, Activation"
   ]
  },
  {
   "cell_type": "code",
   "execution_count": 5,
   "metadata": {
    "collapsed": true
   },
   "outputs": [],
   "source": [
    "from sklearn.ensemble import GradientBoostingClassifier\n",
    "from sklearn.ensemble import RandomForestClassifier\n",
    "from sklearn.metrics import roc_curve"
   ]
  },
  {
   "cell_type": "code",
   "execution_count": 6,
   "metadata": {
    "collapsed": true
   },
   "outputs": [],
   "source": [
    "from sklearn.metrics import r2_score\n",
    "from sklearn.metrics import explained_variance_score\n",
    "from sklearn.metrics import auc"
   ]
  },
  {
   "cell_type": "code",
   "execution_count": 7,
   "metadata": {
    "collapsed": true
   },
   "outputs": [],
   "source": [
    "from sklearn.decomposition import PCA"
   ]
  },
  {
   "cell_type": "code",
   "execution_count": 8,
   "metadata": {
    "collapsed": true
   },
   "outputs": [],
   "source": [
    "import tensorflow as tf"
   ]
  },
  {
   "cell_type": "code",
   "execution_count": 8,
   "metadata": {
    "collapsed": true
   },
   "outputs": [],
   "source": [
    "def as_keras_metric(method):\n",
    "    import functools\n",
    "    from keras import backend as K\n",
    "    import tensorflow as tf\n",
    "    @functools.wraps(method)\n",
    "    def wrapper(self, args, **kwargs):\n",
    "        \"\"\" Wrapper for turning tensorflow metrics into keras metrics \"\"\"\n",
    "        value, update_op = method(self, args, **kwargs)\n",
    "        K.get_session().run(tf.local_variables_initializer())\n",
    "        with tf.control_dependencies([update_op]):\n",
    "            value = tf.identity(value)\n",
    "        return value\n",
    "    return wrapper"
   ]
  },
  {
   "cell_type": "code",
   "execution_count": 9,
   "metadata": {
    "collapsed": true
   },
   "outputs": [],
   "source": [
    "data=pd.read_csv(\"Twitter-Absolute-Sigma-500.data\",\n",
    "           skipinitialspace=True,header=None,names = [\"NCD_0\",\"NCD_1\",\"NCD_2\",\"NCD_3\",\"NCD_4\",\"NCD_5\",\"NCD_6\",\"AI_0\",\"AI_1\",\"AI_2\",\"AI_3\",\"AI_4\",\"AI_5\",\"AI_6\",\"AS(NA)_0\",\"AS(NA)_1\",\"AS(NA)_2\",\"AS(NA)_3\",\"AS(NA)_4\",\"AS(NA)_5\",\"AS(NA)_6\",\"BL_0\",\"BL_1\",\"BL_2\",\"BL_3\",\"BL_4\",\"BL_5\",\"BL_6\",\"NAC_0\",\"NAC_1\",\"NAC_2\",\"NAC_3\",\"NAC_4\",\"NAC_5\",\"NAC_6\",\"AS(NAC)_0\",\"AS(NAC)_1\",\"AS(NAC)_2\",\"AS(NAC)_3\",\"AS(NAC)_4\",\"AS(NAC)_5\",\"AS(NAC)_6\",\"CS_0\",\"CS_1\",\"CS_2\",\"CS_3\",\"CS_4\",\"CS_5\",\"CS_6\",\"AT_0\",\"AT_1\",\"AT_2\",\"AT_3\",\"AT_4\",\"AT_5\",\"AT_6\",\"NA_0\",\"NA_1\",\"NA_2\",\"NA_3\",\"NA_4\",\"NA_5\",\"NA_6\",\"ADL_0\",\"ADL_1\",\"ADL_2\",\"ADL_3\",\"ADL_4\",\"ADL_5\",\"ADL_6\",\"NAD_0\",\"NAD_1\",\"NAD_2\",\"NAD_3\",\"NAD_4\",\"NAD_5\",\"NAD_6\",\"BUZZ\"])"
   ]
  },
  {
   "cell_type": "markdown",
   "metadata": {},
   "source": [
    "###### Exploratory Analysis"
   ]
  },
  {
   "cell_type": "code",
   "execution_count": 6,
   "metadata": {},
   "outputs": [
    {
     "data": {
      "text/plain": [
       "(140707, 78)"
      ]
     },
     "execution_count": 6,
     "metadata": {},
     "output_type": "execute_result"
    }
   ],
   "source": [
    "data.shape"
   ]
  },
  {
   "cell_type": "code",
   "execution_count": 7,
   "metadata": {},
   "outputs": [
    {
     "name": "stdout",
     "output_type": "stream",
     "text": [
      "<class 'pandas.core.frame.DataFrame'>\n",
      "RangeIndex: 140707 entries, 0 to 140706\n",
      "Data columns (total 78 columns):\n",
      "NCD_0        140707 non-null int64\n",
      "NCD_1        140707 non-null int64\n",
      "NCD_2        140707 non-null int64\n",
      "NCD_3        140707 non-null int64\n",
      "NCD_4        140707 non-null int64\n",
      "NCD_5        140707 non-null int64\n",
      "NCD_6        140707 non-null int64\n",
      "AI_0         140707 non-null int64\n",
      "AI_1         140707 non-null int64\n",
      "AI_2         140707 non-null int64\n",
      "AI_3         140707 non-null int64\n",
      "AI_4         140707 non-null int64\n",
      "AI_5         140707 non-null int64\n",
      "AI_6         140707 non-null int64\n",
      "AS(NA)_0     140707 non-null float64\n",
      "AS(NA)_1     140707 non-null float64\n",
      "AS(NA)_2     140707 non-null float64\n",
      "AS(NA)_3     140707 non-null float64\n",
      "AS(NA)_4     140707 non-null float64\n",
      "AS(NA)_5     140707 non-null float64\n",
      "AS(NA)_6     140707 non-null float64\n",
      "BL_0         140707 non-null float64\n",
      "BL_1         140707 non-null float64\n",
      "BL_2         140707 non-null float64\n",
      "BL_3         140707 non-null float64\n",
      "BL_4         140707 non-null float64\n",
      "BL_5         140707 non-null float64\n",
      "BL_6         140707 non-null float64\n",
      "NAC_0        140707 non-null int64\n",
      "NAC_1        140707 non-null int64\n",
      "NAC_2        140707 non-null int64\n",
      "NAC_3        140707 non-null int64\n",
      "NAC_4        140707 non-null int64\n",
      "NAC_5        140707 non-null int64\n",
      "NAC_6        140707 non-null int64\n",
      "AS(NAC)_0    140707 non-null float64\n",
      "AS(NAC)_1    140707 non-null float64\n",
      "AS(NAC)_2    140707 non-null float64\n",
      "AS(NAC)_3    140707 non-null float64\n",
      "AS(NAC)_4    140707 non-null float64\n",
      "AS(NAC)_5    140707 non-null float64\n",
      "AS(NAC)_6    140707 non-null float64\n",
      "CS_0         140707 non-null float64\n",
      "CS_1         140707 non-null float64\n",
      "CS_2         140707 non-null float64\n",
      "CS_3         140707 non-null float64\n",
      "CS_4         140707 non-null float64\n",
      "CS_5         140707 non-null float64\n",
      "CS_6         140707 non-null float64\n",
      "AT_0         140707 non-null float64\n",
      "AT_1         140707 non-null float64\n",
      "AT_2         140707 non-null float64\n",
      "AT_3         140707 non-null float64\n",
      "AT_4         140707 non-null float64\n",
      "AT_5         140707 non-null float64\n",
      "AT_6         140707 non-null float64\n",
      "NA_0         140707 non-null int64\n",
      "NA_1         140707 non-null int64\n",
      "NA_2         140707 non-null int64\n",
      "NA_3         140707 non-null int64\n",
      "NA_4         140707 non-null int64\n",
      "NA_5         140707 non-null int64\n",
      "NA_6         140707 non-null int64\n",
      "ADL_0        140707 non-null float64\n",
      "ADL_1        140707 non-null float64\n",
      "ADL_2        140707 non-null float64\n",
      "ADL_3        140707 non-null float64\n",
      "ADL_4        140707 non-null float64\n",
      "ADL_5        140707 non-null float64\n",
      "ADL_6        140707 non-null float64\n",
      "NAD_0        140707 non-null int64\n",
      "NAD_1        140707 non-null int64\n",
      "NAD_2        140707 non-null int64\n",
      "NAD_3        140707 non-null int64\n",
      "NAD_4        140707 non-null int64\n",
      "NAD_5        140707 non-null int64\n",
      "NAD_6        140707 non-null int64\n",
      "BUZZ         140707 non-null float64\n",
      "dtypes: float64(43), int64(35)\n",
      "memory usage: 83.7 MB\n"
     ]
    }
   ],
   "source": [
    "data.info()"
   ]
  },
  {
   "cell_type": "code",
   "execution_count": 8,
   "metadata": {},
   "outputs": [
    {
     "data": {
      "text/html": [
       "<div>\n",
       "<style scoped>\n",
       "    .dataframe tbody tr th:only-of-type {\n",
       "        vertical-align: middle;\n",
       "    }\n",
       "\n",
       "    .dataframe tbody tr th {\n",
       "        vertical-align: top;\n",
       "    }\n",
       "\n",
       "    .dataframe thead th {\n",
       "        text-align: right;\n",
       "    }\n",
       "</style>\n",
       "<table border=\"1\" class=\"dataframe\">\n",
       "  <thead>\n",
       "    <tr style=\"text-align: right;\">\n",
       "      <th></th>\n",
       "      <th>NCD_0</th>\n",
       "      <th>NCD_1</th>\n",
       "      <th>NCD_2</th>\n",
       "      <th>NCD_3</th>\n",
       "      <th>NCD_4</th>\n",
       "      <th>NCD_5</th>\n",
       "      <th>NCD_6</th>\n",
       "      <th>AI_0</th>\n",
       "      <th>AI_1</th>\n",
       "      <th>AI_2</th>\n",
       "      <th>...</th>\n",
       "      <th>ADL_5</th>\n",
       "      <th>ADL_6</th>\n",
       "      <th>NAD_0</th>\n",
       "      <th>NAD_1</th>\n",
       "      <th>NAD_2</th>\n",
       "      <th>NAD_3</th>\n",
       "      <th>NAD_4</th>\n",
       "      <th>NAD_5</th>\n",
       "      <th>NAD_6</th>\n",
       "      <th>BUZZ</th>\n",
       "    </tr>\n",
       "  </thead>\n",
       "  <tbody>\n",
       "    <tr>\n",
       "      <th>0</th>\n",
       "      <td>889</td>\n",
       "      <td>939</td>\n",
       "      <td>960</td>\n",
       "      <td>805</td>\n",
       "      <td>805</td>\n",
       "      <td>1143</td>\n",
       "      <td>1121</td>\n",
       "      <td>549</td>\n",
       "      <td>613</td>\n",
       "      <td>587</td>\n",
       "      <td>...</td>\n",
       "      <td>1.0</td>\n",
       "      <td>1.0</td>\n",
       "      <td>889</td>\n",
       "      <td>939</td>\n",
       "      <td>960</td>\n",
       "      <td>805</td>\n",
       "      <td>805</td>\n",
       "      <td>1143</td>\n",
       "      <td>1121</td>\n",
       "      <td>1.0</td>\n",
       "    </tr>\n",
       "    <tr>\n",
       "      <th>1</th>\n",
       "      <td>542</td>\n",
       "      <td>473</td>\n",
       "      <td>504</td>\n",
       "      <td>626</td>\n",
       "      <td>647</td>\n",
       "      <td>795</td>\n",
       "      <td>832</td>\n",
       "      <td>366</td>\n",
       "      <td>288</td>\n",
       "      <td>318</td>\n",
       "      <td>...</td>\n",
       "      <td>1.0</td>\n",
       "      <td>1.0</td>\n",
       "      <td>542</td>\n",
       "      <td>473</td>\n",
       "      <td>504</td>\n",
       "      <td>626</td>\n",
       "      <td>647</td>\n",
       "      <td>795</td>\n",
       "      <td>832</td>\n",
       "      <td>1.0</td>\n",
       "    </tr>\n",
       "    <tr>\n",
       "      <th>2</th>\n",
       "      <td>92</td>\n",
       "      <td>99</td>\n",
       "      <td>196</td>\n",
       "      <td>100</td>\n",
       "      <td>184</td>\n",
       "      <td>79</td>\n",
       "      <td>162</td>\n",
       "      <td>66</td>\n",
       "      <td>59</td>\n",
       "      <td>118</td>\n",
       "      <td>...</td>\n",
       "      <td>1.0</td>\n",
       "      <td>1.0</td>\n",
       "      <td>92</td>\n",
       "      <td>99</td>\n",
       "      <td>196</td>\n",
       "      <td>100</td>\n",
       "      <td>184</td>\n",
       "      <td>79</td>\n",
       "      <td>162</td>\n",
       "      <td>0.0</td>\n",
       "    </tr>\n",
       "    <tr>\n",
       "      <th>3</th>\n",
       "      <td>90</td>\n",
       "      <td>87</td>\n",
       "      <td>92</td>\n",
       "      <td>344</td>\n",
       "      <td>184</td>\n",
       "      <td>848</td>\n",
       "      <td>184</td>\n",
       "      <td>83</td>\n",
       "      <td>78</td>\n",
       "      <td>76</td>\n",
       "      <td>...</td>\n",
       "      <td>1.0</td>\n",
       "      <td>1.0</td>\n",
       "      <td>90</td>\n",
       "      <td>87</td>\n",
       "      <td>92</td>\n",
       "      <td>344</td>\n",
       "      <td>184</td>\n",
       "      <td>848</td>\n",
       "      <td>184</td>\n",
       "      <td>1.0</td>\n",
       "    </tr>\n",
       "    <tr>\n",
       "      <th>4</th>\n",
       "      <td>169</td>\n",
       "      <td>98</td>\n",
       "      <td>101</td>\n",
       "      <td>90</td>\n",
       "      <td>96</td>\n",
       "      <td>95</td>\n",
       "      <td>185</td>\n",
       "      <td>141</td>\n",
       "      <td>68</td>\n",
       "      <td>85</td>\n",
       "      <td>...</td>\n",
       "      <td>1.0</td>\n",
       "      <td>1.0</td>\n",
       "      <td>169</td>\n",
       "      <td>98</td>\n",
       "      <td>101</td>\n",
       "      <td>90</td>\n",
       "      <td>96</td>\n",
       "      <td>95</td>\n",
       "      <td>185</td>\n",
       "      <td>1.0</td>\n",
       "    </tr>\n",
       "  </tbody>\n",
       "</table>\n",
       "<p>5 rows × 78 columns</p>\n",
       "</div>"
      ],
      "text/plain": [
       "   NCD_0  NCD_1  NCD_2  NCD_3  NCD_4  NCD_5  NCD_6  AI_0  AI_1  AI_2  ...   \\\n",
       "0    889    939    960    805    805   1143   1121   549   613   587  ...    \n",
       "1    542    473    504    626    647    795    832   366   288   318  ...    \n",
       "2     92     99    196    100    184     79    162    66    59   118  ...    \n",
       "3     90     87     92    344    184    848    184    83    78    76  ...    \n",
       "4    169     98    101     90     96     95    185   141    68    85  ...    \n",
       "\n",
       "   ADL_5  ADL_6  NAD_0  NAD_1  NAD_2  NAD_3  NAD_4  NAD_5  NAD_6  BUZZ  \n",
       "0    1.0    1.0    889    939    960    805    805   1143   1121   1.0  \n",
       "1    1.0    1.0    542    473    504    626    647    795    832   1.0  \n",
       "2    1.0    1.0     92     99    196    100    184     79    162   0.0  \n",
       "3    1.0    1.0     90     87     92    344    184    848    184   1.0  \n",
       "4    1.0    1.0    169     98    101     90     96     95    185   1.0  \n",
       "\n",
       "[5 rows x 78 columns]"
      ]
     },
     "execution_count": 8,
     "metadata": {},
     "output_type": "execute_result"
    }
   ],
   "source": [
    "data.head()"
   ]
  },
  {
   "cell_type": "markdown",
   "metadata": {},
   "source": [
    "###### Checking for null values"
   ]
  },
  {
   "cell_type": "code",
   "execution_count": 9,
   "metadata": {},
   "outputs": [
    {
     "data": {
      "text/plain": [
       "BUZZ         0\n",
       "NAC_0        0\n",
       "BL_0         0\n",
       "BL_1         0\n",
       "BL_2         0\n",
       "BL_3         0\n",
       "BL_4         0\n",
       "BL_5         0\n",
       "BL_6         0\n",
       "NAC_1        0\n",
       "AS(NA)_5     0\n",
       "NAC_2        0\n",
       "NAC_3        0\n",
       "NAC_4        0\n",
       "NAC_5        0\n",
       "NAC_6        0\n",
       "AS(NAC)_0    0\n",
       "AS(NAC)_1    0\n",
       "AS(NA)_6     0\n",
       "AS(NA)_4     0\n",
       "NAD_6        0\n",
       "AI_1         0\n",
       "NCD_1        0\n",
       "NCD_2        0\n",
       "NCD_3        0\n",
       "NCD_4        0\n",
       "NCD_5        0\n",
       "NCD_6        0\n",
       "AI_0         0\n",
       "AI_2         0\n",
       "            ..\n",
       "ADL_3        0\n",
       "ADL_5        0\n",
       "AS(NAC)_5    0\n",
       "ADL_6        0\n",
       "NAD_0        0\n",
       "NAD_1        0\n",
       "NAD_2        0\n",
       "NAD_3        0\n",
       "NAD_4        0\n",
       "NAD_5        0\n",
       "NA_3         0\n",
       "NA_2         0\n",
       "NA_1         0\n",
       "NA_0         0\n",
       "AS(NAC)_6    0\n",
       "CS_0         0\n",
       "CS_1         0\n",
       "CS_2         0\n",
       "CS_3         0\n",
       "CS_4         0\n",
       "CS_5         0\n",
       "CS_6         0\n",
       "AT_0         0\n",
       "AT_1         0\n",
       "AT_2         0\n",
       "AT_3         0\n",
       "AT_4         0\n",
       "AT_5         0\n",
       "AT_6         0\n",
       "NCD_0        0\n",
       "Length: 78, dtype: int64"
      ]
     },
     "execution_count": 9,
     "metadata": {},
     "output_type": "execute_result"
    }
   ],
   "source": [
    "data.isnull().sum().sort_values(ascending=False)"
   ]
  },
  {
   "cell_type": "markdown",
   "metadata": {},
   "source": [
    "###### Splitting data into X and y "
   ]
  },
  {
   "cell_type": "code",
   "execution_count": 10,
   "metadata": {
    "collapsed": true
   },
   "outputs": [],
   "source": [
    "y=data['BUZZ']\n",
    "X=data[[\"NCD_0\",\"NCD_1\",\"NCD_2\",\"NCD_3\",\"NCD_4\",\"NCD_5\",\"NCD_6\",\"AI_0\",\"AI_1\",\"AI_2\",\"AI_3\",\"AI_4\",\"AI_5\",\"AI_6\",\"AS(NA)_0\",\"AS(NA)_1\",\"AS(NA)_2\",\"AS(NA)_3\",\"AS(NA)_4\",\"AS(NA)_5\",\"AS(NA)_6\",\"BL_0\",\"BL_1\",\"BL_2\",\"BL_3\",\"BL_4\",\"BL_5\",\"BL_6\",\"NAC_0\",\"NAC_1\",\"NAC_2\",\"NAC_3\",\"NAC_4\",\"NAC_5\",\"NAC_6\",\"AS(NAC)_0\",\"AS(NAC)_1\",\"AS(NAC)_2\",\"AS(NAC)_3\",\"AS(NAC)_4\",\"AS(NAC)_5\",\"AS(NAC)_6\",\"CS_0\",\"CS_1\",\"CS_2\",\"CS_3\",\"CS_4\",\"CS_5\",\"CS_6\",\"AT_0\",\"AT_1\",\"AT_2\",\"AT_3\",\"AT_4\",\"AT_5\",\"AT_6\",\"NA_0\",\"NA_1\",\"NA_2\",\"NA_3\",\"NA_4\",\"NA_5\",\"NA_6\",\"ADL_0\",\"ADL_1\",\"ADL_2\",\"ADL_3\",\"ADL_4\",\"ADL_5\",\"ADL_6\",\"NAD_0\",\"NAD_1\",\"NAD_2\",\"NAD_3\",\"NAD_4\",\"NAD_5\",\"NAD_6\"]]"
   ]
  },
  {
   "cell_type": "markdown",
   "metadata": {},
   "source": [
    "###### The below value shows that this dataset is bias. Which means accuracy may not a be good evaluation function. For the rest of this project we consider 'AUC' as a scoring function."
   ]
  },
  {
   "cell_type": "code",
   "execution_count": 11,
   "metadata": {},
   "outputs": [
    {
     "data": {
      "text/plain": [
       "0.19739600730596205"
      ]
     },
     "execution_count": 11,
     "metadata": {},
     "output_type": "execute_result"
    }
   ],
   "source": [
    "y.sum()/y.count()"
   ]
  },
  {
   "cell_type": "code",
   "execution_count": 12,
   "metadata": {
    "collapsed": true
   },
   "outputs": [],
   "source": [
    "X_train_org_full, X_test_org_full, y_train_full, y_test_full = train_test_split(X,y,test_size=.2,random_state=0)"
   ]
  },
  {
   "cell_type": "code",
   "execution_count": 11,
   "metadata": {
    "collapsed": true
   },
   "outputs": [],
   "source": [
    "_, sample_data, _, sample_target = train_test_split(X, y, shuffle = True, test_size = 0.1)"
   ]
  },
  {
   "cell_type": "code",
   "execution_count": 12,
   "metadata": {},
   "outputs": [
    {
     "data": {
      "text/plain": [
       "(14071, 77)"
      ]
     },
     "execution_count": 12,
     "metadata": {},
     "output_type": "execute_result"
    }
   ],
   "source": [
    "sample_data.shape"
   ]
  },
  {
   "cell_type": "code",
   "execution_count": 13,
   "metadata": {},
   "outputs": [
    {
     "data": {
      "text/plain": [
       "(14071,)"
      ]
     },
     "execution_count": 13,
     "metadata": {},
     "output_type": "execute_result"
    }
   ],
   "source": [
    "sample_target.shape"
   ]
  },
  {
   "cell_type": "code",
   "execution_count": 12,
   "metadata": {
    "collapsed": true
   },
   "outputs": [],
   "source": [
    "X_train_org, X_test_org, y_train, y_test = train_test_split(sample_data,sample_target,test_size=.2,random_state=0)"
   ]
  },
  {
   "cell_type": "markdown",
   "metadata": {},
   "source": [
    "###### Scaling Data"
   ]
  },
  {
   "cell_type": "code",
   "execution_count": 13,
   "metadata": {
    "collapsed": true
   },
   "outputs": [],
   "source": [
    "sc = MinMaxScaler()\n",
    "X_train = sc.fit_transform(X_train_org)\n",
    "X_test = sc.transform(X_test_org)"
   ]
  },
  {
   "cell_type": "code",
   "execution_count": 136,
   "metadata": {},
   "outputs": [
    {
     "data": {
      "text/plain": [
       "(11256, 77)"
      ]
     },
     "execution_count": 136,
     "metadata": {},
     "output_type": "execute_result"
    }
   ],
   "source": [
    "X_train.shape"
   ]
  },
  {
   "cell_type": "code",
   "execution_count": 137,
   "metadata": {},
   "outputs": [
    {
     "data": {
      "text/plain": [
       "(2815, 77)"
      ]
     },
     "execution_count": 137,
     "metadata": {},
     "output_type": "execute_result"
    }
   ],
   "source": [
    "X_test.shape"
   ]
  },
  {
   "cell_type": "code",
   "execution_count": 18,
   "metadata": {
    "collapsed": true
   },
   "outputs": [],
   "source": [
    "sc1 = MinMaxScaler()\n",
    "X_train_full = sc1.fit_transform(X_train_org_full)\n",
    "X_test_full = sc1.transform(X_test_org_full)"
   ]
  },
  {
   "cell_type": "markdown",
   "metadata": {},
   "source": [
    "### Voting Classifiers"
   ]
  },
  {
   "cell_type": "code",
   "execution_count": 16,
   "metadata": {},
   "outputs": [
    {
     "data": {
      "text/plain": [
       "DecisionTreeClassifier(class_weight=None, criterion='entropy', max_depth=8,\n",
       "            max_features='auto', max_leaf_nodes=10,\n",
       "            min_impurity_decrease=0.01, min_impurity_split=None,\n",
       "            min_samples_leaf=2, min_samples_split=4,\n",
       "            min_weight_fraction_leaf=0.0, presort=False, random_state=None,\n",
       "            splitter='best')"
      ]
     },
     "execution_count": 16,
     "metadata": {},
     "output_type": "execute_result"
    }
   ],
   "source": [
    "log_clf = LogisticRegression(C = 10, penalty = 'l1')\n",
    "log_clf.fit(X_train, y_train)\n",
    "knn_clf = KNeighborsClassifier(n_neighbors=50)\n",
    "knn_clf.fit(X_train, y_train)\n",
    "svm_clf = SVC(C = 100, gamma = 0.1, probability = True)\n",
    "svm_clf.fit(X_train, y_train)\n",
    "dtree_clf = DecisionTreeClassifier(criterion= 'entropy', max_depth= 8, max_features= 'auto', max_leaf_nodes= 10, min_impurity_decrease= 0.01, min_samples_leaf= 2, min_samples_split= 4)\n",
    "dtree_clf.fit(X_train, y_train)"
   ]
  },
  {
   "cell_type": "code",
   "execution_count": 21,
   "metadata": {},
   "outputs": [
    {
     "data": {
      "text/plain": [
       "VotingClassifier(estimators=[('lr', LogisticRegression(C=10, class_weight=None, dual=False, fit_intercept=True,\n",
       "          intercept_scaling=1, max_iter=100, multi_class='ovr', n_jobs=1,\n",
       "          penalty='l1', random_state=None, solver='liblinear', tol=0.0001,\n",
       "          verbose=0, warm_start=False)), ('knn', KNeighborsClassifier(algorithm='auto', leaf_size=30, metric='minkowski',\n",
       "           metric_params=None, n_jobs=1, n_neighbors=50, p=2,\n",
       "           weights='uniform'))],\n",
       "         flatten_transform=None, n_jobs=1, voting='hard', weights=None)"
      ]
     },
     "execution_count": 21,
     "metadata": {},
     "output_type": "execute_result"
    }
   ],
   "source": [
    "voting_clf = VotingClassifier(estimators=[('lr', log_clf), ('knn', knn_clf)], voting='hard')\n",
    "voting_clf.fit(X_train, y_train)"
   ]
  },
  {
   "cell_type": "code",
   "execution_count": 22,
   "metadata": {
    "scrolled": true
   },
   "outputs": [
    {
     "data": {
      "text/plain": [
       "VotingClassifier(estimators=[('dtree', DecisionTreeClassifier(class_weight=None, criterion='entropy', max_depth=8,\n",
       "            max_features='auto', max_leaf_nodes=10,\n",
       "            min_impurity_decrease=0.01, min_impurity_split=None,\n",
       "            min_samples_leaf=2, min_samples_split=4,\n",
       "            min_weight_fraction_...',\n",
       "  max_iter=-1, probability=True, random_state=None, shrinking=True,\n",
       "  tol=0.001, verbose=False))],\n",
       "         flatten_transform=None, n_jobs=1, voting='soft', weights=[2, 1])"
      ]
     },
     "execution_count": 22,
     "metadata": {},
     "output_type": "execute_result"
    }
   ],
   "source": [
    "voting_clf2 = VotingClassifier(estimators=[('dtree', dtree_clf), ('svc', svm_clf)], voting='soft',weights=[2, 1])\n",
    "voting_clf2.fit(X_train, y_train)"
   ]
  },
  {
   "cell_type": "code",
   "execution_count": 207,
   "metadata": {
    "scrolled": false
   },
   "outputs": [
    {
     "name": "stdout",
     "output_type": "stream",
     "text": [
      "LogisticRegression\n",
      "0.9662522202486679 0.9382025831140876\n",
      "             precision    recall  f1-score   support\n",
      "\n",
      "        0.0       0.98      0.97      0.98      2285\n",
      "        1.0       0.89      0.93      0.91       530\n",
      "\n",
      "avg / total       0.97      0.97      0.97      2815\n",
      "\n",
      "KNeighborsClassifier\n",
      "0.9566607460035524 0.9179562305668502\n",
      "             precision    recall  f1-score   support\n",
      "\n",
      "        0.0       0.98      0.96      0.97      2300\n",
      "        1.0       0.85      0.92      0.89       515\n",
      "\n",
      "avg / total       0.96      0.96      0.96      2815\n",
      "\n",
      "DecisionTreeClassifier\n",
      "0.9509769094138544 0.9348062664434347\n",
      "             precision    recall  f1-score   support\n",
      "\n",
      "        0.0       0.96      0.98      0.97      2224\n",
      "        1.0       0.91      0.85      0.88       591\n",
      "\n",
      "avg / total       0.95      0.95      0.95      2815\n",
      "\n",
      "SVC\n",
      "0.9651865008880994 0.9354998804113849\n",
      "             precision    recall  f1-score   support\n",
      "\n",
      "        0.0       0.98      0.97      0.98      2288\n",
      "        1.0       0.89      0.93      0.91       527\n",
      "\n",
      "avg / total       0.97      0.97      0.97      2815\n",
      "\n",
      "VotingClassifier\n",
      "0.955595026642984 0.9091365701985171\n",
      "             precision    recall  f1-score   support\n",
      "\n",
      "        0.0       0.99      0.96      0.97      2321\n",
      "        1.0       0.83      0.94      0.88       494\n",
      "\n",
      "avg / total       0.96      0.96      0.96      2815\n",
      "\n",
      "VotingClassifier\n",
      "0.9673179396092363 0.944983257593877\n",
      "             precision    recall  f1-score   support\n",
      "\n",
      "        0.0       0.98      0.98      0.98      2270\n",
      "        1.0       0.91      0.92      0.92       545\n",
      "\n",
      "avg / total       0.97      0.97      0.97      2815\n",
      "\n"
     ]
    }
   ],
   "source": [
    "from sklearn.metrics import accuracy_score\n",
    "for clf in (log_clf, knn_clf, dtree_clf, svm_clf, voting_clf, voting_clf2):\n",
    "    clf.fit(X_train, y_train)\n",
    "    y_pred = clf.predict(X_test)\n",
    "    print(clf.__class__.__name__)\n",
    "    print(accuracy_score(y_test, y_pred), roc_auc_score(y_test, y_pred))\n",
    "    print(metrics.classification_report(y_pred, y_test))"
   ]
  },
  {
   "cell_type": "markdown",
   "metadata": {},
   "source": [
    "###### ROC Curve for voting classifiers"
   ]
  },
  {
   "cell_type": "code",
   "execution_count": 234,
   "metadata": {
    "collapsed": true
   },
   "outputs": [],
   "source": [
    "y_pred2 = voting_clf2.predict_proba(X_test)[:, 1]\n",
    "fpr2, tpr2, thresholds2 = roc_curve(y_test, y_pred2)\n",
    "auc2 = auc(fpr2, tpr2)"
   ]
  },
  {
   "cell_type": "code",
   "execution_count": 235,
   "metadata": {},
   "outputs": [
    {
     "data": {
      "image/png": "[encoded data removed]",
      "text/plain": [
       "<Figure size 432x288 with 1 Axes>"
      ]
     },
     "metadata": {},
     "output_type": "display_data"
    }
   ],
   "source": [
    "plt.figure(1)\n",
    "plt.plot([0, 1], [0, 1], 'k--')\n",
    "plt.plot(fpr_dtree2, tpr_dtree2, label='Soft Voting  (area = {:.3f})'.format(auc2))\n",
    "plt.xlabel('False positive rate')\n",
    "plt.ylabel('True positive rate')\n",
    "plt.title('ROC curve')\n",
    "plt.legend(loc='best')\n",
    "plt.show()"
   ]
  },
  {
   "cell_type": "code",
   "execution_count": 236,
   "metadata": {},
   "outputs": [
    {
     "data": {
      "image/png": "[encoded data removed]",
      "text/plain": [
       "<Figure size 432x288 with 1 Axes>"
      ]
     },
     "metadata": {},
     "output_type": "display_data"
    }
   ],
   "source": [
    "# Zoom in view of the upper left corner.\n",
    "plt.figure(2)\n",
    "plt.xlim(0, 0.2)\n",
    "plt.ylim(0.8, 1)\n",
    "plt.plot([0, 1], [0, 1], 'k--')\n",
    "plt.plot(fpr_dtree2, tpr_dtree2, label='Soft Voting  (area = {:.3f})'.format(auc2))\n",
    "plt.xlabel('False positive rate')\n",
    "plt.ylabel('True positive rate')\n",
    "plt.title('ROC curve (zoomed in at top left)')\n",
    "plt.legend(loc='best')\n",
    "plt.show()"
   ]
  },
  {
   "cell_type": "markdown",
   "metadata": {},
   "source": [
    "### Bagging and Pasting"
   ]
  },
  {
   "cell_type": "code",
   "execution_count": 24,
   "metadata": {
    "collapsed": true
   },
   "outputs": [],
   "source": [
    "from sklearn.ensemble import BaggingClassifier\n",
    "\n",
    "bag_clf = BaggingClassifier(dtree_clf, n_estimators=500, max_samples=100,bootstrap=True, random_state=0)\n",
    "\n",
    "bag_clf.fit(X_train, y_train)\n",
    "y_pred_dtree = bag_clf.predict(X_test)"
   ]
  },
  {
   "cell_type": "code",
   "execution_count": 25,
   "metadata": {},
   "outputs": [
    {
     "data": {
      "text/plain": [
       "0.9602878464818764"
      ]
     },
     "execution_count": 25,
     "metadata": {},
     "output_type": "execute_result"
    }
   ],
   "source": [
    "bag_clf.score(X_train, y_train)"
   ]
  },
  {
   "cell_type": "code",
   "execution_count": 26,
   "metadata": {},
   "outputs": [
    {
     "data": {
      "text/plain": [
       "0.9648312611012433"
      ]
     },
     "execution_count": 26,
     "metadata": {},
     "output_type": "execute_result"
    }
   ],
   "source": [
    "accuracy_score(y_test, y_pred_dtree)"
   ]
  },
  {
   "cell_type": "code",
   "execution_count": 199,
   "metadata": {},
   "outputs": [
    {
     "data": {
      "text/plain": [
       "0.938587377110264"
      ]
     },
     "execution_count": 199,
     "metadata": {},
     "output_type": "execute_result"
    }
   ],
   "source": [
    "roc_auc_score(y_pred_dtree,y_test)"
   ]
  },
  {
   "cell_type": "code",
   "execution_count": 208,
   "metadata": {},
   "outputs": [
    {
     "name": "stdout",
     "output_type": "stream",
     "text": [
      "             precision    recall  f1-score   support\n",
      "\n",
      "        0.0       0.98      0.98      0.98      2259\n",
      "        1.0       0.90      0.90      0.90       556\n",
      "\n",
      "avg / total       0.96      0.96      0.96      2815\n",
      "\n"
     ]
    }
   ],
   "source": [
    " print(metrics.classification_report(y_pred_dtree, y_test))"
   ]
  },
  {
   "cell_type": "code",
   "execution_count": 27,
   "metadata": {
    "collapsed": true
   },
   "outputs": [],
   "source": [
    "bag_clf2 = BaggingClassifier(svm_clf, n_estimators=500, max_samples=100, bootstrap=True, random_state=0)\n",
    "\n",
    "bag_clf2.fit(X_train, y_train)\n",
    "y_pred_svm = bag_clf2.predict(X_test)"
   ]
  },
  {
   "cell_type": "code",
   "execution_count": 28,
   "metadata": {},
   "outputs": [
    {
     "data": {
      "text/plain": [
       "0.945184790334044"
      ]
     },
     "execution_count": 28,
     "metadata": {},
     "output_type": "execute_result"
    }
   ],
   "source": [
    "bag_clf2.score(X_train, y_train)"
   ]
  },
  {
   "cell_type": "code",
   "execution_count": 29,
   "metadata": {},
   "outputs": [
    {
     "data": {
      "text/plain": [
       "0.9502664298401421"
      ]
     },
     "execution_count": 29,
     "metadata": {},
     "output_type": "execute_result"
    }
   ],
   "source": [
    "accuracy_score(y_test, y_pred_svm)"
   ]
  },
  {
   "cell_type": "code",
   "execution_count": 204,
   "metadata": {
    "collapsed": true
   },
   "outputs": [],
   "source": [
    "from sklearn import metrics"
   ]
  },
  {
   "cell_type": "code",
   "execution_count": 205,
   "metadata": {},
   "outputs": [
    {
     "name": "stdout",
     "output_type": "stream",
     "text": [
      "             precision    recall  f1-score   support\n",
      "\n",
      "        0.0       1.00      0.80      0.89      2815\n",
      "        1.0       0.00      0.00      0.00         0\n",
      "\n",
      "avg / total       1.00      0.80      0.89      2815\n",
      "\n"
     ]
    }
   ],
   "source": [
    "print(metrics.classification_report(y_pred_svm, y_test))"
   ]
  },
  {
   "cell_type": "code",
   "execution_count": 30,
   "metadata": {
    "collapsed": true
   },
   "outputs": [],
   "source": [
    "pasting_clf = BaggingClassifier(knn_clf, n_estimators=500, max_samples=100, bootstrap=False, random_state=0)\n",
    "\n",
    "pasting_clf.fit(X_train, y_train)\n",
    "y_pred_knn= pasting_clf.predict(X_test)"
   ]
  },
  {
   "cell_type": "code",
   "execution_count": 31,
   "metadata": {},
   "outputs": [
    {
     "data": {
      "text/plain": [
       "0.8068585643212509"
      ]
     },
     "execution_count": 31,
     "metadata": {},
     "output_type": "execute_result"
    }
   ],
   "source": [
    "pasting_clf.score(X_train, y_train)"
   ]
  },
  {
   "cell_type": "code",
   "execution_count": 32,
   "metadata": {},
   "outputs": [
    {
     "data": {
      "text/plain": [
       "0.8028419182948491"
      ]
     },
     "execution_count": 32,
     "metadata": {},
     "output_type": "execute_result"
    }
   ],
   "source": [
    "accuracy_score(y_test, y_pred_knn)"
   ]
  },
  {
   "cell_type": "code",
   "execution_count": 209,
   "metadata": {},
   "outputs": [
    {
     "name": "stdout",
     "output_type": "stream",
     "text": [
      "             precision    recall  f1-score   support\n",
      "\n",
      "        0.0       1.00      0.80      0.89      2815\n",
      "        1.0       0.00      0.00      0.00         0\n",
      "\n",
      "avg / total       1.00      0.80      0.89      2815\n",
      "\n"
     ]
    }
   ],
   "source": [
    " print(metrics.classification_report(y_pred_knn, y_test))"
   ]
  },
  {
   "cell_type": "code",
   "execution_count": 33,
   "metadata": {
    "collapsed": true
   },
   "outputs": [],
   "source": [
    "pasting_clf2 = BaggingClassifier(log_clf, n_estimators=500, max_samples=100, bootstrap=False, random_state=0)\n",
    "\n",
    "pasting_clf2.fit(X_train, y_train)\n",
    "y_pred_log = pasting_clf2.predict(X_test)"
   ]
  },
  {
   "cell_type": "code",
   "execution_count": 34,
   "metadata": {},
   "outputs": [
    {
     "data": {
      "text/plain": [
       "0.9388770433546553"
      ]
     },
     "execution_count": 34,
     "metadata": {},
     "output_type": "execute_result"
    }
   ],
   "source": [
    "pasting_clf2.score(X_train, y_train)"
   ]
  },
  {
   "cell_type": "code",
   "execution_count": 35,
   "metadata": {},
   "outputs": [
    {
     "data": {
      "text/plain": [
       "0.9403197158081705"
      ]
     },
     "execution_count": 35,
     "metadata": {},
     "output_type": "execute_result"
    }
   ],
   "source": [
    "accuracy_score(y_test, y_pred_log)"
   ]
  },
  {
   "cell_type": "code",
   "execution_count": 197,
   "metadata": {
    "scrolled": true
   },
   "outputs": [
    {
     "data": {
      "text/plain": [
       "0.9519967218601124"
      ]
     },
     "execution_count": 197,
     "metadata": {},
     "output_type": "execute_result"
    }
   ],
   "source": [
    "roc_auc_score(y_pred_log,y_test)"
   ]
  },
  {
   "cell_type": "code",
   "execution_count": 210,
   "metadata": {
    "scrolled": true
   },
   "outputs": [
    {
     "name": "stdout",
     "output_type": "stream",
     "text": [
      "             precision    recall  f1-score   support\n",
      "\n",
      "        0.0       0.99      0.94      0.96      2402\n",
      "        1.0       0.72      0.97      0.83       413\n",
      "\n",
      "avg / total       0.95      0.94      0.94      2815\n",
      "\n"
     ]
    }
   ],
   "source": [
    "print(metrics.classification_report(y_pred_log, y_test))"
   ]
  },
  {
   "cell_type": "code",
   "execution_count": 222,
   "metadata": {
    "collapsed": true
   },
   "outputs": [],
   "source": [
    "y_pred_svm2 = bag_clf2.predict_proba(X_test)[:, 1]\n",
    "fpr_svm2, tpr_svm2, thresholds_svm2 = roc_curve(y_test, y_pred_svm2)\n",
    "auc_svm2 = auc(fpr_svm2, tpr_svm2)"
   ]
  },
  {
   "cell_type": "code",
   "execution_count": 223,
   "metadata": {
    "collapsed": true
   },
   "outputs": [],
   "source": [
    "y_pred_dtree2 = bag_clf.predict_proba(X_test)[:, 1]\n",
    "fpr_dtree2, tpr_dtree2, thresholds_dtree2 = roc_curve(y_test, y_pred_dtree2)\n",
    "auc_dtree2 = auc(fpr_dtree2, tpr_dtree2)"
   ]
  },
  {
   "cell_type": "code",
   "execution_count": 224,
   "metadata": {
    "collapsed": true
   },
   "outputs": [],
   "source": [
    "y_pred_log2 = pasting_clf2.predict_proba(X_test)[:, 1]\n",
    "fpr_log2, tpr_log2, thresholds_log2 = roc_curve(y_test, y_pred_log2)\n",
    "auc_log2 = auc(fpr_log2, tpr_log2)"
   ]
  },
  {
   "cell_type": "code",
   "execution_count": 225,
   "metadata": {
    "collapsed": true
   },
   "outputs": [],
   "source": [
    "y_pred_knn2 = pasting_clf.predict_proba(X_test)[:, 1]\n",
    "fpr_knn2, tpr_knn2, thresholds_knn2 = roc_curve(y_test, y_pred_knn2)\n",
    "auc_knn2 = auc(fpr_knn2, tpr_knn2)"
   ]
  },
  {
   "cell_type": "code",
   "execution_count": 226,
   "metadata": {},
   "outputs": [
    {
     "data": {
      "image/png": "[encoded data removed]",
      "text/plain": [
       "<Figure size 432x288 with 1 Axes>"
      ]
     },
     "metadata": {},
     "output_type": "display_data"
    }
   ],
   "source": [
    "plt.figure(1)\n",
    "plt.plot([0, 1], [0, 1], 'k--')\n",
    "plt.plot(fpr_dtree2, tpr_dtree2, label='Bagging with decision tree  (area = {:.3f})'.format(auc_dtree2))\n",
    "plt.plot(fpr_svm2, tpr_svm2, label='Bagging with SVM (area = {:.3f})'.format(auc_svm2))\n",
    "plt.plot(fpr_log2, tpr_log2, label='Pasting with logistic regression  (area = {:.3f})'.format(auc_log2))\n",
    "plt.plot(fpr_knn2, tpr_knn2, label='Pasting with knn (area = {:.3f})'.format(auc_knn2))\n",
    "plt.xlabel('False positive rate')\n",
    "plt.ylabel('True positive rate')\n",
    "plt.title('ROC curve')\n",
    "plt.legend(loc='best')\n",
    "plt.show()"
   ]
  },
  {
   "cell_type": "code",
   "execution_count": 227,
   "metadata": {},
   "outputs": [
    {
     "data": {
      "image/png": "[encoded data removed]",
      "text/plain": [
       "<Figure size 432x288 with 1 Axes>"
      ]
     },
     "metadata": {},
     "output_type": "display_data"
    }
   ],
   "source": [
    "# Zoom in view of the upper left corner.\n",
    "plt.figure(2)\n",
    "plt.xlim(0, 0.2)\n",
    "plt.ylim(0.8, 1)\n",
    "plt.plot([0, 1], [0, 1], 'k--')\n",
    "plt.plot(fpr_dtree2, tpr_dtree2, label='Bagging with decision tree  (area = {:.3f})'.format(auc_dtree2))\n",
    "plt.plot(fpr_svm2, tpr_svm2, label='Bagging with SVM (area = {:.3f})'.format(auc_svm2))\n",
    "plt.plot(fpr_log2, tpr_log2, label='Pasting with logistic regression  (area = {:.3f})'.format(auc_log2))\n",
    "plt.plot(fpr_knn2, tpr_knn2, label='Pasting with knn (area = {:.3f})'.format(auc_knn2))\n",
    "plt.xlabel('False positive rate')\n",
    "plt.ylabel('True positive rate')\n",
    "plt.title('ROC curve (zoomed in at top left)')\n",
    "plt.legend(loc='best')\n",
    "plt.show()"
   ]
  },
  {
   "cell_type": "markdown",
   "metadata": {},
   "source": [
    "### Adaboosting"
   ]
  },
  {
   "cell_type": "code",
   "execution_count": 17,
   "metadata": {},
   "outputs": [
    {
     "data": {
      "text/plain": [
       "AdaBoostClassifier(algorithm='SAMME.R',\n",
       "          base_estimator=DecisionTreeClassifier(class_weight=None, criterion='entropy', max_depth=8,\n",
       "            max_features='auto', max_leaf_nodes=10,\n",
       "            min_impurity_decrease=0.01, min_impurity_split=None,\n",
       "            min_samples_leaf=2, min_samples_split=4,\n",
       "            min_weight_fraction_leaf=0.0, presort=False, random_state=None,\n",
       "            splitter='best'),\n",
       "          learning_rate=1.0, n_estimators=50, random_state=None)"
      ]
     },
     "execution_count": 17,
     "metadata": {},
     "output_type": "execute_result"
    }
   ],
   "source": [
    "from sklearn.ensemble import AdaBoostClassifier\n",
    "\n",
    "ada_clf = AdaBoostClassifier(dtree_clf)\n",
    "ada_clf.fit(X_train, y_train)"
   ]
  },
  {
   "cell_type": "code",
   "execution_count": 18,
   "metadata": {
    "collapsed": true
   },
   "outputs": [],
   "source": [
    "y_pred_dtree = ada_clf.predict(X_test)"
   ]
  },
  {
   "cell_type": "code",
   "execution_count": 19,
   "metadata": {},
   "outputs": [
    {
     "data": {
      "text/plain": [
       "AdaBoostClassifier(algorithm='SAMME.R',\n",
       "          base_estimator=LogisticRegression(C=10, class_weight=None, dual=False, fit_intercept=True,\n",
       "          intercept_scaling=1, max_iter=100, multi_class='ovr', n_jobs=1,\n",
       "          penalty='l1', random_state=None, solver='liblinear', tol=0.0001,\n",
       "          verbose=0, warm_start=False),\n",
       "          learning_rate=1.0, n_estimators=50, random_state=None)"
      ]
     },
     "execution_count": 19,
     "metadata": {},
     "output_type": "execute_result"
    }
   ],
   "source": [
    "ada_clf2 = AdaBoostClassifier(log_clf)\n",
    "ada_clf2.fit(X_train, y_train)"
   ]
  },
  {
   "cell_type": "code",
   "execution_count": 20,
   "metadata": {
    "collapsed": true
   },
   "outputs": [],
   "source": [
    "y_pred_log = ada_clf2.predict(X_test)"
   ]
  },
  {
   "cell_type": "code",
   "execution_count": 21,
   "metadata": {
    "scrolled": false
   },
   "outputs": [
    {
     "name": "stdout",
     "output_type": "stream",
     "text": [
      "             precision    recall  f1-score   support\n",
      "\n",
      "        0.0       1.00      0.81      0.90      2815\n",
      "        1.0       0.00      0.00      0.00         0\n",
      "\n",
      "avg / total       1.00      0.81      0.90      2815\n",
      "\n"
     ]
    }
   ],
   "source": [
    "print(metrics.classification_report(y_pred_log, y_test))"
   ]
  },
  {
   "cell_type": "markdown",
   "metadata": {},
   "source": [
    "###### AdaBoosting Classifier with Decision Tree Features"
   ]
  },
  {
   "cell_type": "code",
   "execution_count": 22,
   "metadata": {
    "scrolled": true
   },
   "outputs": [
    {
     "data": {
      "image/png": "[encoded data removed]",
      "text/plain": [
       "<Figure size 864x432 with 1 Axes>"
      ]
     },
     "metadata": {},
     "output_type": "display_data"
    },
    {
     "data": {
      "text/plain": [
       "<Figure size 432x288 with 0 Axes>"
      ]
     },
     "metadata": {},
     "output_type": "display_data"
    }
   ],
   "source": [
    "feature_imp_ada = pd.DataFrame(sorted(zip(ada_clf.feature_importances_,X.columns)), columns=['Value','Feature'])\n",
    "plt.figure(figsize=(12,6))\n",
    "sns.barplot(x=\"Value\", y=\"Feature\", data=feature_imp_ada.sort_values(by=\"Value\", ascending=False).head(10))\n",
    "plt.title('AdaBoosting Classifier with Decision Tree Features')\n",
    "plt.tight_layout()\n",
    "plt.show()\n",
    "plt.savefig('ada_clf_importances-01.png')"
   ]
  },
  {
   "cell_type": "markdown",
   "metadata": {},
   "source": [
    "### GradientBoosting"
   ]
  },
  {
   "cell_type": "code",
   "execution_count": 16,
   "metadata": {},
   "outputs": [
    {
     "data": {
      "text/plain": [
       "GradientBoostingClassifier(criterion='friedman_mse', init=None,\n",
       "              learning_rate=1.0, loss='deviance', max_depth=2,\n",
       "              max_features=None, max_leaf_nodes=None,\n",
       "              min_impurity_decrease=0.0, min_impurity_split=None,\n",
       "              min_samples_leaf=1, min_samples_split=2,\n",
       "              min_weight_fraction_leaf=0.0, n_estimators=3, presort='auto',\n",
       "              random_state=0, subsample=1.0, verbose=0, warm_start=False)"
      ]
     },
     "execution_count": 16,
     "metadata": {},
     "output_type": "execute_result"
    }
   ],
   "source": [
    "gbrt = GradientBoostingClassifier(max_depth=2, n_estimators=3, learning_rate=1.0, random_state=0)\n",
    "gbrt.fit(X_train, y_train)"
   ]
  },
  {
   "cell_type": "code",
   "execution_count": 17,
   "metadata": {},
   "outputs": [
    {
     "data": {
      "text/plain": [
       "0.9685501066098081"
      ]
     },
     "execution_count": 17,
     "metadata": {},
     "output_type": "execute_result"
    }
   ],
   "source": [
    "gbrt.train_score_ \n",
    "gbrt.loss_\n",
    "gbrt.score(X_train, y_train) "
   ]
  },
  {
   "cell_type": "code",
   "execution_count": 18,
   "metadata": {
    "scrolled": true
   },
   "outputs": [
    {
     "data": {
      "text/plain": [
       "0.9517312043321835"
      ]
     },
     "execution_count": 18,
     "metadata": {},
     "output_type": "execute_result"
    }
   ],
   "source": [
    "# Evaluation of gbrt\n",
    "y_pred_gbrt=gbrt.predict(X_test) \n",
    "roc_auc_score(y_pred_gbrt,y_test)"
   ]
  },
  {
   "cell_type": "code",
   "execution_count": 21,
   "metadata": {
    "scrolled": true
   },
   "outputs": [
    {
     "name": "stdout",
     "output_type": "stream",
     "text": [
      "             precision    recall  f1-score   support\n",
      "\n",
      "        0.0       0.98      0.97      0.98      2299\n",
      "        1.0       0.88      0.93      0.90       516\n",
      "\n",
      "avg / total       0.97      0.96      0.96      2815\n",
      "\n"
     ]
    }
   ],
   "source": [
    "print(metrics.classification_report(y_pred_gbrt, y_test))"
   ]
  },
  {
   "cell_type": "code",
   "execution_count": 22,
   "metadata": {
    "collapsed": true
   },
   "outputs": [],
   "source": [
    "y_pred_gb = gbrt.predict_proba(X_test)[:, 1]\n",
    "fpr_gb, tpr_gb, thresholds_gb = roc_curve(y_test, y_pred_gb)\n",
    "auc_gb = auc(fpr_gb, tpr_gb)"
   ]
  },
  {
   "cell_type": "code",
   "execution_count": 239,
   "metadata": {
    "scrolled": true
   },
   "outputs": [
    {
     "data": {
      "image/png": "[encoded data removed]",
      "text/plain": [
       "<Figure size 432x288 with 1 Axes>"
      ]
     },
     "metadata": {},
     "output_type": "display_data"
    }
   ],
   "source": [
    "plt.figure(1)\n",
    "plt.plot([0, 1], [0, 1], 'k--')\n",
    "plt.plot(fpr_gb, tpr_gb, label='Gradient Boosting Classifier  (area = {:.3f})'.format(auc_gb))\n",
    "plt.xlabel('False positive rate')\n",
    "plt.ylabel('True positive rate')\n",
    "plt.title('ROC curve')\n",
    "plt.legend(loc='best')\n",
    "plt.show()"
   ]
  },
  {
   "cell_type": "code",
   "execution_count": 240,
   "metadata": {
    "scrolled": true
   },
   "outputs": [
    {
     "data": {
      "image/png": "[encoded data removed]",
      "text/plain": [
       "<Figure size 432x288 with 1 Axes>"
      ]
     },
     "metadata": {},
     "output_type": "display_data"
    }
   ],
   "source": [
    "# Zoom in view of the upper left corner.\n",
    "plt.figure(2)\n",
    "plt.xlim(0, 0.2)\n",
    "plt.ylim(0.8, 1)\n",
    "plt.plot([0, 1], [0, 1], 'k--')\n",
    "plt.plot(fpr_gb, tpr_gb, label='Gradient Boosting Classifier  (area = {:.3f})'.format(auc_gb))\n",
    "plt.xlabel('False positive rate')\n",
    "plt.ylabel('True positive rate')\n",
    "plt.title('ROC curve (zoomed in at top left)')\n",
    "plt.legend(loc='best')\n",
    "plt.show()"
   ]
  },
  {
   "cell_type": "code",
   "execution_count": 28,
   "metadata": {},
   "outputs": [
    {
     "data": {
      "image/png": "[encoded data removed]",
      "text/plain": [
       "<Figure size 1440x720 with 1 Axes>"
      ]
     },
     "metadata": {},
     "output_type": "display_data"
    },
    {
     "data": {
      "text/plain": [
       "<Figure size 432x288 with 0 Axes>"
      ]
     },
     "metadata": {},
     "output_type": "display_data"
    }
   ],
   "source": [
    "feature_imp_gb = pd.DataFrame(sorted(zip(gbrt.feature_importances_,X.columns)), columns=['Value','Feature'])\n",
    "plt.figure(figsize=(12,6))\n",
    "sns.barplot(x=\"Value\", y=\"Feature\", data=feature_imp_gb.sort_values(by=\"Value\", ascending=False).head(10))\n",
    "plt.title('Gradient Boosting Classifier Features')\n",
    "plt.tight_layout()\n",
    "plt.show()\n",
    "plt.savefig('gb_importances-01.png')"
   ]
  },
  {
   "cell_type": "markdown",
   "metadata": {},
   "source": [
    "### PCA"
   ]
  },
  {
   "cell_type": "code",
   "execution_count": 55,
   "metadata": {
    "scrolled": true
   },
   "outputs": [
    {
     "data": {
      "image/png": "[encoded data removed]",
      "text/plain": [
       "<Figure size 432x288 with 1 Axes>"
      ]
     },
     "metadata": {},
     "output_type": "display_data"
    }
   ],
   "source": [
    "pca = PCA().fit(X_train)\n",
    "plt.plot(np.cumsum(pca.explained_variance_ratio_))\n",
    "plt.xlabel('number of components')\n",
    "plt.ylabel('cumulative explained variance');"
   ]
  },
  {
   "cell_type": "markdown",
   "metadata": {},
   "source": [
    "###### We see that our two-dimensional projection loses a lot of information (as measured by the explained variance) and that we'd need about 5 components to retain 90% of the variance."
   ]
  },
  {
   "cell_type": "code",
   "execution_count": 56,
   "metadata": {
    "collapsed": true
   },
   "outputs": [],
   "source": [
    "pca = PCA(n_components=5)\n",
    "X_train_pca = pca.fit_transform(X_train)  \n",
    "X_test_pca = pca.transform(X_test)  "
   ]
  },
  {
   "cell_type": "code",
   "execution_count": 57,
   "metadata": {},
   "outputs": [
    {
     "name": "stdout",
     "output_type": "stream",
     "text": [
      "[[-1.19107993e-02 -1.20676871e-02 -1.59543710e-02 -1.34324721e-02\n",
      "  -1.42657494e-02 -1.41940736e-02 -7.77695033e-03 -1.68486708e-02\n",
      "  -1.81317261e-02 -1.82261226e-02 -1.83321067e-02 -1.88325065e-02\n",
      "  -1.65101282e-02 -8.93305922e-03 -1.39107637e-02 -1.34851820e-02\n",
      "  -1.14713708e-02 -1.48064299e-02 -1.53139294e-02 -1.36081177e-02\n",
      "  -1.28256264e-02 -2.49057964e-01 -1.85555911e-01 -3.76325385e-01\n",
      "  -3.36500304e-01 -3.16467154e-01 -1.89306511e-01 -9.11526165e-02\n",
      "  -1.19860320e-02 -1.19955400e-02 -1.60039184e-02 -1.32697810e-02\n",
      "  -1.40817269e-02 -1.44744505e-02 -7.97236369e-03 -1.44531499e-02\n",
      "  -1.39249169e-02 -1.17346148e-02 -1.13954731e-02 -1.42249179e-02\n",
      "  -1.39265523e-02 -1.22650520e-02 -2.46699068e-01 -1.84770851e-01\n",
      "  -3.76603878e-01 -3.36929477e-01 -3.16865518e-01 -1.89417950e-01\n",
      "  -8.89181124e-02 -6.62851316e-03 -9.40005517e-04 -4.38680237e-03\n",
      "  -3.39425972e-03 -3.96289531e-03 -6.64778351e-03 -5.04016343e-05\n",
      "  -1.55909794e-02 -1.47848050e-02 -1.57898066e-02 -1.66291533e-02\n",
      "  -1.51412377e-02 -1.51192677e-02 -8.59957429e-03 -6.72787477e-03\n",
      "  -9.44792741e-04 -4.42651386e-03 -3.15117735e-03 -4.03701290e-03\n",
      "  -3.82690630e-03  2.93316071e-04 -1.19237451e-02 -1.20760802e-02\n",
      "  -1.59782388e-02 -1.34533205e-02 -1.42747512e-02 -1.42112159e-02\n",
      "  -7.78839602e-03]\n",
      " [-1.87660303e-04 -1.61020315e-03 -3.32824111e-04 -3.55416179e-04\n",
      "  -7.81886849e-04 -8.47126985e-04 -3.97652101e-04 -3.81910844e-04\n",
      "  -2.50686972e-03 -5.86489101e-04 -8.24023601e-04 -1.29090568e-03\n",
      "  -1.16772833e-03 -5.40583549e-04  8.40204290e-06 -1.81755466e-03\n",
      "  -1.51503275e-04 -2.74473655e-04 -5.91275629e-04 -6.26514416e-04\n",
      "  -4.76894402e-04  4.59263048e-01 -5.15746177e-01  3.57622345e-03\n",
      "   1.48868425e-02 -4.08063265e-02 -1.07017747e-01  9.12576157e-02\n",
      "  -1.31722067e-04 -1.59913080e-03 -2.87498235e-04 -3.24713765e-04\n",
      "  -7.24755462e-04 -8.19937641e-04 -3.84044225e-04  5.61301847e-05\n",
      "  -1.85680715e-03 -1.47299804e-04 -1.35552425e-04 -4.54427314e-04\n",
      "  -5.81418675e-04 -4.28013576e-04  4.62359784e-01 -5.14849668e-01\n",
      "   2.29352621e-03  1.69349456e-02 -4.14993774e-02 -1.07718795e-01\n",
      "   9.24158883e-02  1.25505438e-02 -2.94724989e-03 -6.66020784e-05\n",
      "  -1.72864596e-04 -8.73274900e-04 -3.86870968e-03  1.47099462e-03\n",
      "  -1.42190406e-04 -1.99237513e-03 -2.33557560e-04 -4.41772295e-04\n",
      "  -8.18849954e-04 -8.83888037e-04 -4.00507279e-04  1.25736105e-02\n",
      "  -2.93412480e-03 -1.43263056e-04 -1.52322491e-04 -8.31091150e-04\n",
      "  -2.17365479e-03  1.91457224e-03 -1.85894400e-04 -1.60981928e-03\n",
      "  -3.34481237e-04 -3.54256152e-04 -7.79409655e-04 -8.46259474e-04\n",
      "  -3.97413462e-04]\n",
      " [-3.35215132e-03 -2.85649385e-03 -2.35621595e-03 -3.10187126e-03\n",
      "  -4.73407532e-03 -3.42465830e-03 -1.84898897e-03 -4.66207657e-03\n",
      "  -4.08923707e-03 -2.27629454e-03 -3.79548084e-03 -5.98382232e-03\n",
      "  -3.74795333e-03 -1.95542324e-03 -3.88282482e-03 -3.25200962e-03\n",
      "  -1.44958036e-03 -3.13356528e-03 -5.16883220e-03 -3.25416458e-03\n",
      "  -2.95612704e-03 -3.10666736e-02  2.04564070e-02  3.59636168e-01\n",
      "   1.37891966e-01 -5.91340703e-01  4.65827159e-02  1.90078985e-02\n",
      "  -3.42281348e-03 -2.83190796e-03 -2.27306843e-03 -3.04323488e-03\n",
      "  -4.70880598e-03 -3.46974634e-03 -1.89455557e-03 -4.01233016e-03\n",
      "  -3.30683157e-03 -1.55613668e-03 -2.44152703e-03 -4.84773140e-03\n",
      "  -3.31826852e-03 -2.80313846e-03 -3.07293480e-02  1.90749785e-02\n",
      "   3.57563910e-01  1.38223296e-01 -5.88662183e-01  4.57040552e-02\n",
      "   2.01285767e-02 -6.98062165e-04  5.78206554e-04  4.89164102e-03\n",
      "   7.87348030e-04 -7.87014429e-03  1.84945742e-03  7.00545225e-04\n",
      "  -4.46528991e-03 -3.58544185e-03 -2.14034782e-03 -3.74978808e-03\n",
      "  -5.07023625e-03 -3.61462102e-03 -2.03027163e-03 -6.51842356e-04\n",
      "   5.91919668e-04  4.94052250e-03  8.39654573e-04 -8.01313109e-03\n",
      "   6.75855251e-04  6.67743215e-04 -3.35356364e-03 -2.85750875e-03\n",
      "  -2.35734998e-03 -3.10168637e-03 -4.73547489e-03 -3.43167408e-03\n",
      "  -1.85190233e-03]\n",
      " [-1.83514158e-04 -3.52327153e-04 -1.79007739e-03  8.16007140e-04\n",
      "  -6.17062039e-04 -6.25608694e-04 -1.57442067e-04 -1.89725778e-04\n",
      "  -5.15576003e-04 -2.19526674e-03  1.19900200e-03 -9.37550617e-04\n",
      "  -6.98681440e-04 -1.11627897e-04 -5.47373003e-05 -5.70337922e-05\n",
      "  -1.39766990e-03  1.24917789e-03 -5.59435272e-04 -4.56714738e-04\n",
      "  -7.92159559e-05 -4.95528826e-02  2.61870918e-02 -3.25820062e-01\n",
      "   5.78822506e-01 -7.71452353e-02 -2.25877693e-01  1.94896546e-02\n",
      "  -1.04656132e-04 -2.69681977e-04 -1.80369203e-03  8.86353058e-04\n",
      "  -5.50905812e-04 -6.10874553e-04 -1.26592523e-04 -7.20644536e-05\n",
      "  -2.83953192e-05 -1.43704198e-03  9.54285984e-04 -4.93482036e-04\n",
      "  -4.66529541e-04 -1.24149460e-04 -5.07167843e-02  2.92697446e-02\n",
      "  -3.24494501e-01  5.77207892e-01 -7.42916568e-02 -2.24085803e-01\n",
      "   2.11889365e-02 -1.25592341e-03  6.70687086e-04 -3.41041098e-03\n",
      "   6.27088356e-03 -9.97910619e-04 -8.29453022e-03  1.02430333e-03\n",
      "  -1.10639297e-04 -2.99970062e-04 -1.83125940e-03  1.17811891e-03\n",
      "  -6.09848288e-04 -6.39112640e-04 -1.08636773e-04 -1.44337572e-03\n",
      "   7.09334021e-04 -3.36562213e-03  6.02610673e-03 -9.15840560e-04\n",
      "  -4.81808126e-03  1.31181739e-03 -1.81689018e-04 -3.49115346e-04\n",
      "  -1.79072357e-03  8.14859472e-04 -6.12814887e-04 -6.24913062e-04\n",
      "  -1.56636822e-04]\n",
      " [-4.32814739e-03 -4.00301993e-03 -4.49770825e-03 -4.60849802e-03\n",
      "  -4.40329714e-03 -5.51856226e-03 -2.44884763e-03 -5.81608231e-03\n",
      "  -5.39534373e-03 -4.26122272e-03 -5.90318460e-03 -5.45737013e-03\n",
      "  -5.94175356e-03 -2.49423536e-03 -4.90347761e-03 -4.26253231e-03\n",
      "  -2.86786912e-03 -4.83446954e-03 -4.40046561e-03 -5.25213685e-03\n",
      "  -3.70659649e-03 -1.01521701e-01  6.80046278e-02  2.50320641e-01\n",
      "  -8.88267147e-02  1.04206373e-01 -5.68698781e-01  2.85496098e-01\n",
      "  -4.40073693e-03 -3.97324194e-03 -4.45884303e-03 -4.54510481e-03\n",
      "  -4.32256550e-03 -5.64129264e-03 -2.49606155e-03 -5.17744668e-03\n",
      "  -4.54121836e-03 -3.08318042e-03 -3.81386696e-03 -4.16146814e-03\n",
      "  -5.46201769e-03 -3.59179694e-03 -1.02787446e-01  6.82484688e-02\n",
      "   2.47905593e-01 -9.06857440e-02  1.03066408e-01 -5.67307544e-01\n",
      "   2.82098702e-01 -3.58229410e-03 -2.36500483e-04  2.40701698e-03\n",
      "  -1.24759362e-03  8.61052462e-04 -2.19527471e-02  3.85221113e-03\n",
      "  -5.64979797e-03 -4.77048463e-03 -4.19767869e-03 -5.61317481e-03\n",
      "  -4.57014584e-03 -5.82288873e-03 -2.63097248e-03 -3.81448923e-03\n",
      "  -2.82231159e-04  2.41237187e-03 -1.07812236e-03  6.37461386e-04\n",
      "  -1.47135031e-02  4.07126352e-03 -4.33195384e-03 -4.00394866e-03\n",
      "  -4.50126447e-03 -4.61369636e-03 -4.40515927e-03 -5.52348229e-03\n",
      "  -2.45361781e-03]]\n"
     ]
    }
   ],
   "source": [
    "print(pca.components_)"
   ]
  },
  {
   "cell_type": "code",
   "execution_count": 58,
   "metadata": {},
   "outputs": [
    {
     "name": "stdout",
     "output_type": "stream",
     "text": [
      "[0.52267744 0.17922203 0.11103473 0.10570435 0.10123212]\n"
     ]
    }
   ],
   "source": [
    "print(pca.explained_variance_)"
   ]
  },
  {
   "cell_type": "markdown",
   "metadata": {},
   "source": [
    "###### variance ratios for each principal component"
   ]
  },
  {
   "cell_type": "code",
   "execution_count": 59,
   "metadata": {},
   "outputs": [
    {
     "data": {
      "text/plain": [
       "array([0.41726671, 0.14307751, 0.08864186, 0.08438648, 0.08081618])"
      ]
     },
     "execution_count": 59,
     "metadata": {},
     "output_type": "execute_result"
    }
   ],
   "source": [
    "explained_variance_ratio = pca.explained_variance_ratio_  \n",
    "explained_variance_ratio "
   ]
  },
  {
   "cell_type": "markdown",
   "metadata": {},
   "source": [
    "###### KNN"
   ]
  },
  {
   "cell_type": "code",
   "execution_count": 60,
   "metadata": {
    "collapsed": true
   },
   "outputs": [],
   "source": [
    "param_grid_knn = {'n_neighbors': [3,7,12,18,20,25,30,35,40,45,50]}"
   ]
  },
  {
   "cell_type": "code",
   "execution_count": 61,
   "metadata": {
    "collapsed": true
   },
   "outputs": [],
   "source": [
    "grid_search_knn = GridSearchCV(KNeighborsClassifier(), param_grid_knn, cv=5, return_train_score=True,scoring='roc_auc')"
   ]
  },
  {
   "cell_type": "code",
   "execution_count": 62,
   "metadata": {},
   "outputs": [
    {
     "data": {
      "text/plain": [
       "GridSearchCV(cv=5, error_score='raise',\n",
       "       estimator=KNeighborsClassifier(algorithm='auto', leaf_size=30, metric='minkowski',\n",
       "           metric_params=None, n_jobs=1, n_neighbors=5, p=2,\n",
       "           weights='uniform'),\n",
       "       fit_params=None, iid=True, n_jobs=1,\n",
       "       param_grid={'n_neighbors': [3, 7, 12, 18, 20, 25, 30, 35, 40, 45, 50]},\n",
       "       pre_dispatch='2*n_jobs', refit=True, return_train_score=True,\n",
       "       scoring='roc_auc', verbose=0)"
      ]
     },
     "execution_count": 62,
     "metadata": {},
     "output_type": "execute_result"
    }
   ],
   "source": [
    "grid_search_knn.fit(X_train, y_train)"
   ]
  },
  {
   "cell_type": "code",
   "execution_count": 63,
   "metadata": {},
   "outputs": [
    {
     "name": "stdout",
     "output_type": "stream",
     "text": [
      "Best parameters: {'n_neighbors': 40}\n",
      "Best cross-validation score: 0.98\n"
     ]
    }
   ],
   "source": [
    "print(\"Best parameters: {}\".format(grid_search_knn.best_params_))\n",
    "print(\"Best cross-validation score: {:.2f}\".format(grid_search_knn.best_score_))"
   ]
  },
  {
   "cell_type": "code",
   "execution_count": 64,
   "metadata": {
    "collapsed": true
   },
   "outputs": [],
   "source": [
    "train_score_array = []\n",
    "test_score_array = []\n",
    "\n",
    "for k in range(1,50):\n",
    "    knn = KNeighborsClassifier(k)\n",
    "    knn.fit(X_train, y_train)\n",
    "    train_score_array.append(knn.score(X_train, y_train))\n",
    "    test_score_array.append(knn.score(X_test, y_test))\n",
    "    x_axis = range(1,50)"
   ]
  },
  {
   "cell_type": "code",
   "execution_count": 65,
   "metadata": {},
   "outputs": [
    {
     "data": {
      "text/plain": [
       "<matplotlib.legend.Legend at 0x18e155ee080>"
      ]
     },
     "execution_count": 65,
     "metadata": {},
     "output_type": "execute_result"
    },
    {
     "data": {
      "image/png": "[encoded data removed]",
      "text/plain": [
       "<Figure size 432x288 with 1 Axes>"
      ]
     },
     "metadata": {},
     "output_type": "display_data"
    }
   ],
   "source": [
    "plt.plot(x_axis, train_score_array, label = 'Train Score', c = 'g')\n",
    "plt.plot(x_axis, test_score_array, label = 'Test Score', c='b')\n",
    "plt.xlabel('k')\n",
    "plt.ylabel('Accuracy')\n",
    "plt.legend()"
   ]
  },
  {
   "cell_type": "code",
   "execution_count": 66,
   "metadata": {
    "collapsed": true
   },
   "outputs": [],
   "source": [
    "y_knn_predict = grid_search_knn.predict(X_test)\n",
    "y_knn_train_predict = grid_search_knn.predict(X_train)"
   ]
  },
  {
   "cell_type": "code",
   "execution_count": 67,
   "metadata": {},
   "outputs": [
    {
     "data": {
      "image/png": "[encoded data removed]",
      "text/plain": [
       "<Figure size 360x360 with 2 Axes>"
      ]
     },
     "metadata": {},
     "output_type": "display_data"
    }
   ],
   "source": [
    "mat = confusion_matrix(y_test,y_knn_predict)\n",
    "plt.subplots(figsize = (5,5))\n",
    "sns.heatmap(mat, square=True, annot=True, cbar=True , cmap = 'Reds')\n",
    "plt.xlabel('predicted value')\n",
    "plt.ylabel('true value');"
   ]
  },
  {
   "cell_type": "code",
   "execution_count": 68,
   "metadata": {},
   "outputs": [
    {
     "name": "stdout",
     "output_type": "stream",
     "text": [
      "Train roc_auc_score: 0.94\n",
      "Test roc_auc_score: 0.94 \n"
     ]
    }
   ],
   "source": [
    "print('Train roc_auc_score: %.2f'%roc_auc_score(y_knn_train_predict, y_train))\n",
    "print('Test roc_auc_score: %.2f '%roc_auc_score(y_knn_predict, y_test))"
   ]
  },
  {
   "cell_type": "code",
   "execution_count": 106,
   "metadata": {
    "collapsed": true
   },
   "outputs": [],
   "source": [
    "report_table = [['knn', 'k = 40', grid_search_knn.score(X_train, y_train), grid_search_knn.score(X_test, y_test), roc_auc_score(y_knn_train_predict, y_train), roc_auc_score(y_knn_predict, y_test), np.mean(grid_search_knn.cv_results_['mean_train_score']),np.mean(grid_search_knn.cv_results_['mean_test_score']) ]]"
   ]
  },
  {
   "cell_type": "markdown",
   "metadata": {},
   "source": [
    "###### Logistic Regression"
   ]
  },
  {
   "cell_type": "code",
   "execution_count": 69,
   "metadata": {
    "collapsed": true
   },
   "outputs": [],
   "source": [
    "param_grid_logreg = {'C': [0.001, 0.01, 0.1, 1, 10, 100],'penalty': ['l1','l2']}"
   ]
  },
  {
   "cell_type": "code",
   "execution_count": 70,
   "metadata": {
    "collapsed": true
   },
   "outputs": [],
   "source": [
    "grid_search_logreg = GridSearchCV(LogisticRegression(), param_grid_logreg, cv=5, return_train_score=True, scoring='roc_auc')"
   ]
  },
  {
   "cell_type": "code",
   "execution_count": 71,
   "metadata": {},
   "outputs": [
    {
     "data": {
      "text/plain": [
       "GridSearchCV(cv=5, error_score='raise',\n",
       "       estimator=LogisticRegression(C=1.0, class_weight=None, dual=False, fit_intercept=True,\n",
       "          intercept_scaling=1, max_iter=100, multi_class='ovr', n_jobs=1,\n",
       "          penalty='l2', random_state=None, solver='liblinear', tol=0.0001,\n",
       "          verbose=0, warm_start=False),\n",
       "       fit_params=None, iid=True, n_jobs=1,\n",
       "       param_grid={'C': [0.001, 0.01, 0.1, 1, 10, 100], 'penalty': ['l1', 'l2']},\n",
       "       pre_dispatch='2*n_jobs', refit=True, return_train_score=True,\n",
       "       scoring='roc_auc', verbose=0)"
      ]
     },
     "execution_count": 71,
     "metadata": {},
     "output_type": "execute_result"
    }
   ],
   "source": [
    "grid_search_logreg.fit(X_train, y_train)"
   ]
  },
  {
   "cell_type": "code",
   "execution_count": 72,
   "metadata": {},
   "outputs": [
    {
     "name": "stdout",
     "output_type": "stream",
     "text": [
      "Best parameters: {'C': 10, 'penalty': 'l1'}\n",
      "Best cross-validation score: 0.99\n"
     ]
    }
   ],
   "source": [
    "print(\"Best parameters: {}\".format(grid_search_logreg.best_params_))\n",
    "print(\"Best cross-validation score: {:.2f}\".format(grid_search_logreg.best_score_))"
   ]
  },
  {
   "cell_type": "code",
   "execution_count": 73,
   "metadata": {
    "collapsed": true
   },
   "outputs": [],
   "source": [
    "c_range = [0.001, 0.01, 0.1, 1, 10, 100, 1000]\n",
    "train_score_l1 = []\n",
    "train_score_l2 = []\n",
    "test_score_l1 = []\n",
    "test_score_l2 = []\n",
    "\n",
    "for c in c_range:\n",
    "    log_l1 = LogisticRegression(penalty = 'l1', C = c)\n",
    "    log_l2 = LogisticRegression(penalty = 'l2', C = c)\n",
    "    log_l1.fit(X_train, y_train)\n",
    "    log_l2.fit(X_train, y_train)\n",
    "    train_score_l1.append(log_l1.score(X_train, y_train))\n",
    "    train_score_l2.append(log_l2.score(X_train, y_train))\n",
    "    test_score_l1.append(log_l1.score(X_test, y_test))\n",
    "    test_score_l2.append(log_l2.score(X_test, y_test))"
   ]
  },
  {
   "cell_type": "code",
   "execution_count": 74,
   "metadata": {},
   "outputs": [
    {
     "data": {
      "image/png": "[encoded data removed]",
      "text/plain": [
       "<Figure size 432x288 with 1 Axes>"
      ]
     },
     "metadata": {},
     "output_type": "display_data"
    }
   ],
   "source": [
    "plt.plot(c_range, train_score_l1, label = 'Train score, penalty = l1')\n",
    "plt.plot(c_range, test_score_l1, label = 'Test score, penalty = l1')\n",
    "plt.plot(c_range, train_score_l2, label = 'Train score, penalty = l2')\n",
    "plt.plot(c_range, test_score_l2, label = 'Test score, penalty = l2')\n",
    "plt.legend()\n",
    "plt.xlabel('Regularization parameter: C')\n",
    "plt.ylabel('Accuracy')\n",
    "plt.xscale('log')"
   ]
  },
  {
   "cell_type": "code",
   "execution_count": 75,
   "metadata": {},
   "outputs": [
    {
     "name": "stdout",
     "output_type": "stream",
     "text": [
      "Train roc_auc_score: 0.95\n",
      "Test roc_auc_score: 0.95 \n"
     ]
    }
   ],
   "source": [
    "y_logreg_predict = grid_search_logreg.predict(X_test)\n",
    "y_logreg_train_predict = grid_search_logreg.predict(X_train)\n",
    "print('Train roc_auc_score: %.2f'%roc_auc_score(y_logreg_train_predict, y_train))\n",
    "print('Test roc_auc_score: %.2f '%roc_auc_score(y_logreg_predict, y_test))"
   ]
  },
  {
   "cell_type": "code",
   "execution_count": 76,
   "metadata": {},
   "outputs": [
    {
     "data": {
      "image/png": "[encoded data removed]",
      "text/plain": [
       "<Figure size 360x360 with 2 Axes>"
      ]
     },
     "metadata": {},
     "output_type": "display_data"
    }
   ],
   "source": [
    "mat = confusion_matrix(y_test, y_logreg_predict)\n",
    "plt.subplots(figsize = (5,5))\n",
    "sns.heatmap(mat, square=True, annot=True, cbar=True , cmap = 'Greens')\n",
    "plt.xlabel('predicted value')\n",
    "plt.ylabel('true value');"
   ]
  },
  {
   "cell_type": "code",
   "execution_count": 107,
   "metadata": {
    "collapsed": true
   },
   "outputs": [],
   "source": [
    "report_table = report_table + [['Logistic Regression', 'C = 10, penalty = l1', grid_search_logreg.score(X_train, y_train), grid_search_logreg.score(X_test, y_test), roc_auc_score(y_logreg_train_predict, y_train), roc_auc_score(y_logreg_predict, y_test),np.mean(grid_search_logreg.cv_results_['mean_train_score']),np.mean(grid_search_logreg.cv_results_['mean_test_score'])]]"
   ]
  },
  {
   "cell_type": "markdown",
   "metadata": {},
   "source": [
    "###### Decision Tree"
   ]
  },
  {
   "cell_type": "code",
   "execution_count": 77,
   "metadata": {
    "collapsed": true
   },
   "outputs": [],
   "source": [
    "param_grid_dtree = {'criterion':['entropy','gini'],'max_depth': [3,5,8,15,20,25],'min_samples_split': [2,4,6,10],'min_samples_leaf':[2,4,6,10],'max_features':['auto','sqrt','log2'],'max_leaf_nodes': [5,10,15],\n",
    "                  'min_impurity_decrease':[0.01,0.04]}"
   ]
  },
  {
   "cell_type": "code",
   "execution_count": 78,
   "metadata": {
    "collapsed": true
   },
   "outputs": [],
   "source": [
    "grid_search_dtree = GridSearchCV(DecisionTreeClassifier(), param_grid_dtree, cv=5, return_train_score=True,scoring='roc_auc')"
   ]
  },
  {
   "cell_type": "code",
   "execution_count": 80,
   "metadata": {},
   "outputs": [
    {
     "data": {
      "text/plain": [
       "GridSearchCV(cv=5, error_score='raise',\n",
       "       estimator=DecisionTreeClassifier(class_weight=None, criterion='gini', max_depth=None,\n",
       "            max_features=None, max_leaf_nodes=None,\n",
       "            min_impurity_decrease=0.0, min_impurity_split=None,\n",
       "            min_samples_leaf=1, min_samples_split=2,\n",
       "            min_weight_fraction_leaf=0.0, presort=False, random_state=None,\n",
       "            splitter='best'),\n",
       "       fit_params=None, iid=True, n_jobs=1,\n",
       "       param_grid={'criterion': ['entropy', 'gini'], 'max_depth': [3, 5, 8, 15, 20, 25], 'min_samples_split': [2, 4, 6, 10], 'min_samples_leaf': [2, 4, 6, 10], 'max_features': ['auto', 'sqrt', 'log2'], 'max_leaf_nodes': [5, 10, 15], 'min_impurity_decrease': [0.01, 0.04]},\n",
       "       pre_dispatch='2*n_jobs', refit=True, return_train_score=True,\n",
       "       scoring='roc_auc', verbose=0)"
      ]
     },
     "execution_count": 80,
     "metadata": {},
     "output_type": "execute_result"
    }
   ],
   "source": [
    "grid_search_dtree.fit(X_train,y_train)"
   ]
  },
  {
   "cell_type": "code",
   "execution_count": 81,
   "metadata": {},
   "outputs": [
    {
     "name": "stdout",
     "output_type": "stream",
     "text": [
      "Best parameters: {'criterion': 'entropy', 'max_depth': 8, 'max_features': 'sqrt', 'max_leaf_nodes': 15, 'min_impurity_decrease': 0.01, 'min_samples_leaf': 10, 'min_samples_split': 2}\n",
      "Best cross-validation score: 0.98\n"
     ]
    }
   ],
   "source": [
    "print(\"Best parameters: {}\".format(grid_search_dtree.best_params_))\n",
    "print(\"Best cross-validation score: {:.2f}\".format(grid_search_dtree.best_score_))"
   ]
  },
  {
   "cell_type": "code",
   "execution_count": 82,
   "metadata": {},
   "outputs": [
    {
     "name": "stdout",
     "output_type": "stream",
     "text": [
      "Train roc_auc_score: 0.96\n",
      "Test roc_auc_score: 0.95 \n"
     ]
    }
   ],
   "source": [
    "y_dtree_predict = grid_search_dtree.predict(X_test)\n",
    "y_dtree_train_predict = grid_search_dtree.predict(X_train)\n",
    "print('Train roc_auc_score: %.2f'%roc_auc_score(y_dtree_train_predict, y_train))\n",
    "print('Test roc_auc_score: %.2f '%roc_auc_score(y_dtree_predict, y_test))"
   ]
  },
  {
   "cell_type": "code",
   "execution_count": 83,
   "metadata": {
    "scrolled": true
   },
   "outputs": [
    {
     "data": {
      "image/png": "[encoded data removed]",
      "text/plain": [
       "<Figure size 360x360 with 2 Axes>"
      ]
     },
     "metadata": {},
     "output_type": "display_data"
    }
   ],
   "source": [
    "mat = confusion_matrix(y_test, y_dtree_predict)\n",
    "plt.subplots(figsize = (5,5))\n",
    "sns.heatmap(mat, square=True, annot=True, cbar=True , cmap = 'Blues')\n",
    "plt.xlabel('predicted value')\n",
    "plt.ylabel('true value');"
   ]
  },
  {
   "cell_type": "code",
   "execution_count": 108,
   "metadata": {
    "collapsed": true
   },
   "outputs": [],
   "source": [
    "report_table = report_table + [['Decision Tree', 'criterion= entropy, max_depth= 8, max_features= sqrt, max_leaf_nodes= 15, min_impurity_decrease= 0.01, min_samples_leaf= 10, min_samples_split= 2', grid_search_dtree.score(X_train, y_train), grid_search_dtree.score(X_test, y_test), roc_auc_score(y_dtree_train_predict, y_train), roc_auc_score(y_dtree_predict, y_test),np.mean(grid_search_dtree.cv_results_['mean_train_score']),np.mean(grid_search_dtree.cv_results_['mean_test_score'])]]"
   ]
  },
  {
   "cell_type": "markdown",
   "metadata": {},
   "source": [
    "###### Linear SVC"
   ]
  },
  {
   "cell_type": "code",
   "execution_count": 84,
   "metadata": {
    "collapsed": true
   },
   "outputs": [],
   "source": [
    "param_grid_lsvc = {'C': [0.001, 0.01, 0.1, 1, 10, 100],  \n",
    "              'loss': ['hinge','squared_hinge'],\n",
    "              'max_iter': [10,100,1000,10000]}"
   ]
  },
  {
   "cell_type": "code",
   "execution_count": 85,
   "metadata": {
    "collapsed": true
   },
   "outputs": [],
   "source": [
    "grid_search_lsvc = GridSearchCV(LinearSVC(), param_grid_lsvc, cv=5, return_train_score=True,scoring='roc_auc')"
   ]
  },
  {
   "cell_type": "code",
   "execution_count": 86,
   "metadata": {
    "scrolled": true
   },
   "outputs": [
    {
     "data": {
      "text/plain": [
       "GridSearchCV(cv=5, error_score='raise',\n",
       "       estimator=LinearSVC(C=1.0, class_weight=None, dual=True, fit_intercept=True,\n",
       "     intercept_scaling=1, loss='squared_hinge', max_iter=1000,\n",
       "     multi_class='ovr', penalty='l2', random_state=None, tol=0.0001,\n",
       "     verbose=0),\n",
       "       fit_params=None, iid=True, n_jobs=1,\n",
       "       param_grid={'C': [0.001, 0.01, 0.1, 1, 10, 100], 'loss': ['hinge', 'squared_hinge'], 'max_iter': [10, 100, 1000, 10000]},\n",
       "       pre_dispatch='2*n_jobs', refit=True, return_train_score=True,\n",
       "       scoring='roc_auc', verbose=0)"
      ]
     },
     "execution_count": 86,
     "metadata": {},
     "output_type": "execute_result"
    }
   ],
   "source": [
    "grid_search_lsvc.fit(X_train,y_train)"
   ]
  },
  {
   "cell_type": "code",
   "execution_count": 87,
   "metadata": {},
   "outputs": [
    {
     "name": "stdout",
     "output_type": "stream",
     "text": [
      "Best parameters: {'C': 10, 'loss': 'squared_hinge', 'max_iter': 10000}\n",
      "Best cross-validation score: 0.99\n"
     ]
    }
   ],
   "source": [
    "print(\"Best parameters: {}\".format(grid_search_lsvc.best_params_))\n",
    "print(\"Best cross-validation score: {:.2f}\".format(grid_search_lsvc.best_score_))"
   ]
  },
  {
   "cell_type": "code",
   "execution_count": 88,
   "metadata": {},
   "outputs": [
    {
     "name": "stdout",
     "output_type": "stream",
     "text": [
      "Train roc_auc_score: 0.95\n",
      "Test roc_auc_score: 0.95 \n"
     ]
    }
   ],
   "source": [
    "y_svc_lin_predict_train = grid_search_lsvc.predict(X_train)\n",
    "y_svc_lin_predict = grid_search_lsvc.predict(X_test)\n",
    "print('Train roc_auc_score: %.2f'%roc_auc_score(y_svc_lin_predict_train, y_train))\n",
    "print('Test roc_auc_score: %.2f '%roc_auc_score(y_svc_lin_predict, y_test))"
   ]
  },
  {
   "cell_type": "code",
   "execution_count": 89,
   "metadata": {},
   "outputs": [
    {
     "data": {
      "image/png": "[encoded data removed]",
      "text/plain": [
       "<Figure size 360x360 with 2 Axes>"
      ]
     },
     "metadata": {},
     "output_type": "display_data"
    }
   ],
   "source": [
    "mat = confusion_matrix(y_test, y_svc_lin_predict)\n",
    "plt.subplots(figsize = (5,5))\n",
    "sns.heatmap(mat, square=True, annot=True, cbar=True , cmap = 'Blues')\n",
    "plt.xlabel('predicted value')\n",
    "plt.ylabel('true value');"
   ]
  },
  {
   "cell_type": "code",
   "execution_count": 109,
   "metadata": {
    "collapsed": true
   },
   "outputs": [],
   "source": [
    "report_table = report_table + [['LinearSVC', 'C = 10, loss = squared_hinge, max_iter = 10000', grid_search_lsvc.score(X_train, y_train), grid_search_lsvc.score(X_test, y_test), roc_auc_score(y_svc_lin_predict_train, y_train), roc_auc_score(y_svc_lin_predict, y_test),np.mean(grid_search_lsvc.cv_results_['mean_train_score']),np.mean(grid_search_lsvc.cv_results_['mean_test_score'])]]"
   ]
  },
  {
   "cell_type": "markdown",
   "metadata": {},
   "source": [
    "###### Kernel SVC"
   ]
  },
  {
   "cell_type": "code",
   "execution_count": 90,
   "metadata": {
    "collapsed": true
   },
   "outputs": [],
   "source": [
    "param_grid_svc = {'C': [0.001, 0.01, 0.1, 1, 10, 100],\n",
    "              'gamma': [0.001, 0.01, 0.1, 1, 10, 100]}"
   ]
  },
  {
   "cell_type": "code",
   "execution_count": 91,
   "metadata": {
    "collapsed": true
   },
   "outputs": [],
   "source": [
    "grid_search_svc = GridSearchCV(SVC(), param_grid_svc, cv=5, return_train_score=True,scoring='roc_auc')"
   ]
  },
  {
   "cell_type": "code",
   "execution_count": 92,
   "metadata": {},
   "outputs": [
    {
     "data": {
      "text/plain": [
       "GridSearchCV(cv=5, error_score='raise',\n",
       "       estimator=SVC(C=1.0, cache_size=200, class_weight=None, coef0=0.0,\n",
       "  decision_function_shape='ovr', degree=3, gamma='auto', kernel='rbf',\n",
       "  max_iter=-1, probability=False, random_state=None, shrinking=True,\n",
       "  tol=0.001, verbose=False),\n",
       "       fit_params=None, iid=True, n_jobs=1,\n",
       "       param_grid={'C': [0.001, 0.01, 0.1, 1, 10, 100], 'gamma': [0.001, 0.01, 0.1, 1, 10, 100]},\n",
       "       pre_dispatch='2*n_jobs', refit=True, return_train_score=True,\n",
       "       scoring='roc_auc', verbose=0)"
      ]
     },
     "execution_count": 92,
     "metadata": {},
     "output_type": "execute_result"
    }
   ],
   "source": [
    "grid_search_svc.fit(X_train,y_train)"
   ]
  },
  {
   "cell_type": "code",
   "execution_count": 93,
   "metadata": {},
   "outputs": [
    {
     "name": "stdout",
     "output_type": "stream",
     "text": [
      "Best parameters: {'C': 100, 'gamma': 0.1}\n",
      "Best cross-validation score: 0.99\n"
     ]
    }
   ],
   "source": [
    "print(\"Best parameters: {}\".format(grid_search_svc.best_params_))\n",
    "print(\"Best cross-validation score: {:.2f}\".format(grid_search_svc.best_score_))"
   ]
  },
  {
   "cell_type": "code",
   "execution_count": 94,
   "metadata": {},
   "outputs": [
    {
     "name": "stdout",
     "output_type": "stream",
     "text": [
      "Train roc_auc_score: 0.95\n",
      "Test roc_auc_score: 0.95 \n"
     ]
    }
   ],
   "source": [
    "y_grid_search_svc_train = grid_search_svc.predict(X_train)\n",
    "y_grid_search_svc = grid_search_svc.predict(X_test)\n",
    "print('Train roc_auc_score: %.2f'%roc_auc_score(y_grid_search_svc_train, y_train))\n",
    "print('Test roc_auc_score: %.2f '%roc_auc_score(y_grid_search_svc, y_test))"
   ]
  },
  {
   "cell_type": "code",
   "execution_count": 95,
   "metadata": {},
   "outputs": [
    {
     "data": {
      "image/png": "[encoded data removed]",
      "text/plain": [
       "<Figure size 360x360 with 2 Axes>"
      ]
     },
     "metadata": {},
     "output_type": "display_data"
    }
   ],
   "source": [
    "mat = confusion_matrix(y_test, y_grid_search_svc)\n",
    "plt.subplots(figsize = (5,5))\n",
    "sns.heatmap(mat, square=True, annot=True, cbar=True , cmap = 'Reds')\n",
    "plt.xlabel('predicted value')\n",
    "plt.ylabel('true value');"
   ]
  },
  {
   "cell_type": "code",
   "execution_count": 110,
   "metadata": {
    "collapsed": true
   },
   "outputs": [],
   "source": [
    "report_table = report_table + [['SVC', 'C = 100 , gamma = 0.1', grid_search_svc.score(X_train, y_train), grid_search_svc.score(X_test, y_test), roc_auc_score(y_grid_search_svc_train, y_train), roc_auc_score(y_grid_search_svc, y_test),np.mean(grid_search_svc.cv_results_['mean_train_score']),np.mean(grid_search_svc.cv_results_['mean_test_score'])]]"
   ]
  },
  {
   "cell_type": "code",
   "execution_count": 111,
   "metadata": {
    "collapsed": true
   },
   "outputs": [],
   "source": [
    "report = pd.DataFrame(report_table,columns = ['Model name', 'Model parameter', 'Train accuracy', 'Test accuracy', 'Train auc score', 'Test auc score','Mean train score','Mean test score'])"
   ]
  },
  {
   "cell_type": "code",
   "execution_count": 112,
   "metadata": {
    "collapsed": true
   },
   "outputs": [],
   "source": [
    "report=report.set_index('Model name')"
   ]
  },
  {
   "cell_type": "markdown",
   "metadata": {},
   "source": [
    "###### The below report table displays the best parameters for different classification models along with their accuracy and roc_auc scores for both train and test datasets. Since this is a biased dataset, we are considering the roc_auc scores to evaluate the best model."
   ]
  },
  {
   "cell_type": "code",
   "execution_count": 113,
   "metadata": {
    "scrolled": true
   },
   "outputs": [
    {
     "data": {
      "text/html": [
       "<div>\n",
       "<style scoped>\n",
       "    .dataframe tbody tr th:only-of-type {\n",
       "        vertical-align: middle;\n",
       "    }\n",
       "\n",
       "    .dataframe tbody tr th {\n",
       "        vertical-align: top;\n",
       "    }\n",
       "\n",
       "    .dataframe thead th {\n",
       "        text-align: right;\n",
       "    }\n",
       "</style>\n",
       "<table border=\"1\" class=\"dataframe\">\n",
       "  <thead>\n",
       "    <tr style=\"text-align: right;\">\n",
       "      <th></th>\n",
       "      <th>Model parameter</th>\n",
       "      <th>Train accuracy</th>\n",
       "      <th>Test accuracy</th>\n",
       "      <th>Train auc score</th>\n",
       "      <th>Test auc score</th>\n",
       "      <th>Mean train score</th>\n",
       "      <th>Mean test score</th>\n",
       "    </tr>\n",
       "    <tr>\n",
       "      <th>Model name</th>\n",
       "      <th></th>\n",
       "      <th></th>\n",
       "      <th></th>\n",
       "      <th></th>\n",
       "      <th></th>\n",
       "      <th></th>\n",
       "      <th></th>\n",
       "    </tr>\n",
       "  </thead>\n",
       "  <tbody>\n",
       "    <tr>\n",
       "      <th>knn</th>\n",
       "      <td>k = 40</td>\n",
       "      <td>0.990427</td>\n",
       "      <td>0.986630</td>\n",
       "      <td>0.943979</td>\n",
       "      <td>0.942872</td>\n",
       "      <td>0.991730</td>\n",
       "      <td>0.977470</td>\n",
       "    </tr>\n",
       "    <tr>\n",
       "      <th>Logistic Regression</th>\n",
       "      <td>C = 10, penalty = l1</td>\n",
       "      <td>0.990467</td>\n",
       "      <td>0.990310</td>\n",
       "      <td>0.951719</td>\n",
       "      <td>0.953852</td>\n",
       "      <td>0.930523</td>\n",
       "      <td>0.930050</td>\n",
       "    </tr>\n",
       "    <tr>\n",
       "      <th>Decision Tree</th>\n",
       "      <td>criterion= entropy, max_depth= 8, max_features...</td>\n",
       "      <td>0.979514</td>\n",
       "      <td>0.982936</td>\n",
       "      <td>0.955272</td>\n",
       "      <td>0.953528</td>\n",
       "      <td>0.947496</td>\n",
       "      <td>0.944986</td>\n",
       "    </tr>\n",
       "    <tr>\n",
       "      <th>LinearSVC</th>\n",
       "      <td>C = 10, loss = squared_hinge, max_iter = 10000</td>\n",
       "      <td>0.990158</td>\n",
       "      <td>0.990049</td>\n",
       "      <td>0.952369</td>\n",
       "      <td>0.953727</td>\n",
       "      <td>0.983539</td>\n",
       "      <td>0.983200</td>\n",
       "    </tr>\n",
       "    <tr>\n",
       "      <th>SVC</th>\n",
       "      <td>C = 100 , gamma = 0.1</td>\n",
       "      <td>0.988483</td>\n",
       "      <td>0.988927</td>\n",
       "      <td>0.950912</td>\n",
       "      <td>0.953026</td>\n",
       "      <td>0.980737</td>\n",
       "      <td>0.976249</td>\n",
       "    </tr>\n",
       "  </tbody>\n",
       "</table>\n",
       "</div>"
      ],
      "text/plain": [
       "                                                       Model parameter  \\\n",
       "Model name                                                               \n",
       "knn                                                             k = 40   \n",
       "Logistic Regression                               C = 10, penalty = l1   \n",
       "Decision Tree        criterion= entropy, max_depth= 8, max_features...   \n",
       "LinearSVC               C = 10, loss = squared_hinge, max_iter = 10000   \n",
       "SVC                                              C = 100 , gamma = 0.1   \n",
       "\n",
       "                     Train accuracy  Test accuracy  Train auc score  \\\n",
       "Model name                                                            \n",
       "knn                        0.990427       0.986630         0.943979   \n",
       "Logistic Regression        0.990467       0.990310         0.951719   \n",
       "Decision Tree              0.979514       0.982936         0.955272   \n",
       "LinearSVC                  0.990158       0.990049         0.952369   \n",
       "SVC                        0.988483       0.988927         0.950912   \n",
       "\n",
       "                     Test auc score  Mean train score  Mean test score  \n",
       "Model name                                                              \n",
       "knn                        0.942872          0.991730         0.977470  \n",
       "Logistic Regression        0.953852          0.930523         0.930050  \n",
       "Decision Tree              0.953528          0.947496         0.944986  \n",
       "LinearSVC                  0.953727          0.983539         0.983200  \n",
       "SVC                        0.953026          0.980737         0.976249  "
      ]
     },
     "execution_count": 113,
     "metadata": {},
     "output_type": "execute_result"
    }
   ],
   "source": [
    "report"
   ]
  },
  {
   "cell_type": "markdown",
   "metadata": {},
   "source": [
    "###### Based on the roc_auc scores above, we find that the train and test score is closest for linearSVC. Thus we determine linearSVC to be the best classification model for this dataset after applying PCA on data."
   ]
  },
  {
   "cell_type": "markdown",
   "metadata": {},
   "source": [
    "###### Scores report for different models before applying PCA"
   ]
  },
  {
   "cell_type": "code",
   "execution_count": 128,
   "metadata": {
    "scrolled": true
   },
   "outputs": [
    {
     "data": {
      "image/png": "[encoded data removed]",
      "text/plain": [
       "<IPython.core.display.Image object>"
      ]
     },
     "execution_count": 128,
     "metadata": {},
     "output_type": "execute_result"
    }
   ],
   "source": [
    "i = Image(filename='score.PNG')\n",
    "i"
   ]
  },
  {
   "cell_type": "markdown",
   "metadata": {},
   "source": [
    "###### Comparing both the tables we find tha train and test roc_auc scores have improved for most of the models after applying PCA on data. Also the train and test scores are closer. "
   ]
  },
  {
   "cell_type": "markdown",
   "metadata": {},
   "source": [
    "### Neural Network"
   ]
  },
  {
   "cell_type": "code",
   "execution_count": 154,
   "metadata": {
    "collapsed": true
   },
   "outputs": [],
   "source": [
    "BATCH_SIZE = 36\n",
    "EPOCHS = 20\n",
    "LEARNING_RATE = 0.0003"
   ]
  },
  {
   "cell_type": "code",
   "execution_count": 163,
   "metadata": {
    "collapsed": true
   },
   "outputs": [],
   "source": [
    "dense_model = Sequential()\n",
    "dense_model.add(Dense(256, input_dim=77, activation='relu'))\n",
    "dense_model.add(Dense(128, activation='softmax'))\n",
    "dense_model.add(Dense(1, activation='sigmoid'))"
   ]
  },
  {
   "cell_type": "code",
   "execution_count": 172,
   "metadata": {
    "collapsed": true
   },
   "outputs": [],
   "source": [
    "dense_model.compile(loss='binary_crossentropy', optimizer='adam', metrics=[as_keras_metric(tf.metrics.auc)])"
   ]
  },
  {
   "cell_type": "code",
   "execution_count": 173,
   "metadata": {},
   "outputs": [
    {
     "name": "stdout",
     "output_type": "stream",
     "text": [
      "Train on 11256 samples, validate on 2815 samples\n",
      "Epoch 1/20\n",
      "11256/11256 [==============================] - 6s 538us/step - loss: 0.1112 - auc: 0.9844 - val_loss: 0.1047 - val_auc: 0.9860\n",
      "Epoch 2/20\n",
      "11256/11256 [==============================] - 3s 282us/step - loss: 0.1080 - auc: 0.9864 - val_loss: 0.1018 - val_auc: 0.9870\n",
      "Epoch 3/20\n",
      "11256/11256 [==============================] - 3s 279us/step - loss: 0.1078 - auc: 0.9875 - val_loss: 0.1048 - val_auc: 0.9877\n",
      "Epoch 4/20\n",
      "11256/11256 [==============================] - 3s 289us/step - loss: 0.1075 - auc: 0.9874 - val_loss: 0.0985 - val_auc: 0.9873\n",
      "Epoch 5/20\n",
      "11256/11256 [==============================] - 3s 286us/step - loss: 0.1065 - auc: 0.9873 - val_loss: 0.1179 - val_auc: 0.9873\n",
      "Epoch 6/20\n",
      "11256/11256 [==============================] - 3s 290us/step - loss: 0.1070 - auc: 0.9872 - val_loss: 0.0975 - val_auc: 0.9871\n",
      "Epoch 7/20\n",
      "11256/11256 [==============================] - 3s 289us/step - loss: 0.1050 - auc: 0.9872 - val_loss: 0.0954 - val_auc: 0.9872\n",
      "Epoch 8/20\n",
      "11256/11256 [==============================] - 3s 296us/step - loss: 0.1044 - auc: 0.9872 - val_loss: 0.0953 - val_auc: 0.9872\n",
      "Epoch 9/20\n",
      "11256/11256 [==============================] - 3s 292us/step - loss: 0.1046 - auc: 0.9872 - val_loss: 0.0991 - val_auc: 0.9871\n",
      "Epoch 10/20\n",
      "11256/11256 [==============================] - 3s 291us/step - loss: 0.1030 - auc: 0.9871 - val_loss: 0.1082 - val_auc: 0.9871\n",
      "Epoch 11/20\n",
      "11256/11256 [==============================] - 3s 285us/step - loss: 0.1032 - auc: 0.9871 - val_loss: 0.1031 - val_auc: 0.9872\n",
      "Epoch 12/20\n",
      "11256/11256 [==============================] - 3s 290us/step - loss: 0.1019 - auc: 0.9872 - val_loss: 0.0944 - val_auc: 0.9872\n",
      "Epoch 13/20\n",
      "11256/11256 [==============================] - 3s 290us/step - loss: 0.1020 - auc: 0.9873 - val_loss: 0.1004 - val_auc: 0.9873\n",
      "Epoch 14/20\n",
      "11256/11256 [==============================] - 3s 289us/step - loss: 0.1031 - auc: 0.9873 - val_loss: 0.0935 - val_auc: 0.9873\n",
      "Epoch 15/20\n",
      "11256/11256 [==============================] - 3s 282us/step - loss: 0.1012 - auc: 0.9873 - val_loss: 0.0957 - val_auc: 0.9874\n",
      "Epoch 16/20\n",
      "11256/11256 [==============================] - 4s 326us/step - loss: 0.1012 - auc: 0.9873 - val_loss: 0.1025 - val_auc: 0.9873\n",
      "Epoch 17/20\n",
      "11256/11256 [==============================] - 3s 294us/step - loss: 0.1017 - auc: 0.9873 - val_loss: 0.0952 - val_auc: 0.9874\n",
      "Epoch 18/20\n",
      "11256/11256 [==============================] - 3s 284us/step - loss: 0.1017 - auc: 0.9874 - val_loss: 0.0934 - val_auc: 0.9875\n",
      "Epoch 19/20\n",
      "11256/11256 [==============================] - 3s 275us/step - loss: 0.1014 - auc: 0.9875 - val_loss: 0.0946 - val_auc: 0.9875\n",
      "Epoch 20/20\n",
      "11256/11256 [==============================] - 3s 283us/step - loss: 0.0991 - auc: 0.9876 - val_loss: 0.0955 - val_auc: 0.9876\n"
     ]
    }
   ],
   "source": [
    "history=dense_model.fit(x=X_train, y=y_train, batch_size=BATCH_SIZE, epochs=EPOCHS, \n",
    "                    verbose=1, validation_data=(X_test, y_test))"
   ]
  },
  {
   "cell_type": "code",
   "execution_count": 174,
   "metadata": {},
   "outputs": [
    {
     "name": "stdout",
     "output_type": "stream",
     "text": [
      "_________________________________________________________________\n",
      "Layer (type)                 Output Shape              Param #   \n",
      "=================================================================\n",
      "dense_14 (Dense)             (None, 256)               19968     \n",
      "_________________________________________________________________\n",
      "dense_15 (Dense)             (None, 128)               32896     \n",
      "_________________________________________________________________\n",
      "dense_16 (Dense)             (None, 1)                 129       \n",
      "=================================================================\n",
      "Total params: 52,993\n",
      "Trainable params: 52,993\n",
      "Non-trainable params: 0\n",
      "_________________________________________________________________\n"
     ]
    }
   ],
   "source": [
    "dense_model.summary()"
   ]
  },
  {
   "cell_type": "code",
   "execution_count": 175,
   "metadata": {},
   "outputs": [
    {
     "data": {
      "text/plain": [
       "{'name': 'sequential_7',\n",
       " 'layers': [{'class_name': 'Dense',\n",
       "   'config': {'name': 'dense_14',\n",
       "    'trainable': True,\n",
       "    'batch_input_shape': (None, 77),\n",
       "    'dtype': 'float32',\n",
       "    'units': 256,\n",
       "    'activation': 'relu',\n",
       "    'use_bias': True,\n",
       "    'kernel_initializer': {'class_name': 'VarianceScaling',\n",
       "     'config': {'scale': 1.0,\n",
       "      'mode': 'fan_avg',\n",
       "      'distribution': 'uniform',\n",
       "      'seed': None}},\n",
       "    'bias_initializer': {'class_name': 'Zeros', 'config': {}},\n",
       "    'kernel_regularizer': None,\n",
       "    'bias_regularizer': None,\n",
       "    'activity_regularizer': None,\n",
       "    'kernel_constraint': None,\n",
       "    'bias_constraint': None}},\n",
       "  {'class_name': 'Dense',\n",
       "   'config': {'name': 'dense_15',\n",
       "    'trainable': True,\n",
       "    'units': 128,\n",
       "    'activation': 'softmax',\n",
       "    'use_bias': True,\n",
       "    'kernel_initializer': {'class_name': 'VarianceScaling',\n",
       "     'config': {'scale': 1.0,\n",
       "      'mode': 'fan_avg',\n",
       "      'distribution': 'uniform',\n",
       "      'seed': None}},\n",
       "    'bias_initializer': {'class_name': 'Zeros', 'config': {}},\n",
       "    'kernel_regularizer': None,\n",
       "    'bias_regularizer': None,\n",
       "    'activity_regularizer': None,\n",
       "    'kernel_constraint': None,\n",
       "    'bias_constraint': None}},\n",
       "  {'class_name': 'Dense',\n",
       "   'config': {'name': 'dense_16',\n",
       "    'trainable': True,\n",
       "    'units': 1,\n",
       "    'activation': 'sigmoid',\n",
       "    'use_bias': True,\n",
       "    'kernel_initializer': {'class_name': 'VarianceScaling',\n",
       "     'config': {'scale': 1.0,\n",
       "      'mode': 'fan_avg',\n",
       "      'distribution': 'uniform',\n",
       "      'seed': None}},\n",
       "    'bias_initializer': {'class_name': 'Zeros', 'config': {}},\n",
       "    'kernel_regularizer': None,\n",
       "    'bias_regularizer': None,\n",
       "    'activity_regularizer': None,\n",
       "    'kernel_constraint': None,\n",
       "    'bias_constraint': None}}]}"
      ]
     },
     "execution_count": 175,
     "metadata": {},
     "output_type": "execute_result"
    }
   ],
   "source": [
    "dense_model.get_config()"
   ]
  },
  {
   "cell_type": "code",
   "execution_count": 176,
   "metadata": {
    "collapsed": true
   },
   "outputs": [],
   "source": [
    "y_pred_keras = dense_model.predict(X_test).ravel()\n",
    "fpr_keras, tpr_keras, thresholds_keras = roc_curve(y_test, y_pred_keras)"
   ]
  },
  {
   "cell_type": "code",
   "execution_count": 177,
   "metadata": {
    "collapsed": true
   },
   "outputs": [],
   "source": [
    "auc_keras = auc(fpr_keras, tpr_keras)"
   ]
  },
  {
   "cell_type": "code",
   "execution_count": 182,
   "metadata": {},
   "outputs": [
    {
     "data": {
      "text/plain": [
       "0.9908985091285977"
      ]
     },
     "execution_count": 182,
     "metadata": {},
     "output_type": "execute_result"
    }
   ],
   "source": [
    "auc_keras"
   ]
  },
  {
   "cell_type": "code",
   "execution_count": 179,
   "metadata": {
    "collapsed": true
   },
   "outputs": [],
   "source": [
    "\n",
    "# Supervised transformation based on random forests\n",
    "rf = RandomForestClassifier(max_depth=3, n_estimators=10)\n",
    "rf.fit(X_train, y_train)\n",
    "\n",
    "y_pred_rf = rf.predict_proba(X_test)[:, 1]\n",
    "fpr_rf, tpr_rf, thresholds_rf = roc_curve(y_test, y_pred_rf)\n",
    "auc_rf = auc(fpr_rf, tpr_rf)"
   ]
  },
  {
   "cell_type": "markdown",
   "metadata": {},
   "source": [
    "###### ROC Plot of random forest and keras classifier"
   ]
  },
  {
   "cell_type": "markdown",
   "metadata": {},
   "source": [
    "###### From the below plots we find that given the AUC metric, Keras classifier outperforms the random forest classifier "
   ]
  },
  {
   "cell_type": "code",
   "execution_count": 229,
   "metadata": {
    "scrolled": true
   },
   "outputs": [
    {
     "data": {
      "image/png": "[encoded data removed]",
      "text/plain": [
       "<Figure size 432x288 with 1 Axes>"
      ]
     },
     "metadata": {},
     "output_type": "display_data"
    }
   ],
   "source": [
    "plt.figure(1)\n",
    "plt.plot([0, 1], [0, 1], 'k--')\n",
    "plt.plot(fpr_keras, tpr_keras, label='Keras (area = {:.3f})'.format(auc_keras))\n",
    "plt.plot(fpr_rf, tpr_rf, label='RF (area = {:.3f})'.format(auc_rf))\n",
    "plt.xlabel('False positive rate')\n",
    "plt.ylabel('True positive rate')\n",
    "plt.title('ROC curve')\n",
    "plt.legend(loc='best')\n",
    "plt.show()"
   ]
  },
  {
   "cell_type": "code",
   "execution_count": 228,
   "metadata": {},
   "outputs": [
    {
     "data": {
      "image/png": "[encoded data removed]",
      "text/plain": [
       "<Figure size 432x288 with 1 Axes>"
      ]
     },
     "metadata": {},
     "output_type": "display_data"
    }
   ],
   "source": [
    "# Zoom in view of the upper left corner.\n",
    "plt.figure(2)\n",
    "plt.xlim(0, 0.2)\n",
    "plt.ylim(0.8, 1)\n",
    "plt.plot([0, 1], [0, 1], 'k--')\n",
    "plt.plot(fpr_keras, tpr_keras, label='Keras (area = {:.3f})'.format(auc_keras))\n",
    "plt.plot(fpr_rf, tpr_rf, label='RF (area = {:.3f})'.format(auc_rf))\n",
    "plt.xlabel('False positive rate')\n",
    "plt.ylabel('True positive rate')\n",
    "plt.title('ROC curve (zoomed in at top left)')\n",
    "plt.legend(loc='best')\n",
    "plt.show()"
   ]
  }
 ],
 "metadata": {
  "kernelspec": {
   "display_name": "Python 3",
   "language": "python",
   "name": "python3"
  },
  "language_info": {
   "codemirror_mode": {
    "name": "ipython",
    "version": 3
   },
   "file_extension": ".py",
   "mimetype": "text/x-python",
   "name": "python",
   "nbconvert_exporter": "python",
   "pygments_lexer": "ipython3",
   "version": "3.6.3"
  }
 },
 "nbformat": 4,
 "nbformat_minor": 2
}
