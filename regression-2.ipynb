{
 "cells": [
  {
   "cell_type": "markdown",
   "metadata": {},
   "source": [
    "### <font color='red'> Project 3 : Buzz Prediction on Twitter\n",
    "\n",
    "Project Description:\n",
    "- Use same datasets as Project 2.\n",
    "- Run all the models only on 10% data. Use code given in Project 2 for sampling.\n",
    "- Preprocess data: Explore data and apply data scaling.\n",
    "\n",
    "Regression Task:\n",
    "- Apply any two models with bagging and any two models with pasting.\n",
    "- Apply any two models with adaboost boosting\n",
    "- Apply one model with gradient boosting\n",
    "- Apply PCA on data and then apply all the models in project 2 again on data you get from PCA. Compare your results with results in project 2. You don't need to apply all the models twice. Just copy the result table from project 2, prepare similar table for all the models after PCA and compare both tables. Does PCA help in getting better results?\n",
    "- Apply deep learning models covered in class\n",
    "\n",
    "Classification Task:\n",
    "- Apply four voting classifiers - two with hard voting and two with soft voting\n",
    "- Apply any two models with bagging and any two models with pasting.\n",
    "- Apply any two models with adaboost boosting\n",
    "- Apply one model with gradient boosting\n",
    "- Apply PCA on data and then apply all the models in project 2 again on data you get from PCA. Compare your results with results in project 2. You don't need to apply all the models twice. Just copy the result table from project 2, prepare similar table for all the models after PCA and compare both tables. Does PCA help in getting better results?\n",
    "- Apply deep learning models covered in class\n",
    "\n",
    "Deliverables:\n",
    "- Use markdown to provide inline comments for this project.\n",
    "- Your outputs should be clearly executed in the notebook i.e. we should not need to rerun the code to obtain the outputs.\n",
    "- Visualization encouraged.\n",
    "- If you are submitting two different files, then please only one group member submit both the files. If you submit two files separately from different accounts, it will be submitted as two different attempts.\n",
    "- If you are submitting two different files, then please follow below naming convetion:\n",
    "    Project3_Regression_GroupXX_Firstname1_Firstname2.ipynb\n",
    "    Project3_Classification_GroupXX_Firstname1_Firstname2.ipynb\n",
    "- If you are submitting single file, then please follow below naming convetion:\n",
    "    Project3_Both_GroupXX_Firstname1_Firstname2.ipynb\n",
    "\n",
    "Questions regarding the project:\n",
    "- We have created a discussion board under Projects folder on e-learning. Create threads over there and post your queries related to project there.\n",
    "- We will also answer queries there. We will not be answering any project related queries through the mail."
   ]
  },
  {
   "cell_type": "markdown",
   "metadata": {},
   "source": [
    "# <font color='blue'> Project 3 : Buzz Prediction on Twitter\n",
    "#### Regression task: Prediction of buzz value for Twitter.Data dataset. \n",
    "\n",
    "#### Libraries imported for all the model and plots. \n",
    "\n",
    "#### Inline plotting of graph is being used"
   ]
  },
  {
   "cell_type": "code",
   "execution_count": 288,
   "metadata": {
    "collapsed": true
   },
   "outputs": [],
   "source": [
    "import pandas as pd\n",
    "from sklearn.linear_model import LinearRegression as lm\n",
    "from sklearn.model_selection import train_test_split\n",
    "from sklearn import tree\n",
    "from matplotlib import pyplot as plt\n",
    "from sklearn.neighbors import KNeighborsRegressor\n",
    "from sklearn.preprocessing import StandardScaler, MinMaxScaler\n",
    "from  sklearn.preprocessing import PolynomialFeatures\n",
    "from  sklearn.linear_model import Ridge\n",
    "from sklearn.linear_model import Lasso\n",
    "from sklearn.linear_model import SGDRegressor\n",
    "from sklearn.tree import DecisionTreeRegressor\n",
    "from sklearn.cross_validation import cross_val_score, cross_val_predict\n",
    "from sklearn import metrics\n",
    "from sklearn.svm import SVR, LinearSVR\n",
    "from sklearn.model_selection import GridSearchCV\n",
    "import numpy as np\n",
    "import seaborn as sns\n",
    "from sklearn.pipeline import make_pipeline\n",
    "import warnings\n",
    "from scipy.stats import mstats\n",
    "from sklearn.ensemble import BaggingRegressor\n",
    "from  sklearn.metrics import accuracy_score\n",
    "from sklearn.ensemble import RandomForestRegressor\n",
    "from sklearn.ensemble import AdaBoostRegressor\n",
    "from  sklearn.ensemble import GradientBoostingRegressor\n",
    "from sklearn.decomposition import PCA\n",
    "from keras.models import Sequential\n",
    "from keras.layers import Dense\n",
    "from sklearn.metrics import r2_score, recall_score, precision_score\n",
    "import numpy\n",
    "\n",
    "# fix random seed for reproducibility\n",
    "numpy.random.seed(10)\n",
    "%matplotlib inline \n",
    "pd.set_option('display.max_colwidth',-1)\n",
    "warnings.filterwarnings('ignore')\n"
   ]
  },
  {
   "cell_type": "markdown",
   "metadata": {},
   "source": [
    "#### Twitter Data used for Regression task of dependent variable : buzz\n",
    "\n",
    "#### Reading lines from Twitter.data file into data frame twitter_data and replacing columns into new ones."
   ]
  },
  {
   "cell_type": "code",
   "execution_count": 289,
   "metadata": {},
   "outputs": [
    {
     "name": "stdout",
     "output_type": "stream",
     "text": [
      "   NCD_0  NCD_1  NCD_2  NCD_3  NCD_4  NCD_5  NCD_6  AI_0  AI_1  AI_2  ...   \\\n",
      "0  2      1      0      0      0      0      4      2     1     0     ...    \n",
      "1  1      0      0      0      0      4      1      1     0     0     ...    \n",
      "2  1      0      0      1      0      0      1      1     0     0     ...    \n",
      "3  0      1      0      0      1      2      3      0     1     0     ...    \n",
      "\n",
      "   ADL_5  ADL_6  NAD_0  NAD_1  NAD_2  NAD_3  NAD_4  NAD_5  NAD_6  buzz  \n",
      "0  0.0    1.0    2      1      0      0      0      0      4      0.5   \n",
      "1  1.0    1.0    1      0      0      0      0      4      1      0.0   \n",
      "2  0.0    1.0    1      0      0      1      0      0      1      2.5   \n",
      "3  1.0    1.0    0      1      0      0      1      2      3      0.5   \n",
      "\n",
      "[4 rows x 78 columns]\n"
     ]
    },
    {
     "data": {
      "text/plain": [
       "(583249, 78)"
      ]
     },
     "execution_count": 289,
     "metadata": {},
     "output_type": "execute_result"
    }
   ],
   "source": [
    "twitter_data = pd.read_csv('Twitter.data')\n",
    "twitter_data.columns=('NCD_0','NCD_1','NCD_2','NCD_3','NCD_4','NCD_5','NCD_6',\n",
    "                      'AI_0','AI_1','AI_2','AI_3','AI_4','AI_5','AI_6',\n",
    "                      'AS(NA)_0','AS(NA)_1','AS(NA)_2','AS(NA)_3','AS(NA)_4','AS(NA)_5','AS(NA)_6',\n",
    "                      'BL_0','BL_1','BL_2','BL_3','BL_4','BL_5','BL_6',\n",
    "                      'NAC_0','NAC_1','NAC_2','NAC_3','NAC_4','NAC_5','NAC_6',\n",
    "                      'AS(NAC)_0','AS(NAC)_1','AS(NAC)_2','AS(NAC)_3','AS(NAC)_4',\n",
    "                      'AS(NAC)_5','AS(NAC)_6',\n",
    "                      'CS_0','CS_1','CS_2','CS_3','CS_4','CS_5','CS_6',\n",
    "                      'AT_0','AT_1','AT_2','AT_3','AT_4','AT_5','AT_6',\n",
    "                      'NA_0','NA_1','NA_2','NA_3','NA_4','NA_5','NA_6',\n",
    "                      'ADL_0','ADL_1','ADL_2','ADL_3','ADL_4','ADL_5','ADL_6',\n",
    "                      'NAD_0','NAD_1','NAD_2','NAD_3','NAD_4','NAD_5','NAD_6','buzz'\n",
    "                      )\n",
    "print(twitter_data.head(4))\n",
    "\n",
    "twitter_data.shape"
   ]
  },
  {
   "cell_type": "markdown",
   "metadata": {},
   "source": [
    "### Explore dataset"
   ]
  },
  {
   "cell_type": "code",
   "execution_count": 290,
   "metadata": {},
   "outputs": [
    {
     "name": "stdout",
     "output_type": "stream",
     "text": [
      "<class 'pandas.core.frame.DataFrame'>\n",
      "RangeIndex: 583249 entries, 0 to 583248\n",
      "Data columns (total 78 columns):\n",
      "NCD_0        583249 non-null int64\n",
      "NCD_1        583249 non-null int64\n",
      "NCD_2        583249 non-null int64\n",
      "NCD_3        583249 non-null int64\n",
      "NCD_4        583249 non-null int64\n",
      "NCD_5        583249 non-null int64\n",
      "NCD_6        583249 non-null int64\n",
      "AI_0         583249 non-null int64\n",
      "AI_1         583249 non-null int64\n",
      "AI_2         583249 non-null int64\n",
      "AI_3         583249 non-null int64\n",
      "AI_4         583249 non-null int64\n",
      "AI_5         583249 non-null int64\n",
      "AI_6         583249 non-null int64\n",
      "AS(NA)_0     583249 non-null float64\n",
      "AS(NA)_1     583249 non-null float64\n",
      "AS(NA)_2     583249 non-null float64\n",
      "AS(NA)_3     583249 non-null float64\n",
      "AS(NA)_4     583249 non-null float64\n",
      "AS(NA)_5     583249 non-null float64\n",
      "AS(NA)_6     583249 non-null float64\n",
      "BL_0         583249 non-null float64\n",
      "BL_1         583249 non-null float64\n",
      "BL_2         583249 non-null float64\n",
      "BL_3         583249 non-null float64\n",
      "BL_4         583249 non-null float64\n",
      "BL_5         583249 non-null float64\n",
      "BL_6         583249 non-null float64\n",
      "NAC_0        583249 non-null int64\n",
      "NAC_1        583249 non-null int64\n",
      "NAC_2        583249 non-null int64\n",
      "NAC_3        583249 non-null int64\n",
      "NAC_4        583249 non-null int64\n",
      "NAC_5        583249 non-null int64\n",
      "NAC_6        583249 non-null int64\n",
      "AS(NAC)_0    583249 non-null float64\n",
      "AS(NAC)_1    583249 non-null float64\n",
      "AS(NAC)_2    583249 non-null float64\n",
      "AS(NAC)_3    583249 non-null float64\n",
      "AS(NAC)_4    583249 non-null float64\n",
      "AS(NAC)_5    583249 non-null float64\n",
      "AS(NAC)_6    583249 non-null float64\n",
      "CS_0         583249 non-null float64\n",
      "CS_1         583249 non-null float64\n",
      "CS_2         583249 non-null float64\n",
      "CS_3         583249 non-null float64\n",
      "CS_4         583249 non-null float64\n",
      "CS_5         583249 non-null float64\n",
      "CS_6         583249 non-null float64\n",
      "AT_0         583249 non-null float64\n",
      "AT_1         583249 non-null float64\n",
      "AT_2         583249 non-null float64\n",
      "AT_3         583249 non-null float64\n",
      "AT_4         583249 non-null float64\n",
      "AT_5         583249 non-null float64\n",
      "AT_6         583249 non-null float64\n",
      "NA_0         583249 non-null int64\n",
      "NA_1         583249 non-null int64\n",
      "NA_2         583249 non-null int64\n",
      "NA_3         583249 non-null int64\n",
      "NA_4         583249 non-null int64\n",
      "NA_5         583249 non-null int64\n",
      "NA_6         583249 non-null int64\n",
      "ADL_0        583249 non-null float64\n",
      "ADL_1        583249 non-null float64\n",
      "ADL_2        583249 non-null float64\n",
      "ADL_3        583249 non-null float64\n",
      "ADL_4        583249 non-null float64\n",
      "ADL_5        583249 non-null float64\n",
      "ADL_6        583249 non-null float64\n",
      "NAD_0        583249 non-null int64\n",
      "NAD_1        583249 non-null int64\n",
      "NAD_2        583249 non-null int64\n",
      "NAD_3        583249 non-null int64\n",
      "NAD_4        583249 non-null int64\n",
      "NAD_5        583249 non-null int64\n",
      "NAD_6        583249 non-null int64\n",
      "buzz         583249 non-null float64\n",
      "dtypes: float64(43), int64(35)\n",
      "memory usage: 347.1 MB\n"
     ]
    }
   ],
   "source": [
    "twitter_data.info()"
   ]
  },
  {
   "cell_type": "code",
   "execution_count": 291,
   "metadata": {},
   "outputs": [
    {
     "data": {
      "text/html": [
       "<div>\n",
       "<style>\n",
       "    .dataframe thead tr:only-child th {\n",
       "        text-align: right;\n",
       "    }\n",
       "\n",
       "    .dataframe thead th {\n",
       "        text-align: left;\n",
       "    }\n",
       "\n",
       "    .dataframe tbody tr th {\n",
       "        vertical-align: top;\n",
       "    }\n",
       "</style>\n",
       "<table border=\"1\" class=\"dataframe\">\n",
       "  <thead>\n",
       "    <tr style=\"text-align: right;\">\n",
       "      <th></th>\n",
       "      <th>NCD_0</th>\n",
       "      <th>NCD_1</th>\n",
       "      <th>NCD_2</th>\n",
       "      <th>NCD_3</th>\n",
       "      <th>NCD_4</th>\n",
       "      <th>NCD_5</th>\n",
       "      <th>NCD_6</th>\n",
       "      <th>AI_0</th>\n",
       "      <th>AI_1</th>\n",
       "      <th>AI_2</th>\n",
       "      <th>...</th>\n",
       "      <th>ADL_5</th>\n",
       "      <th>ADL_6</th>\n",
       "      <th>NAD_0</th>\n",
       "      <th>NAD_1</th>\n",
       "      <th>NAD_2</th>\n",
       "      <th>NAD_3</th>\n",
       "      <th>NAD_4</th>\n",
       "      <th>NAD_5</th>\n",
       "      <th>NAD_6</th>\n",
       "      <th>buzz</th>\n",
       "    </tr>\n",
       "  </thead>\n",
       "  <tbody>\n",
       "    <tr>\n",
       "      <th>0</th>\n",
       "      <td>2</td>\n",
       "      <td>1</td>\n",
       "      <td>0</td>\n",
       "      <td>0</td>\n",
       "      <td>0</td>\n",
       "      <td>0</td>\n",
       "      <td>4</td>\n",
       "      <td>2</td>\n",
       "      <td>1</td>\n",
       "      <td>0</td>\n",
       "      <td>...</td>\n",
       "      <td>0.0</td>\n",
       "      <td>1.0</td>\n",
       "      <td>2</td>\n",
       "      <td>1</td>\n",
       "      <td>0</td>\n",
       "      <td>0</td>\n",
       "      <td>0</td>\n",
       "      <td>0</td>\n",
       "      <td>4</td>\n",
       "      <td>0.5</td>\n",
       "    </tr>\n",
       "    <tr>\n",
       "      <th>1</th>\n",
       "      <td>1</td>\n",
       "      <td>0</td>\n",
       "      <td>0</td>\n",
       "      <td>0</td>\n",
       "      <td>0</td>\n",
       "      <td>4</td>\n",
       "      <td>1</td>\n",
       "      <td>1</td>\n",
       "      <td>0</td>\n",
       "      <td>0</td>\n",
       "      <td>...</td>\n",
       "      <td>1.0</td>\n",
       "      <td>1.0</td>\n",
       "      <td>1</td>\n",
       "      <td>0</td>\n",
       "      <td>0</td>\n",
       "      <td>0</td>\n",
       "      <td>0</td>\n",
       "      <td>4</td>\n",
       "      <td>1</td>\n",
       "      <td>0.0</td>\n",
       "    </tr>\n",
       "    <tr>\n",
       "      <th>2</th>\n",
       "      <td>1</td>\n",
       "      <td>0</td>\n",
       "      <td>0</td>\n",
       "      <td>1</td>\n",
       "      <td>0</td>\n",
       "      <td>0</td>\n",
       "      <td>1</td>\n",
       "      <td>1</td>\n",
       "      <td>0</td>\n",
       "      <td>0</td>\n",
       "      <td>...</td>\n",
       "      <td>0.0</td>\n",
       "      <td>1.0</td>\n",
       "      <td>1</td>\n",
       "      <td>0</td>\n",
       "      <td>0</td>\n",
       "      <td>1</td>\n",
       "      <td>0</td>\n",
       "      <td>0</td>\n",
       "      <td>1</td>\n",
       "      <td>2.5</td>\n",
       "    </tr>\n",
       "    <tr>\n",
       "      <th>3</th>\n",
       "      <td>0</td>\n",
       "      <td>1</td>\n",
       "      <td>0</td>\n",
       "      <td>0</td>\n",
       "      <td>1</td>\n",
       "      <td>2</td>\n",
       "      <td>3</td>\n",
       "      <td>0</td>\n",
       "      <td>1</td>\n",
       "      <td>0</td>\n",
       "      <td>...</td>\n",
       "      <td>1.0</td>\n",
       "      <td>1.0</td>\n",
       "      <td>0</td>\n",
       "      <td>1</td>\n",
       "      <td>0</td>\n",
       "      <td>0</td>\n",
       "      <td>1</td>\n",
       "      <td>2</td>\n",
       "      <td>3</td>\n",
       "      <td>0.5</td>\n",
       "    </tr>\n",
       "    <tr>\n",
       "      <th>4</th>\n",
       "      <td>1</td>\n",
       "      <td>0</td>\n",
       "      <td>0</td>\n",
       "      <td>1</td>\n",
       "      <td>2</td>\n",
       "      <td>3</td>\n",
       "      <td>0</td>\n",
       "      <td>1</td>\n",
       "      <td>0</td>\n",
       "      <td>0</td>\n",
       "      <td>...</td>\n",
       "      <td>1.0</td>\n",
       "      <td>0.0</td>\n",
       "      <td>1</td>\n",
       "      <td>0</td>\n",
       "      <td>0</td>\n",
       "      <td>1</td>\n",
       "      <td>2</td>\n",
       "      <td>3</td>\n",
       "      <td>0</td>\n",
       "      <td>1.0</td>\n",
       "    </tr>\n",
       "  </tbody>\n",
       "</table>\n",
       "<p>5 rows × 78 columns</p>\n",
       "</div>"
      ],
      "text/plain": [
       "   NCD_0  NCD_1  NCD_2  NCD_3  NCD_4  NCD_5  NCD_6  AI_0  AI_1  AI_2  ...   \\\n",
       "0  2      1      0      0      0      0      4      2     1     0     ...    \n",
       "1  1      0      0      0      0      4      1      1     0     0     ...    \n",
       "2  1      0      0      1      0      0      1      1     0     0     ...    \n",
       "3  0      1      0      0      1      2      3      0     1     0     ...    \n",
       "4  1      0      0      1      2      3      0      1     0     0     ...    \n",
       "\n",
       "   ADL_5  ADL_6  NAD_0  NAD_1  NAD_2  NAD_3  NAD_4  NAD_5  NAD_6  buzz  \n",
       "0  0.0    1.0    2      1      0      0      0      0      4      0.5   \n",
       "1  1.0    1.0    1      0      0      0      0      4      1      0.0   \n",
       "2  0.0    1.0    1      0      0      1      0      0      1      2.5   \n",
       "3  1.0    1.0    0      1      0      0      1      2      3      0.5   \n",
       "4  1.0    0.0    1      0      0      1      2      3      0      1.0   \n",
       "\n",
       "[5 rows x 78 columns]"
      ]
     },
     "execution_count": 291,
     "metadata": {},
     "output_type": "execute_result"
    }
   ],
   "source": [
    "twitter_data.head()"
   ]
  },
  {
   "cell_type": "markdown",
   "metadata": {},
   "source": [
    "#### Preprocessing of data:\n",
    "Check for missing values\n"
   ]
  },
  {
   "cell_type": "code",
   "execution_count": 292,
   "metadata": {},
   "outputs": [
    {
     "name": "stdout",
     "output_type": "stream",
     "text": [
      "               NCD_0          NCD_1          NCD_2          NCD_3  \\\n",
      "count  583249.000000  583249.000000  583249.000000  583249.000000   \n",
      "mean   140.339881     136.770378     159.679545     181.592402      \n",
      "std    431.772970     432.305464     502.057815     574.884157      \n",
      "min    0.000000       0.000000       0.000000       0.000000        \n",
      "25%    3.000000       3.000000       4.000000       4.000000        \n",
      "50%    18.000000      17.000000      21.000000      24.000000       \n",
      "75%    104.000000     100.000000     115.000000     131.000000      \n",
      "max    24210.000000   29574.000000   37505.000000   72366.000000    \n",
      "\n",
      "               NCD_4          NCD_5          NCD_6           AI_0  \\\n",
      "count  583249.000000  583249.000000  583249.000000  583249.000000   \n",
      "mean   201.097788     220.175747     219.388589     71.038172       \n",
      "std    630.448918     669.206442     672.182719     196.876865      \n",
      "min    0.000000       0.000000       0.000000       0.000000        \n",
      "25%    5.000000       6.000000       6.000000       2.000000        \n",
      "50%    27.000000      31.000000      30.000000      11.000000       \n",
      "75%    147.000000     166.000000     164.000000     59.000000       \n",
      "max    79079.000000   79079.000000   79079.000000   18654.000000    \n",
      "\n",
      "                AI_1           AI_2      ...                ADL_5  \\\n",
      "count  583249.000000  583249.000000      ...        583249.000000   \n",
      "mean   69.829749      82.198344          ...        1.136689        \n",
      "std    202.199911     239.523223         ...        1.432328        \n",
      "min    0.000000       0.000000           ...        0.000000        \n",
      "25%    2.000000       2.000000           ...        1.000000        \n",
      "50%    11.000000      13.000000          ...        1.000000        \n",
      "75%    57.000000      65.000000          ...        1.090909        \n",
      "max    22035.000000   29402.000000       ...        262.000000      \n",
      "\n",
      "               ADL_6          NAD_0          NAD_1          NAD_2  \\\n",
      "count  583249.000000  583249.000000  583249.000000  583249.000000   \n",
      "mean   1.140372       140.790102     137.181502     160.106196      \n",
      "std    1.552315       432.625285     433.026946     502.774795      \n",
      "min    0.000000       0.000000       0.000000       0.000000        \n",
      "25%    1.000000       3.000000       3.000000       4.000000        \n",
      "50%    1.000000       18.000000      17.000000      21.000000       \n",
      "75%    1.091298       104.000000     101.000000     115.000000      \n",
      "max    295.000000     24301.000000   29574.000000   37505.000000    \n",
      "\n",
      "               NAD_3          NAD_4          NAD_5          NAD_6  \\\n",
      "count  583249.000000  583249.000000  583249.000000  583249.000000   \n",
      "mean   182.057752     201.596826     220.706276     219.937239      \n",
      "std    575.658466     631.258804     670.051490     673.033057      \n",
      "min    0.000000       0.000000       0.000000       0.000000        \n",
      "25%    4.000000       5.000000       6.000000       6.000000        \n",
      "50%    24.000000      27.000000      31.000000      31.000000       \n",
      "75%    131.000000     148.000000     167.000000     165.000000      \n",
      "max    72366.000000   79083.000000   79083.000000   79083.000000    \n",
      "\n",
      "                buzz  \n",
      "count  583249.000000  \n",
      "mean   191.279821     \n",
      "std    612.352828     \n",
      "min    0.000000       \n",
      "25%    4.500000       \n",
      "50%    25.500000      \n",
      "75%    139.000000     \n",
      "max    75724.500000   \n",
      "\n",
      "[8 rows x 78 columns]\n",
      "NCD_0       0\n",
      "NCD_1       0\n",
      "NCD_2       0\n",
      "NCD_3       0\n",
      "NCD_4       0\n",
      "NCD_5       0\n",
      "NCD_6       0\n",
      "AI_0        0\n",
      "AI_1        0\n",
      "AI_2        0\n",
      "AI_3        0\n",
      "AI_4        0\n",
      "AI_5        0\n",
      "AI_6        0\n",
      "AS(NA)_0    0\n",
      "AS(NA)_1    0\n",
      "AS(NA)_2    0\n",
      "AS(NA)_3    0\n",
      "AS(NA)_4    0\n",
      "AS(NA)_5    0\n",
      "AS(NA)_6    0\n",
      "BL_0        0\n",
      "BL_1        0\n",
      "BL_2        0\n",
      "BL_3        0\n",
      "BL_4        0\n",
      "BL_5        0\n",
      "BL_6        0\n",
      "NAC_0       0\n",
      "NAC_1       0\n",
      "           ..\n",
      "CS_6        0\n",
      "AT_0        0\n",
      "AT_1        0\n",
      "AT_2        0\n",
      "AT_3        0\n",
      "AT_4        0\n",
      "AT_5        0\n",
      "AT_6        0\n",
      "NA_0        0\n",
      "NA_1        0\n",
      "NA_2        0\n",
      "NA_3        0\n",
      "NA_4        0\n",
      "NA_5        0\n",
      "NA_6        0\n",
      "ADL_0       0\n",
      "ADL_1       0\n",
      "ADL_2       0\n",
      "ADL_3       0\n",
      "ADL_4       0\n",
      "ADL_5       0\n",
      "ADL_6       0\n",
      "NAD_0       0\n",
      "NAD_1       0\n",
      "NAD_2       0\n",
      "NAD_3       0\n",
      "NAD_4       0\n",
      "NAD_5       0\n",
      "NAD_6       0\n",
      "buzz        0\n",
      "Length: 78, dtype: int64\n"
     ]
    }
   ],
   "source": [
    "print(twitter_data.describe())\n",
    "print(twitter_data.isnull().sum())"
   ]
  },
  {
   "cell_type": "code",
   "execution_count": 293,
   "metadata": {},
   "outputs": [
    {
     "name": "stdout",
     "output_type": "stream",
     "text": [
      "(583249, 77)\n",
      "(583249, 1)\n"
     ]
    }
   ],
   "source": [
    "twitter_data_x = twitter_data.iloc[:,0:77]\n",
    "twitter_data_y = twitter_data.iloc[:,77:]\n",
    "\n",
    "print(twitter_data_x.shape)\n",
    "print(twitter_data_y.shape)\n"
   ]
  },
  {
   "cell_type": "code",
   "execution_count": 294,
   "metadata": {},
   "outputs": [
    {
     "data": {
      "text/plain": [
       "array([[<matplotlib.axes._subplots.AxesSubplot object at 0x0000020CA2ABBEF0>,\n",
       "        <matplotlib.axes._subplots.AxesSubplot object at 0x0000020CA2AA6358>,\n",
       "        <matplotlib.axes._subplots.AxesSubplot object at 0x0000020CA2A7E9E8>,\n",
       "        <matplotlib.axes._subplots.AxesSubplot object at 0x0000020CA2AF7A58>,\n",
       "        <matplotlib.axes._subplots.AxesSubplot object at 0x0000020CA2B326D8>,\n",
       "        <matplotlib.axes._subplots.AxesSubplot object at 0x0000020CA2B32710>,\n",
       "        <matplotlib.axes._subplots.AxesSubplot object at 0x0000020CA2B4B518>],\n",
       "       [<matplotlib.axes._subplots.AxesSubplot object at 0x0000020CA306CCF8>,\n",
       "        <matplotlib.axes._subplots.AxesSubplot object at 0x0000020CA30A87B8>,\n",
       "        <matplotlib.axes._subplots.AxesSubplot object at 0x0000020CA30E2518>,\n",
       "        <matplotlib.axes._subplots.AxesSubplot object at 0x0000020CA3120048>,\n",
       "        <matplotlib.axes._subplots.AxesSubplot object at 0x0000020CA31499E8>,\n",
       "        <matplotlib.axes._subplots.AxesSubplot object at 0x0000020CA3186748>,\n",
       "        <matplotlib.axes._subplots.AxesSubplot object at 0x0000020CA31C2208>],\n",
       "       [<matplotlib.axes._subplots.AxesSubplot object at 0x0000020CA31FB208>,\n",
       "        <matplotlib.axes._subplots.AxesSubplot object at 0x0000020CA321AD68>,\n",
       "        <matplotlib.axes._subplots.AxesSubplot object at 0x0000020CA3258E48>,\n",
       "        <matplotlib.axes._subplots.AxesSubplot object at 0x0000020CA3294DD8>,\n",
       "        <matplotlib.axes._subplots.AxesSubplot object at 0x0000020CA32B01D0>,\n",
       "        <matplotlib.axes._subplots.AxesSubplot object at 0x0000020CA3A30518>,\n",
       "        <matplotlib.axes._subplots.AxesSubplot object at 0x0000020CA3A5D748>],\n",
       "       [<matplotlib.axes._subplots.AxesSubplot object at 0x0000020CA3A97438>,\n",
       "        <matplotlib.axes._subplots.AxesSubplot object at 0x0000020CA4EABF98>,\n",
       "        <matplotlib.axes._subplots.AxesSubplot object at 0x0000020CA4EE4AC8>,\n",
       "        <matplotlib.axes._subplots.AxesSubplot object at 0x0000020CA4EFF860>,\n",
       "        <matplotlib.axes._subplots.AxesSubplot object at 0x0000020CA4F4EBA8>,\n",
       "        <matplotlib.axes._subplots.AxesSubplot object at 0x0000020CA6A8BAC8>,\n",
       "        <matplotlib.axes._subplots.AxesSubplot object at 0x0000020CA6AADAC8>],\n",
       "       [<matplotlib.axes._subplots.AxesSubplot object at 0x0000020CA6B05208>,\n",
       "        <matplotlib.axes._subplots.AxesSubplot object at 0x0000020CA6B314A8>,\n",
       "        <matplotlib.axes._subplots.AxesSubplot object at 0x0000020CA6B6D198>,\n",
       "        <matplotlib.axes._subplots.AxesSubplot object at 0x0000020CA6B9ECF8>,\n",
       "        <matplotlib.axes._subplots.AxesSubplot object at 0x0000020CA6BDC898>,\n",
       "        <matplotlib.axes._subplots.AxesSubplot object at 0x0000020CA6BF27F0>,\n",
       "        <matplotlib.axes._subplots.AxesSubplot object at 0x0000020CA6C44908>],\n",
       "       [<matplotlib.axes._subplots.AxesSubplot object at 0x0000020CA6C80828>,\n",
       "        <matplotlib.axes._subplots.AxesSubplot object at 0x0000020CA6CA1828>,\n",
       "        <matplotlib.axes._subplots.AxesSubplot object at 0x0000020CA6CEEF28>,\n",
       "        <matplotlib.axes._subplots.AxesSubplot object at 0x0000020CA6D27208>,\n",
       "        <matplotlib.axes._subplots.AxesSubplot object at 0x0000020CA6D57EB8>,\n",
       "        <matplotlib.axes._subplots.AxesSubplot object at 0x0000020CA6D94A58>,\n",
       "        <matplotlib.axes._subplots.AxesSubplot object at 0x0000020CA6DD0588>],\n",
       "       [<matplotlib.axes._subplots.AxesSubplot object at 0x0000020CA6DE96D8>,\n",
       "        <matplotlib.axes._subplots.AxesSubplot object at 0x0000020CA6E38668>,\n",
       "        <matplotlib.axes._subplots.AxesSubplot object at 0x0000020CA6E75588>,\n",
       "        <matplotlib.axes._subplots.AxesSubplot object at 0x0000020CA6E8C4A8>,\n",
       "        <matplotlib.axes._subplots.AxesSubplot object at 0x0000020CA6EE2CF8>,\n",
       "        <matplotlib.axes._subplots.AxesSubplot object at 0x0000020CA2ED2E48>,\n",
       "        <matplotlib.axes._subplots.AxesSubplot object at 0x0000020CA2A8E4A8>]],\n",
       "      dtype=object)"
      ]
     },
     "execution_count": 294,
     "metadata": {},
     "output_type": "execute_result"
    },
    {
     "data": {
      "image/png": "[encoded data removed]",
      "text/plain": [
       "<matplotlib.figure.Figure at 0x20ca2aa7898>"
      ]
     },
     "metadata": {},
     "output_type": "display_data"
    }
   ],
   "source": [
    "from pandas.plotting import scatter_matrix\n",
    "attributes = twitter_data_x.iloc[:,:7]\n",
    "scatter_matrix(attributes, figsize = (9,9), alpha = 0.8, marker = 'O')"
   ]
  },
  {
   "cell_type": "code",
   "execution_count": 295,
   "metadata": {
    "collapsed": true
   },
   "outputs": [],
   "source": [
    " _, sample_data, _, sample_target = train_test_split(twitter_data_x, twitter_data_y, shuffle = True, test_size = 0.1)\n"
   ]
  },
  {
   "cell_type": "code",
   "execution_count": 296,
   "metadata": {},
   "outputs": [
    {
     "name": "stdout",
     "output_type": "stream",
     "text": [
      "(58325, 77)\n",
      "(58325, 1)\n"
     ]
    }
   ],
   "source": [
    "print(sample_data.shape)   \n",
    "print(sample_target.shape)"
   ]
  },
  {
   "cell_type": "markdown",
   "metadata": {},
   "source": [
    "#### Splitting of dataset into 70 & 30 dataset fro training and test data"
   ]
  },
  {
   "cell_type": "code",
   "execution_count": 297,
   "metadata": {
    "collapsed": true
   },
   "outputs": [],
   "source": [
    "twitter_x_train, twitter_x_test, twitter_y_train, twitter_y_test = \\\n",
    "    train_test_split(sample_data, sample_target, random_state = 0,test_size = 0.3)\n",
    "\n"
   ]
  },
  {
   "cell_type": "markdown",
   "metadata": {},
   "source": [
    "#### Min max Scaler used for scaling of dataset.\n",
    "###### StandardScaler removes the mean and scales the data to unit variance. This scaler cannot guarantee balanced feature scales in the presence of outliers. MinMaxScaler rescales the data set such that all feature values are in the range [0, 1]. The outliers have an influence when computing the empirical mean and standard deviation which shrink the range of the feature values. Therefore, we prefer using MinMaxScaler to preserve the effects of outliers."
   ]
  },
  {
   "cell_type": "code",
   "execution_count": 298,
   "metadata": {
    "collapsed": true
   },
   "outputs": [],
   "source": [
    "#scaling using min max scaler\n",
    "scaler = MinMaxScaler()\n",
    "twitter_data_x_scaled_train = scaler.fit_transform(twitter_x_train)\n",
    "twitter_data_x_scaled_test = scaler.transform(twitter_x_test)"
   ]
  },
  {
   "cell_type": "code",
   "execution_count": 299,
   "metadata": {},
   "outputs": [
    {
     "name": "stdout",
     "output_type": "stream",
     "text": [
      "Size of training set: 40827  size of test set: 17498\n",
      "\n"
     ]
    }
   ],
   "source": [
    "print(\"Size of training set: {}  size of test set:\"\n",
    "      \" {}\\n\".format(twitter_data_x_scaled_train.shape[0], twitter_data_x_scaled_test.shape[0]))"
   ]
  },
  {
   "cell_type": "markdown",
   "metadata": {},
   "source": [
    "#### Bagging Regressor with Decision Tree and Random Forest\n",
    "\n",
    "#### Decision tree regressor with bagging"
   ]
  },
  {
   "cell_type": "code",
   "execution_count": 300,
   "metadata": {},
   "outputs": [
    {
     "name": "stdout",
     "output_type": "stream",
     "text": [
      "0.6388282580880692\n",
      "Train score: 0.64\n",
      "Test score: 0.50\n"
     ]
    }
   ],
   "source": [
    "dt_reg = DecisionTreeRegressor(random_state=0)\n",
    "bag_tree_reg = BaggingRegressor(dt_reg, n_estimators=200, max_samples=100, bootstrap=True, n_jobs=-1, random_state=0,oob_score = True)\n",
    "\n",
    "bag_tree_reg.fit(twitter_data_x_scaled_train, twitter_y_train)\n",
    "y_pred_tree_bag = bag_tree_reg.predict(twitter_data_x_scaled_test)\n",
    "print(bag_tree_reg.oob_score_)\n",
    "print('Train score: {:.2f}'.format(bag_tree_reg.score(twitter_data_x_scaled_train, twitter_y_train)))\n",
    "print('Test score: {:.2f}'.format(bag_tree_reg.score(twitter_data_x_scaled_test, twitter_y_test)))"
   ]
  },
  {
   "cell_type": "markdown",
   "metadata": {},
   "source": [
    "#### Decision tree without bagging and  without pasting"
   ]
  },
  {
   "cell_type": "code",
   "execution_count": 301,
   "metadata": {
    "collapsed": true
   },
   "outputs": [],
   "source": [
    "#Score of out of objects can be used to analyse bcoz 37% of instances are left out in bagging and pasting\n",
    "no_bag_tree_reg = DecisionTreeRegressor(random_state=0)\n",
    "no_bag_tree_reg.fit(twitter_data_x_scaled_train, twitter_y_train)\n",
    "y_pred_tree_no_bag = no_bag_tree_reg.predict(twitter_data_x_scaled_test)\n"
   ]
  },
  {
   "cell_type": "code",
   "execution_count": 302,
   "metadata": {},
   "outputs": [
    {
     "data": {
      "image/png": "[encoded data removed]",
      "text/plain": [
       "<matplotlib.figure.Figure at 0x20ca6dbd390>"
      ]
     },
     "metadata": {},
     "output_type": "display_data"
    }
   ],
   "source": [
    "#feature importance plot\n",
    "feature_imp_ada = pd.DataFrame(sorted(zip(no_bag_tree_reg.feature_importances_,twitter_data_x.columns)), columns=['Value','Feature'])\n",
    "plt.figure(figsize=(12,6))\n",
    "sns.barplot(x=\"Value\", y=\"Feature\", data=feature_imp_ada.sort_values(by=\"Value\", ascending=False).head(10))\n",
    "plt.title('Decision Tree Regressor Features')\n",
    "plt.tight_layout()\n",
    "plt.show()\n"
   ]
  },
  {
   "cell_type": "markdown",
   "metadata": {},
   "source": [
    "##### random forest using splitter as random under decision tree regressor\n",
    "\n",
    "#### Random Forest with bagging\n"
   ]
  },
  {
   "cell_type": "code",
   "execution_count": 303,
   "metadata": {
    "collapsed": true
   },
   "outputs": [],
   "source": [
    "rand_reg = DecisionTreeRegressor(splitter=\"random\", max_leaf_nodes=16, random_state=0)\n",
    "bag_rand_reg = BaggingRegressor(rand_reg, n_estimators=200, max_samples=1.0, bootstrap=True, n_jobs=-1, random_state=0,oob_score=True)"
   ]
  },
  {
   "cell_type": "code",
   "execution_count": 304,
   "metadata": {},
   "outputs": [
    {
     "data": {
      "text/plain": [
       "0.9098842484672126"
      ]
     },
     "execution_count": 304,
     "metadata": {},
     "output_type": "execute_result"
    }
   ],
   "source": [
    "bag_rand_reg.fit(twitter_data_x_scaled_train, twitter_y_train)\n",
    "y_pred_rand = bag_rand_reg.predict(twitter_data_x_scaled_test)\n",
    "bag_rand_reg.oob_score_"
   ]
  },
  {
   "cell_type": "code",
   "execution_count": 305,
   "metadata": {},
   "outputs": [
    {
     "name": "stdout",
     "output_type": "stream",
     "text": [
      "Train score: 0.94\n",
      "Test score: 0.92\n"
     ]
    }
   ],
   "source": [
    "#Direct Random Forest Regressor without bagging\n",
    "bag_rnd_tree = RandomForestRegressor(n_estimators=200, max_leaf_nodes=16, n_jobs=-1, random_state=0)\n",
    "bag_rnd_tree.fit(twitter_data_x_scaled_train, twitter_y_train)\n",
    "y_pred_rf = bag_rnd_tree.predict(twitter_data_x_scaled_test)\n",
    "np.sum(y_pred_rand == y_pred_rf ) / len(y_pred_rand)\n",
    "print('Train score: {:.2f}'.format(bag_rnd_tree.score(twitter_data_x_scaled_train, twitter_y_train)))\n",
    "print('Test score: {:.2f}'.format(bag_rnd_tree.score(twitter_data_x_scaled_test, twitter_y_test)))\n"
   ]
  },
  {
   "cell_type": "code",
   "execution_count": 306,
   "metadata": {},
   "outputs": [
    {
     "data": {
      "image/png": "[encoded data removed]",
      "text/plain": [
       "<matplotlib.figure.Figure at 0x20ca4ea04e0>"
      ]
     },
     "metadata": {},
     "output_type": "display_data"
    }
   ],
   "source": [
    "#Feature importance plot\n",
    "feature_imp_ada = pd.DataFrame(sorted(zip(bag_rnd_tree.feature_importances_,twitter_data_x.columns)), columns=['Value','Feature'])\n",
    "plt.figure(figsize=(12,6))\n",
    "sns.barplot(x=\"Value\", y=\"Feature\", data=feature_imp_ada.sort_values(by=\"Value\", ascending=False).head(10))\n",
    "plt.title('Random Forest regressor Features')\n",
    "plt.tight_layout()\n",
    "plt.show()\n"
   ]
  },
  {
   "cell_type": "markdown",
   "metadata": {},
   "source": [
    "#### Pasting Regressor with Decision tree and random forest"
   ]
  },
  {
   "cell_type": "markdown",
   "metadata": {},
   "source": [
    "#### Decision tree with pasting\n"
   ]
  },
  {
   "cell_type": "code",
   "execution_count": 307,
   "metadata": {},
   "outputs": [
    {
     "name": "stdout",
     "output_type": "stream",
     "text": [
      "Train score: 0.64\n",
      "Test score: 0.50\n"
     ]
    }
   ],
   "source": [
    "dt_reg = DecisionTreeRegressor(random_state=0)\n",
    "pas_tree_reg = BaggingRegressor(dt_reg, n_estimators=200, max_samples=100, bootstrap=False, n_jobs=-1, random_state=0)\n",
    "#bootstrap = False is pasting\n",
    "pas_tree_reg.fit(twitter_data_x_scaled_train, twitter_y_train)\n",
    "y_pred_tree_pas = pas_tree_reg.predict(twitter_data_x_scaled_test)\n",
    "print('Train score: {:.2f}'.format(pas_tree_reg.score(twitter_data_x_scaled_train, twitter_y_train)))\n",
    "print('Test score: {:.2f}'.format(pas_tree_reg.score(twitter_data_x_scaled_test, twitter_y_test)))"
   ]
  },
  {
   "cell_type": "markdown",
   "metadata": {},
   "source": [
    "#### Random Forest with pasting"
   ]
  },
  {
   "cell_type": "code",
   "execution_count": 308,
   "metadata": {},
   "outputs": [
    {
     "name": "stdout",
     "output_type": "stream",
     "text": [
      "Train score: 0.94\n",
      "Test score: 0.94\n"
     ]
    }
   ],
   "source": [
    "rand_reg = DecisionTreeRegressor(splitter=\"random\", max_leaf_nodes=16, random_state=0)\n",
    "pas_rand_reg = BaggingRegressor(rand_reg, n_estimators=200, max_samples=1.0, bootstrap=False, n_jobs=-1, random_state=0)\n",
    "#bootstrap = False is pasting\n",
    "pas_rand_reg.fit(twitter_data_x_scaled_train, twitter_y_train)\n",
    "y_pred_rand = pas_rand_reg.predict(twitter_data_x_scaled_test)\n",
    "print('Train score: {:.2f}'.format(pas_rand_reg.score(twitter_data_x_scaled_train, twitter_y_train)))\n",
    "print('Test score: {:.2f}'.format(pas_rand_reg.score(twitter_data_x_scaled_test, twitter_y_test)))"
   ]
  },
  {
   "cell_type": "markdown",
   "metadata": {},
   "source": [
    "### 2 models with AdaBoosting"
   ]
  },
  {
   "cell_type": "code",
   "execution_count": 309,
   "metadata": {},
   "outputs": [
    {
     "data": {
      "text/plain": [
       "AdaBoostRegressor(base_estimator=DecisionTreeRegressor(criterion='mse', max_depth=1, max_features=None,\n",
       "           max_leaf_nodes=None, min_impurity_decrease=0.0,\n",
       "           min_impurity_split=None, min_samples_leaf=1,\n",
       "           min_samples_split=2, min_weight_fraction_leaf=0.0,\n",
       "           presort=False, random_state=None, splitter='best'),\n",
       "         learning_rate=0.5, loss='linear', n_estimators=200,\n",
       "         random_state=0)"
      ]
     },
     "execution_count": 309,
     "metadata": {},
     "output_type": "execute_result"
    }
   ],
   "source": [
    "ada_reg_tree = AdaBoostRegressor(DecisionTreeRegressor(max_depth=1), n_estimators=200,learning_rate=0.5, random_state=0)\n",
    "ada_reg_tree.fit(twitter_data_x_scaled_train, twitter_y_train)"
   ]
  },
  {
   "cell_type": "code",
   "execution_count": 310,
   "metadata": {},
   "outputs": [
    {
     "data": {
      "image/png": "[encoded data removed]",
      "text/plain": [
       "<matplotlib.figure.Figure at 0x20c88bf84e0>"
      ]
     },
     "metadata": {},
     "output_type": "display_data"
    }
   ],
   "source": [
    "#Feature importance plot\n",
    "feature_imp_ada = pd.DataFrame(sorted(zip(ada_reg_tree.feature_importances_,twitter_data_x.columns)), columns=['Value','Feature'])\n",
    "plt.figure(figsize=(12,6))\n",
    "sns.barplot(x=\"Value\", y=\"Feature\", data=feature_imp_ada.sort_values(by=\"Value\", ascending=False).head(10))\n",
    "plt.title('AdaBoosting Decision Tree Regressor with 200 Estimators')\n",
    "plt.tight_layout()\n",
    "plt.show()\n"
   ]
  },
  {
   "cell_type": "code",
   "execution_count": 311,
   "metadata": {},
   "outputs": [
    {
     "name": "stdout",
     "output_type": "stream",
     "text": [
      "Train score: 0.10\n",
      "Test score: 0.33\n"
     ]
    }
   ],
   "source": [
    "print('Train score: {:.2f}'.format(ada_reg_tree.score(twitter_data_x_scaled_train, twitter_y_train)))\n",
    "print('Test score: {:.2f}'.format(ada_reg_tree.score(twitter_data_x_scaled_test, twitter_y_test)))"
   ]
  },
  {
   "cell_type": "code",
   "execution_count": 312,
   "metadata": {},
   "outputs": [
    {
     "data": {
      "text/plain": [
       "AdaBoostRegressor(base_estimator=RandomForestRegressor(bootstrap=True, criterion='mse', max_depth=1,\n",
       "           max_features='auto', max_leaf_nodes=None,\n",
       "           min_impurity_decrease=0.0, min_impurity_split=None,\n",
       "           min_samples_leaf=1, min_samples_split=2,\n",
       "           min_weight_fraction_leaf=0.0, n_estimators=10, n_jobs=1,\n",
       "           oob_score=False, random_state=None, verbose=0, warm_start=False),\n",
       "         learning_rate=0.5, loss='linear', n_estimators=200,\n",
       "         random_state=0)"
      ]
     },
     "execution_count": 312,
     "metadata": {},
     "output_type": "execute_result"
    }
   ],
   "source": [
    "ada_reg_rf = AdaBoostRegressor(RandomForestRegressor(max_depth=1), n_estimators=200,learning_rate=0.5, random_state=0)\n",
    "ada_reg_rf.fit(twitter_data_x_scaled_train, twitter_y_train)"
   ]
  },
  {
   "cell_type": "code",
   "execution_count": 313,
   "metadata": {},
   "outputs": [
    {
     "name": "stdout",
     "output_type": "stream",
     "text": [
      "Train score: 0.28\n",
      "Test score: 0.45\n"
     ]
    }
   ],
   "source": [
    "print('Train score: {:.2f}'.format(ada_reg_rf.score(twitter_data_x_scaled_train, twitter_y_train)))\n",
    "print('Test score: {:.2f}'.format(ada_reg_rf.score(twitter_data_x_scaled_test, twitter_y_test)))"
   ]
  },
  {
   "cell_type": "code",
   "execution_count": 314,
   "metadata": {},
   "outputs": [
    {
     "data": {
      "image/png": "[encoded data removed]",
      "text/plain": [
       "<matplotlib.figure.Figure at 0x20c89ab60b8>"
      ]
     },
     "metadata": {},
     "output_type": "display_data"
    }
   ],
   "source": [
    "#Feature importance plot\n",
    "feature_imp_ada = pd.DataFrame(sorted(zip(ada_reg_rf.feature_importances_,twitter_data_x.columns)), columns=['Value','Feature'])\n",
    "plt.figure(figsize=(12,6))\n",
    "sns.barplot(x=\"Value\", y=\"Feature\", data=feature_imp_ada.sort_values(by=\"Value\", ascending=False).head(10))\n",
    "plt.title('AdaBoosting Random Forest Regressor with 200 Estimators')\n",
    "plt.tight_layout()\n",
    "plt.show()\n"
   ]
  },
  {
   "cell_type": "markdown",
   "metadata": {},
   "source": [
    "#### Gradient Boosting Regressor"
   ]
  },
  {
   "cell_type": "code",
   "execution_count": 315,
   "metadata": {},
   "outputs": [
    {
     "name": "stdout",
     "output_type": "stream",
     "text": [
      "Accuracy on training set: 0.859\n",
      "Accuracy on test set: 0.855\n"
     ]
    }
   ],
   "source": [
    "gbrt = GradientBoostingRegressor(max_depth=2, n_estimators=3, learning_rate=1.0, random_state=42)\n",
    "gbrt.fit(twitter_data_x_scaled_train, twitter_y_train)\n",
    "\n",
    "print(\"Accuracy on training set: {:.3f}\".format(gbrt.score(twitter_data_x_scaled_train, twitter_y_train)))\n",
    "print(\"Accuracy on test set: {:.3f}\".format(gbrt.score(twitter_data_x_scaled_test, twitter_y_test)))"
   ]
  },
  {
   "cell_type": "code",
   "execution_count": 316,
   "metadata": {},
   "outputs": [
    {
     "data": {
      "text/plain": [
       "3"
      ]
     },
     "execution_count": 316,
     "metadata": {},
     "output_type": "execute_result"
    }
   ],
   "source": [
    "gbrt.n_estimators"
   ]
  },
  {
   "cell_type": "code",
   "execution_count": 317,
   "metadata": {},
   "outputs": [
    {
     "data": {
      "image/png": "[encoded data removed]",
      "text/plain": [
       "<matplotlib.figure.Figure at 0x20ca2ea3f98>"
      ]
     },
     "metadata": {},
     "output_type": "display_data"
    }
   ],
   "source": [
    "%matplotlib inline\n",
    "#Feature importance plot\n",
    "feature_imp_ada = pd.DataFrame(sorted(zip(gbrt.feature_importances_,twitter_data_x.columns)), columns=['Value','Feature'])\n",
    "plt.figure(figsize=(12,6))\n",
    "sns.barplot(x=\"Value\", y=\"Feature\", data=feature_imp_ada.sort_values(by=\"Value\", ascending=False).head(10))\n",
    "plt.title('Gradient Boosting Regressor for 3 Estimators')\n",
    "plt.tight_layout()\n",
    "plt.show()\n"
   ]
  },
  {
   "cell_type": "code",
   "execution_count": 318,
   "metadata": {},
   "outputs": [
    {
     "data": {
      "text/plain": [
       "GradientBoostingRegressor(alpha=0.9, criterion='friedman_mse', init=None,\n",
       "             learning_rate=0.1, loss='ls', max_depth=2, max_features=None,\n",
       "             max_leaf_nodes=None, min_impurity_decrease=0.0,\n",
       "             min_impurity_split=None, min_samples_leaf=1,\n",
       "             min_samples_split=2, min_weight_fraction_leaf=0.0,\n",
       "             n_estimators=200, presort='auto', random_state=42,\n",
       "             subsample=1.0, verbose=0, warm_start=False)"
      ]
     },
     "execution_count": 318,
     "metadata": {},
     "output_type": "execute_result"
    }
   ],
   "source": [
    "gbrt_slow = GradientBoostingRegressor(max_depth=2, n_estimators=200, learning_rate=0.1, random_state=42)\n",
    "gbrt_slow.fit(twitter_data_x_scaled_train, twitter_y_train)"
   ]
  },
  {
   "cell_type": "code",
   "execution_count": 319,
   "metadata": {},
   "outputs": [
    {
     "data": {
      "image/png": "[encoded data removed]",
      "text/plain": [
       "<matplotlib.figure.Figure at 0x20ca2aa5828>"
      ]
     },
     "metadata": {},
     "output_type": "display_data"
    }
   ],
   "source": [
    "%matplotlib inline\n",
    "#Feature importance plot\n",
    "feature_imp_ada = pd.DataFrame(sorted(zip(gbrt_slow.feature_importances_,twitter_data_x.columns)), columns=['Value','Feature'])\n",
    "plt.figure(figsize=(12,6))\n",
    "sns.barplot(x=\"Value\", y=\"Feature\", data=feature_imp_ada.sort_values(by=\"Value\", ascending=False).head(10))\n",
    "plt.title('Gradient Boosting Regressor for 200 Estimators')\n",
    "plt.tight_layout()\n",
    "plt.show()\n"
   ]
  },
  {
   "cell_type": "markdown",
   "metadata": {},
   "source": [
    "### PCA "
   ]
  },
  {
   "cell_type": "code",
   "execution_count": 320,
   "metadata": {},
   "outputs": [
    {
     "data": {
      "image/png": "[encoded data removed]",
      "text/plain": [
       "<matplotlib.figure.Figure at 0x20ccdac93c8>"
      ]
     },
     "metadata": {},
     "output_type": "display_data"
    }
   ],
   "source": [
    "pca = PCA()\n",
    "pca_train = pca.fit_transform(twitter_data_x_scaled_train)\n",
    "plt.plot(np.cumsum(pca.explained_variance_ratio_))\n",
    "plt.xlabel('number of components')\n",
    "plt.ylabel('cumulative explained variance');"
   ]
  },
  {
   "cell_type": "code",
   "execution_count": 321,
   "metadata": {},
   "outputs": [
    {
     "data": {
      "image/png": "[encoded data removed]",
      "text/plain": [
       "<matplotlib.figure.Figure at 0x20c88eab780>"
      ]
     },
     "metadata": {},
     "output_type": "display_data"
    }
   ],
   "source": [
    "#based on the plot close to 1 explained variance is achieved approx 10 components\n",
    "\n",
    "pca = PCA(n_components =10)\n",
    "pca_train = pca.fit_transform(twitter_data_x_scaled_train)\n",
    "plt.plot(np.cumsum(pca.explained_variance_ratio_))\n",
    "plt.xlabel('number of components')\n",
    "plt.ylabel('cumulative explained variance');"
   ]
  },
  {
   "cell_type": "code",
   "execution_count": 322,
   "metadata": {
    "collapsed": true
   },
   "outputs": [],
   "source": [
    "#based on eth plot close to 90% explnied variance is achieved by 6 components\n",
    "pca = PCA(n_components = 6)\n",
    "pca_train = pca.fit_transform(twitter_data_x_scaled_train)\n",
    "pca_test = pca.fit_transform(twitter_data_x_scaled_test)"
   ]
  },
  {
   "cell_type": "code",
   "execution_count": 323,
   "metadata": {},
   "outputs": [
    {
     "data": {
      "text/plain": [
       "False"
      ]
     },
     "execution_count": 323,
     "metadata": {},
     "output_type": "execute_result"
    }
   ],
   "source": [
    "pca_train_inv = pca.inverse_transform(pca_train)\n",
    "np.allclose(pca_train_inv, twitter_data_x_scaled_train)"
   ]
  },
  {
   "cell_type": "code",
   "execution_count": 324,
   "metadata": {},
   "outputs": [
    {
     "data": {
      "text/plain": [
       "False"
      ]
     },
     "execution_count": 324,
     "metadata": {},
     "output_type": "execute_result"
    }
   ],
   "source": [
    "pca_test_inv = pca.inverse_transform(pca_test)\n",
    "np.allclose(pca_test_inv, twitter_data_x_scaled_test)"
   ]
  },
  {
   "cell_type": "code",
   "execution_count": 325,
   "metadata": {},
   "outputs": [
    {
     "data": {
      "text/plain": [
       "array([[-4.37562514e-03, -3.66301922e-03, -3.21496886e-03,\n",
       "        -1.89336178e-03, -1.92206570e-03, -6.32922119e-03,\n",
       "        -6.81126756e-03, -2.71625773e-03, -2.34578945e-03,\n",
       "        -2.05587312e-03, -1.19704362e-03, -1.20345646e-03,\n",
       "        -4.36015613e-03, -6.46767443e-03, -5.88894354e-03,\n",
       "        -5.01649933e-03, -4.08270526e-03, -2.16807790e-03,\n",
       "        -2.01894178e-03, -6.93369679e-03, -9.01797444e-03,\n",
       "        -2.38789270e-01, -2.44599844e-01, -3.96558637e-01,\n",
       "        -3.26688685e-01, -2.90386637e-01, -1.30969081e-01,\n",
       "        -1.38967450e-01, -4.67990457e-03, -3.91420739e-03,\n",
       "        -3.43139053e-03, -2.01235243e-03, -2.03518664e-03,\n",
       "        -6.68533793e-03, -7.16207698e-03, -7.11716849e-03,\n",
       "        -5.97445057e-03, -4.32516278e-03, -2.50374088e-03,\n",
       "        -2.37298509e-03, -7.98195702e-03, -9.90605486e-03,\n",
       "        -2.35562035e-01, -2.44499521e-01, -3.96577558e-01,\n",
       "        -3.25854468e-01, -2.88956372e-01, -1.28407735e-01,\n",
       "        -1.36051541e-01, -2.20686143e-03, -8.70326055e-04,\n",
       "        -2.47859197e-03, -1.78098339e-03, -1.57174944e-03,\n",
       "        -1.93779877e-04, -2.55555770e-04, -4.08899441e-03,\n",
       "        -3.49691838e-03, -3.02532856e-03, -1.78995259e-03,\n",
       "        -1.77897154e-03, -5.81351811e-03, -6.74410821e-03,\n",
       "        -1.87746698e-03, -8.36862120e-04, -2.48396637e-03,\n",
       "        -1.77370183e-03, -1.47392743e-03,  4.27547999e-05,\n",
       "        -2.67250780e-05, -4.38831550e-03, -3.67329449e-03,\n",
       "        -3.22285847e-03, -1.89772637e-03, -1.92623523e-03,\n",
       "        -6.34219809e-03, -6.82523326e-03],\n",
       "       [-5.96852432e-04,  2.28726892e-04, -3.25237826e-04,\n",
       "        -1.54783110e-04, -1.21517095e-04, -3.45653818e-04,\n",
       "        -5.36511918e-04, -4.12749133e-04,  1.68760092e-04,\n",
       "        -2.08452558e-04, -9.21553315e-05, -7.46091446e-05,\n",
       "        -2.52766160e-04, -5.06447239e-04, -9.39919890e-04,\n",
       "         3.41828583e-04, -4.68146140e-04, -2.18729560e-04,\n",
       "        -1.96056110e-04, -5.81971319e-04, -9.22473521e-04,\n",
       "        -4.77824308e-01,  5.20886979e-01, -6.26214619e-03,\n",
       "        -4.08807022e-02,  9.54362380e-03, -3.59734899e-03,\n",
       "        -5.18348676e-03, -6.89636408e-04,  2.49824440e-04,\n",
       "        -3.61672340e-04, -1.75393655e-04, -1.39529469e-04,\n",
       "        -4.04484652e-04, -5.97915158e-04, -1.11451706e-03,\n",
       "         3.94875876e-04, -4.76296973e-04, -2.51171367e-04,\n",
       "        -2.25540576e-04, -6.41897143e-04, -9.89310367e-04,\n",
       "        -4.77637912e-01,  5.18242899e-01, -5.18255775e-03,\n",
       "        -3.99535868e-02,  9.61560394e-03, -3.96034073e-03,\n",
       "        -2.49911447e-03, -4.90399463e-03,  1.95098680e-03,\n",
       "         1.48682918e-04, -7.51655668e-05,  2.09330667e-04,\n",
       "         1.05442798e-04,  3.33750061e-04, -6.39253025e-04,\n",
       "         2.30959802e-04, -3.46320363e-04, -1.65981878e-04,\n",
       "        -1.32063323e-04, -3.81689533e-04, -6.11052584e-04,\n",
       "        -5.03452594e-03,  1.99086734e-03,  1.95444254e-04,\n",
       "        -8.20765755e-05,  2.42513372e-04,  1.23731682e-04,\n",
       "         3.71588544e-04, -5.99875683e-04,  2.28726855e-04,\n",
       "        -3.25640350e-04, -1.55575632e-04, -1.22428644e-04,\n",
       "        -3.48204453e-04, -5.38671524e-04],\n",
       "       [-2.38434149e-04, -1.16538571e-04,  1.84114132e-04,\n",
       "        -1.86298989e-04, -7.71066094e-05, -1.99550261e-04,\n",
       "        -2.65406190e-04, -1.38633463e-04, -8.32277504e-05,\n",
       "         1.37349470e-04, -1.29993172e-04, -4.76138059e-05,\n",
       "        -1.39061596e-04, -2.40738628e-04, -3.15031221e-04,\n",
       "        -2.07793799e-04,  2.94993529e-04, -2.41354954e-04,\n",
       "        -8.16555832e-05, -2.42130308e-04, -3.36582199e-04,\n",
       "        -6.99189991e-03, -3.59577190e-02,  4.94337710e-01,\n",
       "        -4.96699529e-01, -9.95667904e-02,  1.94687425e-02,\n",
       "         1.94291848e-02, -2.61535929e-04, -1.36322591e-04,\n",
       "         2.11581108e-04, -2.06386343e-04, -8.61150063e-05,\n",
       "        -1.99664743e-04, -2.87613589e-04, -3.63957108e-04,\n",
       "        -2.55671176e-04,  2.93379336e-04, -2.79281729e-04,\n",
       "        -1.03140948e-04, -2.61321380e-04, -3.74807045e-04,\n",
       "        -5.95546756e-03, -3.78526274e-02,  4.92470326e-01,\n",
       "        -4.92502918e-01, -9.84184489e-02,  1.61893488e-02,\n",
       "         1.90455467e-02,  9.96364945e-05, -3.42271887e-05,\n",
       "         3.41407122e-03, -2.78038182e-03, -4.69251821e-04,\n",
       "         2.21756330e-04,  3.09248386e-04, -2.34210807e-04,\n",
       "        -1.24924079e-04,  2.08048765e-04, -1.85389794e-04,\n",
       "        -6.93802463e-05, -1.75128387e-04, -2.54208020e-04,\n",
       "        -2.92920949e-04, -1.23481392e-05,  3.44351053e-03,\n",
       "        -2.81938558e-03, -4.55305952e-04,  3.17491904e-04,\n",
       "         4.69430887e-04, -2.39126984e-04, -1.17423133e-04,\n",
       "         1.84685153e-04, -1.86163816e-04, -7.75749149e-05,\n",
       "        -2.00156755e-04, -2.65780699e-04],\n",
       "       [ 1.13447040e-04,  1.34839349e-04,  3.00670047e-04,\n",
       "         1.77609086e-04, -1.46102008e-04,  1.83837449e-04,\n",
       "         3.11601401e-04,  4.15843903e-05,  5.72177223e-05,\n",
       "         1.57860256e-04,  1.00142655e-04, -1.05698430e-04,\n",
       "         9.87048507e-05,  2.47423020e-04,  1.82736419e-04,\n",
       "         1.86080676e-04,  3.95267134e-04,  2.23547135e-04,\n",
       "        -1.91926276e-04,  1.90564506e-04,  3.96893780e-04,\n",
       "        -3.06870533e-02,  8.63634263e-03,  1.71451861e-01,\n",
       "         2.93960366e-01, -5.97090494e-01, -6.19171688e-02,\n",
       "         1.60435948e-01,  1.11788972e-04,  1.40019516e-04,\n",
       "         3.18402553e-04,  1.96981031e-04, -1.63757316e-04,\n",
       "         1.89420831e-04,  3.27862435e-04,  2.27144632e-04,\n",
       "         2.34557152e-04,  4.14974133e-04,  2.67575332e-04,\n",
       "        -2.19652936e-04,  2.13547563e-04,  4.56140536e-04,\n",
       "        -2.93829682e-02,  8.94388104e-03,  1.70981094e-01,\n",
       "         2.93118722e-01, -5.92969132e-01, -6.55593563e-02,\n",
       "         1.58228533e-01, -6.26074388e-04, -6.89863958e-05,\n",
       "         8.34988276e-04,  1.50222685e-03, -3.69875421e-03,\n",
       "        -1.18246624e-03,  7.43326608e-04,  1.01435014e-04,\n",
       "         1.15078099e-04,  2.84781846e-04,  1.75823776e-04,\n",
       "        -1.52546184e-04,  1.74911992e-04,  3.11887535e-04,\n",
       "        -8.00310248e-04, -4.10964336e-05,  8.05011269e-04,\n",
       "         1.49427482e-03, -3.80089813e-03, -1.23744780e-03,\n",
       "         7.93100462e-04,  1.13933058e-04,  1.35751863e-04,\n",
       "         3.02169477e-04,  1.78355507e-04, -1.46115034e-04,\n",
       "         1.83015992e-04,  3.12118303e-04],\n",
       "       [-7.88118997e-04, -7.84103847e-04, -4.51357581e-04,\n",
       "        -2.81881151e-04, -3.69830256e-04, -1.03062768e-03,\n",
       "        -1.35524017e-03, -4.78319193e-04, -4.99831641e-04,\n",
       "        -2.80365454e-04, -1.72925475e-04, -2.26882704e-04,\n",
       "        -6.50701012e-04, -1.30843423e-03, -1.02156957e-03,\n",
       "        -1.08198794e-03, -5.33369734e-04, -2.86528436e-04,\n",
       "        -3.65852861e-04, -1.01727559e-03, -1.76123975e-03,\n",
       "        -1.20347736e-01, -1.00015029e-01,  1.16872339e-01,\n",
       "         1.36829295e-01, -7.72299316e-02,  4.21665483e-01,\n",
       "        -5.12810748e-01, -8.31479049e-04, -8.51211248e-04,\n",
       "        -4.73348079e-04, -2.96811664e-04, -3.91365294e-04,\n",
       "        -1.07213073e-03, -1.43175728e-03, -1.26255864e-03,\n",
       "        -1.31580276e-03, -5.87381867e-04, -3.49031347e-04,\n",
       "        -4.43747371e-04, -1.23082126e-03, -1.97688577e-03,\n",
       "        -1.22410966e-01, -9.81013447e-02,  1.16655002e-01,\n",
       "         1.35330291e-01, -7.53246852e-02,  4.20745541e-01,\n",
       "        -5.07032035e-01, -1.08860950e-03, -4.05177107e-04,\n",
       "         1.01983954e-03,  1.21004008e-03, -4.35382265e-04,\n",
       "         2.35763966e-03, -3.14730789e-03, -7.06770923e-04,\n",
       "        -7.50432131e-04, -3.98115919e-04, -2.49758649e-04,\n",
       "        -3.33183056e-04, -8.86523763e-04, -1.31295821e-03,\n",
       "        -5.44969308e-04, -3.35406593e-04,  1.00550871e-03,\n",
       "         1.24902822e-03, -4.38345007e-04,  2.52709509e-03,\n",
       "        -3.40548888e-03, -7.90282698e-04, -7.86470004e-04,\n",
       "        -4.52598894e-04, -2.82284964e-04, -3.70302647e-04,\n",
       "        -1.03289352e-03, -1.35641099e-03],\n",
       "       [-3.03132144e-03, -3.04976704e-03, -1.94450223e-03,\n",
       "        -1.21303946e-03, -1.20773801e-03, -4.60996143e-03,\n",
       "        -4.68847111e-03, -1.79102085e-03, -1.88543066e-03,\n",
       "        -1.14188913e-03, -7.23909023e-04, -7.00207104e-04,\n",
       "        -3.03268382e-03, -4.23696075e-03, -3.95212623e-03,\n",
       "        -4.19006008e-03, -2.32229760e-03, -1.28715593e-03,\n",
       "        -1.13007175e-03, -4.75310246e-03, -5.81049721e-03,\n",
       "        -3.75678935e-01, -3.31925686e-01,  2.33557126e-01,\n",
       "         2.04214433e-01,  2.05386669e-01, -3.38778975e-01,\n",
       "        -4.89114014e-02, -3.19553968e-03, -3.28715961e-03,\n",
       "        -2.05247614e-03, -1.27834237e-03, -1.26412704e-03,\n",
       "        -4.84724242e-03, -4.88270733e-03, -4.90349363e-03,\n",
       "        -5.09545343e-03, -2.56187544e-03, -1.54607971e-03,\n",
       "        -1.38590101e-03, -5.65985083e-03, -6.58442061e-03,\n",
       "        -3.65835447e-01, -3.26022115e-01,  2.31187762e-01,\n",
       "         2.08019976e-01,  2.05743154e-01, -3.33371195e-01,\n",
       "        -4.67764232e-02, -2.88801835e-03, -9.40929438e-04,\n",
       "         1.78399259e-03,  1.82946360e-03,  1.47451742e-03,\n",
       "        -2.57237168e-03, -1.63710231e-04, -2.71328002e-03,\n",
       "        -2.89356079e-03, -1.72950635e-03, -1.09269305e-03,\n",
       "        -1.05870453e-03, -4.08784836e-03, -4.43163255e-03,\n",
       "        -2.64007824e-03, -8.76007079e-04,  1.76474242e-03,\n",
       "         1.95517779e-03,  1.66862868e-03, -2.73651532e-03,\n",
       "        -2.95996438e-04, -3.03703124e-03, -3.05917615e-03,\n",
       "        -1.95078162e-03, -1.21504898e-03, -1.20942835e-03,\n",
       "        -4.61608555e-03, -4.69745844e-03]])"
      ]
     },
     "execution_count": 325,
     "metadata": {},
     "output_type": "execute_result"
    }
   ],
   "source": [
    "pca.components_\n"
   ]
  },
  {
   "cell_type": "code",
   "execution_count": 326,
   "metadata": {},
   "outputs": [
    {
     "data": {
      "text/plain": [
       "array([0.37749622, 0.16742486, 0.1064632 , 0.09851538, 0.08652148,\n",
       "       0.07976409])"
      ]
     },
     "execution_count": 326,
     "metadata": {},
     "output_type": "execute_result"
    }
   ],
   "source": [
    "pca.explained_variance_ratio_"
   ]
  },
  {
   "cell_type": "code",
   "execution_count": 327,
   "metadata": {},
   "outputs": [
    {
     "data": {
      "text/plain": [
       "0.91618523785895"
      ]
     },
     "execution_count": 327,
     "metadata": {},
     "output_type": "execute_result"
    }
   ],
   "source": [
    "np.sum(pca.explained_variance_ratio_)"
   ]
  },
  {
   "cell_type": "code",
   "execution_count": 328,
   "metadata": {},
   "outputs": [
    {
     "data": {
      "text/plain": [
       "0.08381476214104999"
      ]
     },
     "execution_count": 328,
     "metadata": {},
     "output_type": "execute_result"
    }
   ],
   "source": [
    "1 - pca.explained_variance_ratio_.sum()"
   ]
  },
  {
   "cell_type": "code",
   "execution_count": 329,
   "metadata": {},
   "outputs": [
    {
     "name": "stdout",
     "output_type": "stream",
     "text": [
      "Original shape: (40827, 77)\n",
      "Reduced shape: (40827, 6)\n"
     ]
    }
   ],
   "source": [
    "print(\"Original shape: {}\".format(str(twitter_data_x_scaled_train.shape)))\n",
    "print(\"Reduced shape: {}\".format(str(pca_train.shape)))"
   ]
  },
  {
   "cell_type": "code",
   "execution_count": 330,
   "metadata": {},
   "outputs": [
    {
     "name": "stdout",
     "output_type": "stream",
     "text": [
      "Original shape: (17498, 77)\n",
      "Reduced shape: (17498, 6)\n"
     ]
    }
   ],
   "source": [
    "print(\"Original shape: {}\".format(str(twitter_data_x_scaled_test.shape)))\n",
    "print(\"Reduced shape: {}\".format(str(pca_test.shape)))"
   ]
  },
  {
   "cell_type": "markdown",
   "metadata": {},
   "source": [
    "#### Heap map for first 2 principal components"
   ]
  },
  {
   "cell_type": "code",
   "execution_count": 331,
   "metadata": {},
   "outputs": [
    {
     "data": {
      "text/plain": [
       "Text(0,0.5,'Principal components')"
      ]
     },
     "execution_count": 331,
     "metadata": {},
     "output_type": "execute_result"
    },
    {
     "data": {
      "image/png": "[encoded data removed]",
      "text/plain": [
       "<matplotlib.figure.Figure at 0x20ccd47db00>"
      ]
     },
     "metadata": {},
     "output_type": "display_data"
    }
   ],
   "source": [
    "plt.matshow(pca.components_, cmap='viridis')\n",
    "plt.yticks([0, 1], [\"First component\", \"Second component\"])\n",
    "plt.colorbar()\n",
    "plt.xticks(range(len(twitter_data.columns)),\n",
    "twitter_data.columns, rotation=60, ha='left')\n",
    "plt.xlabel(\"Feature\")\n",
    "plt.ylabel(\"Principal components\")"
   ]
  },
  {
   "cell_type": "markdown",
   "metadata": {},
   "source": [
    "### Regression methods applied on dataset after PCA"
   ]
  },
  {
   "cell_type": "markdown",
   "metadata": {},
   "source": [
    "#### Running all models from Project 2 on PCA tranformed data"
   ]
  },
  {
   "cell_type": "markdown",
   "metadata": {},
   "source": [
    "### KNN regressor with grid search cv parameters\n",
    "\n",
    "#### Best parameters and best score from gridSearch CV"
   ]
  },
  {
   "cell_type": "code",
   "execution_count": 332,
   "metadata": {},
   "outputs": [
    {
     "name": "stdout",
     "output_type": "stream",
     "text": [
      "Parameter grid:\n",
      "{'n_neighbors': [1, 3, 5, 10, 15, 17, 20, 25, 27]}\n"
     ]
    }
   ],
   "source": [
    "param_grid_knn = {'n_neighbors': [1,3,5,10,15,17,20,25,27]}\n",
    "print(\"Parameter grid:\\n{}\".format(param_grid_knn))\n",
    "\n",
    "grid_search_knn = GridSearchCV(KNeighborsRegressor(), param_grid_knn, cv=4, return_train_score=True)\n"
   ]
  },
  {
   "cell_type": "code",
   "execution_count": 333,
   "metadata": {},
   "outputs": [
    {
     "name": "stdout",
     "output_type": "stream",
     "text": [
      "r2/variance Train:  0.8873486083995917\n",
      "r2/variance Test:  0.3056504285541819\n",
      "average of train: 0.8944957428780688\n",
      "average of test: 0.8428744640777275\n",
      "Best parameters: {'n_neighbors': 10}\n",
      "Best cross-validation score: 0.86\n"
     ]
    }
   ],
   "source": [
    "#KNN regressor\n",
    "\n",
    "grid_search_knn.fit(pca_train,twitter_y_train)\n",
    "#r2 score\n",
    "train_score_array_knn = grid_search_knn.score(pca_train,twitter_y_train)\n",
    "test_score_array_knn = grid_search_knn.score(pca_test,twitter_y_test)\n",
    "print(\"r2/variance Train: \",train_score_array_knn)\n",
    "print(\"r2/variance Test: \",test_score_array_knn)\n",
    "\n",
    "#average score for train and test dataset as per cross validation\n",
    "\n",
    "print(\"average of train:\",np.mean(grid_search_knn.cv_results_['mean_train_score']))\n",
    "print(\"average of test:\",np.mean(grid_search_knn.cv_results_['mean_test_score']))\n",
    "\n",
    "print(\"Best parameters: {}\".format(grid_search_knn.best_params_))\n",
    "print(\"Best cross-validation score: {:.2f}\".format(grid_search_knn.best_score_))"
   ]
  },
  {
   "cell_type": "markdown",
   "metadata": {},
   "source": [
    "### Capturing the report table for PCA transformed data"
   ]
  },
  {
   "cell_type": "code",
   "execution_count": 334,
   "metadata": {
    "collapsed": true
   },
   "outputs": [],
   "source": [
    "report_table=[]\n",
    "report_table = report_table + [['knn',\n",
    "                 grid_search_knn.best_params_,\n",
    "                 train_score_array_knn, test_score_array_knn ,\n",
    "                 np.mean(grid_search_knn.cv_results_['mean_train_score']),\n",
    "                 np.mean(grid_search_knn.cv_results_['mean_test_score'])]]"
   ]
  },
  {
   "cell_type": "markdown",
   "metadata": {},
   "source": [
    "#### Plotting of train and test score for KNN regressor for multiple n_neighbors values\n"
   ]
  },
  {
   "cell_type": "code",
   "execution_count": 335,
   "metadata": {},
   "outputs": [
    {
     "data": {
      "text/plain": [
       "<matplotlib.legend.Legend at 0x20c8a505a58>"
      ]
     },
     "execution_count": 335,
     "metadata": {},
     "output_type": "execute_result"
    },
    {
     "data": {
      "image/png": "[encoded data removed]",
      "text/plain": [
       "<matplotlib.figure.Figure at 0x20c88ed6b00>"
      ]
     },
     "metadata": {},
     "output_type": "display_data"
    }
   ],
   "source": [
    "x_axis = [1, 3, 5, 10, 15, 17, 20, 25, 27]\n",
    "%matplotlib inline\n",
    "plt.plot(x_axis,grid_search_knn.cv_results_['mean_train_score'], label = 'Train Score', c = 'g')\n",
    "plt.plot(x_axis, grid_search_knn.cv_results_['mean_test_score'], label = 'Test Score', c='b')\n",
    "plt.xlabel('k')\n",
    "plt.ylabel('Accuracy')\n",
    "plt.legend()"
   ]
  },
  {
   "cell_type": "markdown",
   "metadata": {},
   "source": [
    "### Linear regression using cross validation"
   ]
  },
  {
   "cell_type": "code",
   "execution_count": 336,
   "metadata": {},
   "outputs": [
    {
     "name": "stdout",
     "output_type": "stream",
     "text": [
      "Average cross-validation score Train: 0.02\n",
      "Average cross-validation score Test: 0.02\n"
     ]
    }
   ],
   "source": [
    "\n",
    "lreg = lm()\n",
    "scores_train = cross_val_score(lreg, pca_train, twitter_y_train, cv=4,scoring='r2')\n",
    "scores_test = cross_val_score(lreg, pca_test, twitter_y_test, cv=4,scoring='r2')\n",
    "\n",
    "print(\"Average cross-validation score Train: {:.2f}\".format(scores_train.mean()))\n",
    "print(\"Average cross-validation score Test: {:.2f}\".format(scores_test.mean()))\n"
   ]
  },
  {
   "cell_type": "code",
   "execution_count": 337,
   "metadata": {},
   "outputs": [
    {
     "name": "stdout",
     "output_type": "stream",
     "text": [
      "r2/variance Train:  0.02165102460354329\n",
      "r2/variance Test:  0.016711445227382327\n"
     ]
    }
   ],
   "source": [
    "lreg.fit(pca_train, twitter_y_train)\n",
    "#r2 score\n",
    "\n",
    "train_score_array_linear = lreg.score(pca_train,twitter_y_train)\n",
    "test_score_array_linear = lreg.score(pca_test,twitter_y_test)\n",
    "print(\"r2/variance Train: \",train_score_array_linear)\n",
    "print(\"r2/variance Test: \",test_score_array_linear)"
   ]
  },
  {
   "cell_type": "code",
   "execution_count": 338,
   "metadata": {
    "collapsed": true
   },
   "outputs": [],
   "source": [
    "report_table = report_table+[['Linear regression',\n",
    "                              \"NA\" ,\n",
    "                              train_score_array_linear ,test_score_array_linear ,\n",
    "                              scores_train.mean(),scores_test.mean()]]"
   ]
  },
  {
   "cell_type": "code",
   "execution_count": 339,
   "metadata": {},
   "outputs": [
    {
     "name": "stdout",
     "output_type": "stream",
     "text": [
      "[1 2 3 4]\n"
     ]
    },
    {
     "data": {
      "text/plain": [
       "Text(0,0.5,'cross validation score')"
      ]
     },
     "execution_count": 339,
     "metadata": {},
     "output_type": "execute_result"
    },
    {
     "data": {
      "image/png": "[encoded data removed]",
      "text/plain": [
       "<matplotlib.figure.Figure at 0x20ccdb2bd30>"
      ]
     },
     "metadata": {},
     "output_type": "display_data"
    }
   ],
   "source": [
    "cv = np.arange(1,5)\n",
    "print(cv)\n",
    "plt.plot(cv,scores_train, c= 'r')\n",
    "plt.plot(cv,scores_test, c= 'g')\n",
    "plt.title(\"Train & Test Plot for Linear Regression\")\n",
    "plt.xlabel(\"Cross validation folds\")\n",
    "plt.ylabel(\"cross validation score\")"
   ]
  },
  {
   "cell_type": "markdown",
   "metadata": {},
   "source": [
    "### Ridge regression with GridSearchCV\n",
    "\n",
    "#### Finding best parameters and appending into report table"
   ]
  },
  {
   "cell_type": "code",
   "execution_count": 340,
   "metadata": {},
   "outputs": [
    {
     "name": "stdout",
     "output_type": "stream",
     "text": [
      "Parameter grid:\n",
      "{'alpha': [0.01, 0.05, 0.1, 1, 0.001, 10], 'max_iter': [5, 10], 'solver': ['auto', 'svd', 'cholesky', 'lsqr', 'sparse_cg', 'sag']}\n",
      "r2/variance Train:  0.021650983189306694\n",
      "r2/variance Test:  0.01671232194246497\n",
      "average of train: 0.021410032967722703\n",
      "average of test: 0.021358972918718237\n",
      "\n",
      "Best parameters: {'alpha': 10, 'max_iter': 5, 'solver': 'sparse_cg'}\n",
      "\n",
      "Best cross-validation score: 0.02\n"
     ]
    }
   ],
   "source": [
    "\n",
    "#ridge\n",
    "param_grid_ridge = {'alpha': [0.01, 0.05,0.1,1,0.001,10],\n",
    "                    'max_iter': [5,10],\n",
    "                    'solver': ['auto', 'svd', 'cholesky', 'lsqr', 'sparse_cg', 'sag']}\n",
    "print(\"Parameter grid:\\n{}\".format(param_grid_ridge))\n",
    "\n",
    "grid_search_ridge = GridSearchCV(Ridge(), param_grid_ridge, cv=4, return_train_score=True)\n",
    "\n",
    "grid_search_ridge.fit(pca_train,twitter_y_train)\n",
    "twitter_y_test_ridge = grid_search_ridge.predict(pca_test)\n",
    "#r2 score\n",
    "\n",
    "train_score_array_ridge = grid_search_ridge.score(pca_train,twitter_y_train)\n",
    "test_score_array_ridge = grid_search_ridge.score(pca_test,twitter_y_test)\n",
    "print(\"r2/variance Train: \",train_score_array_ridge)\n",
    "print(\"r2/variance Test: \",test_score_array_ridge)\n",
    "#average score for train and test dataset as per cross validation\n",
    "\n",
    "print(\"average of train:\",np.mean(grid_search_ridge.cv_results_['mean_train_score']))\n",
    "print(\"average of test:\",np.mean(grid_search_ridge.cv_results_['mean_test_score']))\n",
    "\n",
    "print(\"\\nBest parameters: {}\".format(grid_search_ridge.best_params_))\n",
    "print(\"\\nBest cross-validation score: {:.2f}\".format(grid_search_ridge.best_score_))"
   ]
  },
  {
   "cell_type": "code",
   "execution_count": 341,
   "metadata": {
    "collapsed": true
   },
   "outputs": [],
   "source": [
    "report_table = report_table+[['Ridge regression',\n",
    "                              grid_search_ridge.best_params_,\n",
    "                              train_score_array_ridge ,test_score_array_ridge,\n",
    "                              np.mean(grid_search_ridge.cv_results_['mean_train_score']),np.mean(grid_search_ridge.cv_results_['mean_test_score'])]]"
   ]
  },
  {
   "cell_type": "markdown",
   "metadata": {},
   "source": [
    "### Lasso regression with GridSearchCV\n",
    "\n",
    "#### Selecting best parameters for lasso from gridsearchCV"
   ]
  },
  {
   "cell_type": "code",
   "execution_count": 342,
   "metadata": {},
   "outputs": [
    {
     "name": "stdout",
     "output_type": "stream",
     "text": [
      "Parameter grid:\n",
      "{'alpha': [0.01, 0.05, 0.1, 0.001, 10], 'max_iter': [50, 100]}\n",
      "r2/variance Train:  0.02165100666698816\n",
      "r2/variance Test:  0.016712476450080782\n",
      "average of train: 0.021001355390140863\n",
      "average of test: 0.020953507474547595\n",
      "\n",
      "Best parameters: {'alpha': 0.01, 'max_iter': 50}\n",
      "\n",
      "Best cross-validation score: 0.02\n"
     ]
    }
   ],
   "source": [
    "#lasso\n",
    "param_grid_lasso = {'alpha': [0.01, 0.05,0.1,0.001,10],\n",
    "                    'max_iter': [50,100]}\n",
    "print(\"Parameter grid:\\n{}\".format(param_grid_lasso))\n",
    "\n",
    "grid_search_lasso = GridSearchCV(Lasso(), param_grid_lasso, cv=4, return_train_score=True)\n",
    "\n",
    "grid_search_lasso.fit(pca_train,twitter_y_train)\n",
    "twitter_y_test_lasso = grid_search_lasso.predict(pca_test)\n",
    "#r2_Score\n",
    "train_score_array_lasso = grid_search_lasso.score(pca_train,twitter_y_train)\n",
    "test_score_array_lasso = grid_search_lasso.score(pca_test,twitter_y_test)\n",
    "print(\"r2/variance Train: \",train_score_array_lasso)\n",
    "print(\"r2/variance Test: \",test_score_array_lasso)\n",
    "\n",
    "#average score for train and test dataset as per cross validation\n",
    "\n",
    "print(\"average of train:\",np.mean(grid_search_lasso.cv_results_['mean_train_score']))\n",
    "print(\"average of test:\",np.mean(grid_search_lasso.cv_results_['mean_test_score']))\n",
    "\n",
    "print(\"\\nBest parameters: {}\".format(grid_search_lasso.best_params_))\n",
    "print(\"\\nBest cross-validation score: {:.2f}\".format(grid_search_lasso.best_score_))\n"
   ]
  },
  {
   "cell_type": "code",
   "execution_count": 343,
   "metadata": {
    "collapsed": true
   },
   "outputs": [],
   "source": [
    "report_table = report_table+[['Lasso regression',\n",
    "                              grid_search_lasso.best_params_ ,\n",
    "                              train_score_array_lasso,test_score_array_lasso,\n",
    "                              np.mean(grid_search_lasso.cv_results_['mean_train_score']),\n",
    "                              np.mean(grid_search_lasso.cv_results_['mean_test_score'])]]"
   ]
  },
  {
   "cell_type": "markdown",
   "metadata": {},
   "source": [
    "### SGD Regressor with GridSearchCV parameters\n",
    "\n",
    "#### Finding best parameters and appending the value to report_table"
   ]
  },
  {
   "cell_type": "code",
   "execution_count": 344,
   "metadata": {},
   "outputs": [
    {
     "name": "stdout",
     "output_type": "stream",
     "text": [
      "Parameter grid:\n",
      "{'penalty': ['l1', 'l2'], 'alpha': [0.01, 0.05, 0.1, 0.001, 10], 'learning_rate': ['constant', 'optimal', 'invscaling']}\n",
      "r2/variance Train:  0.02164400208648565\n",
      "r2/variance Test:  0.01672056350470319\n",
      "average of train: 0.01583326191952143\n",
      "average of test: 0.015586245749487321\n",
      "\n",
      "Best parameters: {'alpha': 0.1, 'learning_rate': 'optimal', 'penalty': 'l1'}\n",
      "\n",
      "Best cross-validation score: 0.02\n"
     ]
    }
   ],
   "source": [
    "#sgd regressor\n",
    "param_grid_sgd = {'penalty': ['l1','l2'],\n",
    "                  'alpha': [0.01, 0.05, 0.1, 0.001, 10],\n",
    "                  'learning_rate': ['constant','optimal','invscaling']\n",
    "                  }\n",
    "print(\"Parameter grid:\\n{}\".format(param_grid_sgd))\n",
    "\n",
    "grid_search_sgd = GridSearchCV(SGDRegressor(), param_grid_sgd, cv=4, return_train_score=True)\n",
    "\n",
    "grid_search_sgd.fit(pca_train,twitter_y_train)\n",
    "twitter_y_test_sgd = grid_search_sgd.predict(pca_test)\n",
    "#r2 score\n",
    "train_score_array_sgd = grid_search_sgd.score(pca_train, twitter_y_train)\n",
    "test_score_array_sgd = grid_search_sgd.score(pca_test, twitter_y_test)\n",
    "print(\"r2/variance Train: \",train_score_array_sgd)\n",
    "print(\"r2/variance Test: \",test_score_array_sgd)\n",
    "\n",
    "#average score for train and test dataset as per cross validation\n",
    "\n",
    "print(\"average of train:\",np.mean(grid_search_sgd.cv_results_['mean_train_score']))\n",
    "print(\"average of test:\",np.mean(grid_search_sgd.cv_results_['mean_test_score']))\n",
    "\n",
    "print(\"\\nBest parameters: {}\".format(grid_search_sgd.best_params_))\n",
    "print(\"\\nBest cross-validation score: {:.2f}\".format(grid_search_sgd.best_score_))\n"
   ]
  },
  {
   "cell_type": "code",
   "execution_count": 345,
   "metadata": {
    "collapsed": true
   },
   "outputs": [],
   "source": [
    "report_table = report_table+[['SGD regressor',\n",
    "                              grid_search_sgd.best_params_,\n",
    "                              train_score_array_sgd,test_score_array_sgd,\n",
    "                              np.mean(grid_search_sgd.cv_results_['mean_train_score']),\n",
    "                              np.mean(grid_search_sgd.cv_results_['mean_test_score'])]]"
   ]
  },
  {
   "cell_type": "markdown",
   "metadata": {},
   "source": [
    "### Polynomial Regression with GridSearchCV \n",
    "\n",
    "#### Finding best parameters and appending metrics into report_table\n",
    "\n",
    "##### Plotting the distribution of x and y values"
   ]
  },
  {
   "cell_type": "code",
   "execution_count": 346,
   "metadata": {
    "collapsed": true
   },
   "outputs": [],
   "source": [
    "def PolynomialRegression(degree=2, **kwargs):\n",
    "    return make_pipeline(PolynomialFeatures(degree),\n",
    "                         lm(**kwargs))"
   ]
  },
  {
   "cell_type": "code",
   "execution_count": 347,
   "metadata": {},
   "outputs": [
    {
     "data": {
      "text/plain": [
       "Text(0.5,1,'NCD_0')"
      ]
     },
     "execution_count": 347,
     "metadata": {},
     "output_type": "execute_result"
    },
    {
     "data": {
      "image/png": "[encoded data removed]",
      "text/plain": [
       "<matplotlib.figure.Figure at 0x20ca1dfa1d0>"
      ]
     },
     "metadata": {},
     "output_type": "display_data"
    }
   ],
   "source": [
    "#plot for NCD_0 against first 30 records of y_train\n",
    "X_train_1 = pca_train[0:30,0].reshape(-1,1)\n",
    "plt.scatter(X_train_1,twitter_y_train[0:30])\n",
    "plt.title(\"NCD_0\")"
   ]
  },
  {
   "cell_type": "code",
   "execution_count": 348,
   "metadata": {},
   "outputs": [
    {
     "name": "stdout",
     "output_type": "stream",
     "text": [
      "r2/variance Train:  0.04957912320473512\n",
      "r2/variance Test:  0.027335160048462592\n",
      "average of train: 0.03565953793941219\n",
      "average of test: 0.03526699277233171\n",
      "Best parameters: {'polynomialfeatures__degree': 2}\n",
      "Best cross-validation score: 0.05\n"
     ]
    }
   ],
   "source": [
    "#degrees from 1 to 3\n",
    "param_poly = {'polynomialfeatures__degree': np.arange(1,3)\n",
    "              }\n",
    "\n",
    "grid_search_poly = GridSearchCV(PolynomialRegression(), param_poly, cv=4)\n",
    "grid_search_poly.fit(pca_train, twitter_y_train)\n",
    "#r2 score\n",
    "train_score_array_poly = grid_search_poly.score(pca_train, twitter_y_train)\n",
    "test_score_array_poly = grid_search_poly.score(pca_test, twitter_y_test)\n",
    "print(\"r2/variance Train: \",train_score_array_poly)\n",
    "print(\"r2/variance Test: \",test_score_array_poly)\n",
    "#average score for train and test dataset as per cross validation\n",
    "\n",
    "print(\"average of train:\",np.mean(grid_search_poly.cv_results_['mean_train_score']))\n",
    "print(\"average of test:\",np.mean(grid_search_poly.cv_results_['mean_test_score']))\n",
    "\n",
    "print(\"Best parameters: {}\".format(grid_search_poly.best_params_))\n",
    "print(\"Best cross-validation score: {:.2f}\".format(grid_search_poly.best_score_))\n",
    "\n"
   ]
  },
  {
   "cell_type": "markdown",
   "metadata": {},
   "source": [
    "#### Plot for train and test scores of polynomial regression"
   ]
  },
  {
   "cell_type": "code",
   "execution_count": 349,
   "metadata": {},
   "outputs": [
    {
     "data": {
      "text/plain": [
       "<matplotlib.legend.Legend at 0x20ca175d5c0>"
      ]
     },
     "execution_count": 349,
     "metadata": {},
     "output_type": "execute_result"
    },
    {
     "data": {
      "image/png": "[encoded data removed]",
      "text/plain": [
       "<matplotlib.figure.Figure at 0x20c886c7f60>"
      ]
     },
     "metadata": {},
     "output_type": "display_data"
    }
   ],
   "source": [
    "x_axis = range(1,3)\n",
    "%matplotlib inline\n",
    "\n",
    "plt.plot(x_axis, grid_search_poly.cv_results_['mean_train_score'], c = 'g', label = 'Train Score')\n",
    "plt.plot(x_axis, grid_search_poly.cv_results_['mean_test_score'], c = 'b', label = 'Test Score')\n",
    "plt.xlabel('degree')\n",
    "plt.ylabel('average score')\n",
    "plt.legend()"
   ]
  },
  {
   "cell_type": "code",
   "execution_count": 350,
   "metadata": {
    "collapsed": true
   },
   "outputs": [],
   "source": [
    "report_table = report_table+[['Polynomial regression',\n",
    "                              grid_search_poly.best_params_,\n",
    "                              train_score_array_poly,test_score_array_poly,\n",
    "                              np.mean(grid_search_poly.cv_results_['mean_train_score']),\n",
    "                              np.mean(grid_search_poly.cv_results_['mean_test_score'])]]"
   ]
  },
  {
   "cell_type": "markdown",
   "metadata": {},
   "source": [
    "### Decision tree with GridSearchCv parameters\n",
    "\n",
    "#### Finding best parameters and appending metrics into report_table"
   ]
  },
  {
   "cell_type": "code",
   "execution_count": 351,
   "metadata": {},
   "outputs": [
    {
     "name": "stdout",
     "output_type": "stream",
     "text": [
      "Parameter grid:\n",
      "{'max_depth': [3, 5, 8, 15], 'min_samples_split': [2, 4, 6, 10], 'min_samples_leaf': [2, 4, 6, 10], 'max_features': ['auto', 'sqrt', 'log2'], 'max_leaf_nodes': [5, 10, 15]}\n",
      "r2/variance Train:  0.8349343313744716\n",
      "r2/variance Test:  0.4947796795435113\n",
      "average of train: 0.7326397511282478\n",
      "average of test: 0.6970068222239729\n",
      "\n",
      "Best parameters: {'max_depth': 8, 'max_features': 'auto', 'max_leaf_nodes': 15, 'min_samples_leaf': 10, 'min_samples_split': 4}\n",
      "\n",
      "Best cross-validation score: 0.82\n"
     ]
    }
   ],
   "source": [
    "#decision tree\n",
    "n_features = 77\n",
    "param_grid_tree = {'max_depth': [3,5,8,15],\n",
    "                  'min_samples_split': [2,4,6,10],\n",
    "                  'min_samples_leaf': [2,4,6,10],\n",
    "                  'max_features': ['auto','sqrt','log2'],\n",
    "                  'max_leaf_nodes': [5,10,15]\n",
    "              }\n",
    "print(\"Parameter grid:\\n{}\".format(param_grid_tree))\n",
    "\n",
    "grid_search_tree = GridSearchCV(DecisionTreeRegressor(), param_grid_tree, cv=4, return_train_score=True)\n",
    "grid_search_tree.fit(pca_train, twitter_y_train)\n",
    "twitter_y_test_dtree = grid_search_tree.predict(pca_test)\n",
    "\n",
    "#r2 score\n",
    "train_score_array_dtree = grid_search_tree.score(pca_train, twitter_y_train)\n",
    "test_score_array_dtree = grid_search_tree.score(pca_test, twitter_y_test)\n",
    "print(\"r2/variance Train: \",train_score_array_dtree)\n",
    "print(\"r2/variance Test: \",test_score_array_dtree)\n",
    "#average score for train and test dataset as per cross validation\n",
    "\n",
    "print(\"average of train:\",np.mean(grid_search_tree.cv_results_['mean_train_score']))\n",
    "print(\"average of test:\",np.mean(grid_search_tree.cv_results_['mean_test_score']))\n",
    "\n",
    "print(\"\\nBest parameters: {}\".format(grid_search_tree.best_params_))\n",
    "print(\"\\nBest cross-validation score: {:.2f}\".format(grid_search_tree.best_score_))\n"
   ]
  },
  {
   "cell_type": "code",
   "execution_count": 352,
   "metadata": {
    "collapsed": true
   },
   "outputs": [],
   "source": [
    "report_table = report_table+[['Decision Tree',\n",
    "                              grid_search_tree.best_params_,\n",
    "                              train_score_array_dtree,test_score_array_dtree,\n",
    "                              np.mean(grid_search_tree.cv_results_['mean_train_score']),\n",
    "                              np.mean(grid_search_tree.cv_results_['mean_test_score'])]]\n"
   ]
  },
  {
   "cell_type": "markdown",
   "metadata": {},
   "source": [
    "### Linear SVR GridSearchCV \n",
    "\n",
    "#### Finding best parameters and appending metrics into report_table"
   ]
  },
  {
   "cell_type": "code",
   "execution_count": 353,
   "metadata": {},
   "outputs": [
    {
     "name": "stdout",
     "output_type": "stream",
     "text": [
      "Parameter grid:\n",
      "{'C': [0.001, 0.01, 0.1, 10, 100, 2000], 'epsilon': [0.1, 0.001, 20, 10]}\n",
      "r2/variance Train:  -0.059421841461746894\n",
      "r2/variance Test:  -0.04451386567449811\n",
      "average of train: -0.07160056126380628\n",
      "average of test: -0.07217290565020176\n",
      "\n",
      "Best parameters: {'C': 100, 'epsilon': 20}\n",
      "\n",
      "Best cross-validation score: -0.06\n"
     ]
    }
   ],
   "source": [
    "#LinearSVR\n",
    "\n",
    "param_svr = {'C': [0.001, 0.01, 0.1, 10, 100,2000],\n",
    "             'epsilon': [0.1,0.001,20,10]\n",
    "             }\n",
    "print(\"Parameter grid:\\n{}\".format(param_svr))\n",
    "\n",
    "grid_search_svm_l = GridSearchCV(LinearSVR(), param_svr, cv=4, return_train_score=True)\n",
    "grid_search_svm_l.fit(pca_train,twitter_y_train)\n",
    "# evaluate the Linear SVR on parameters\n",
    "#r2 score\n",
    "train_score_array_lsvr = grid_search_svm_l.score(pca_train, twitter_y_train)\n",
    "test_score_array_lsvr = grid_search_svm_l.score(pca_test, twitter_y_test)\n",
    "print(\"r2/variance Train: \",train_score_array_lsvr)\n",
    "print(\"r2/variance Test: \",test_score_array_lsvr)\n",
    "\n",
    "#average score for train and test dataset as per cross validation\n",
    "\n",
    "print(\"average of train:\",np.mean(grid_search_svm_l.cv_results_['mean_train_score']))\n",
    "print(\"average of test:\",np.mean(grid_search_svm_l.cv_results_['mean_test_score']))\n",
    "\n",
    "print(\"\\nBest parameters: {}\".format(grid_search_svm_l.best_params_))\n",
    "print(\"\\nBest cross-validation score: {:.2f}\".format(grid_search_svm_l.best_score_))\n",
    "\n",
    "\n"
   ]
  },
  {
   "cell_type": "code",
   "execution_count": 354,
   "metadata": {
    "collapsed": true
   },
   "outputs": [],
   "source": [
    "report_table = report_table+[['Linear SVR',\n",
    "                              grid_search_svm_l.best_params_,\n",
    "                              train_score_array_lsvr,test_score_array_lsvr,\n",
    "                              np.mean(grid_search_svm_l.cv_results_['mean_train_score']),\n",
    "                              np.mean(grid_search_svm_l.cv_results_['mean_test_score'])]]"
   ]
  },
  {
   "cell_type": "markdown",
   "metadata": {},
   "source": [
    "### Kernel SVR with GridSearchCV\n",
    "\n",
    "#### Finding best parameters and appending the metrics into report_table"
   ]
  },
  {
   "cell_type": "code",
   "execution_count": 355,
   "metadata": {},
   "outputs": [
    {
     "name": "stdout",
     "output_type": "stream",
     "text": [
      "Parameter grid:\n",
      "{'C': [0.001, 0.01, 0.1, 1, 10, 100], 'gamma': [0.001, 0.01, 0.1, 1, 10, 100]}\n",
      "r2/variance Train:  0.5537413718093449\n",
      "r2/variance Test:  0.4559586865116813\n",
      "average of train: -0.04747301460160949\n",
      "average of test: -0.048015578669378285\n",
      "\n",
      "Best parameters: {'C': 100, 'gamma': 100}\n",
      "\n",
      "Best cross-validation score: 0.48\n"
     ]
    }
   ],
   "source": [
    "#SVR with kernel\n",
    "\n",
    "param_ksvr= {'C':[0.001, 0.01, 0.1, 1, 10, 100],'gamma':[0.001, 0.01, 0.1, 1, 10, 100]}\n",
    "print(\"Parameter grid:\\n{}\".format(param_ksvr))\n",
    "\n",
    "\n",
    "grid_search_svm_k = GridSearchCV(SVR(), param_ksvr, cv=4, return_train_score=True)\n",
    "grid_search_svm_k.fit(pca_train, twitter_y_train)\n",
    "twitter_y_test_svr = grid_search_svm_k.predict(pca_train)\n",
    "\n",
    "#r2 score\n",
    "train_score_array_svr = grid_search_svm_k.score(pca_train, twitter_y_train)\n",
    "test_score_array_svr = grid_search_svm_k.score(pca_test, twitter_y_test)\n",
    "print(\"r2/variance Train: \",train_score_array_svr)\n",
    "print(\"r2/variance Test: \",test_score_array_svr)\n",
    "\n",
    "\n",
    "#average score for train and test dataset as per cross validatioN\n",
    "\n",
    "print(\"average of train:\",np.mean(grid_search_svm_k.cv_results_['mean_train_score']))\n",
    "print(\"average of test:\",np.mean(grid_search_svm_k.cv_results_['mean_test_score']))\n",
    "\n",
    "# evaluate the SVR on parameters\n",
    "print(\"\\nBest parameters: {}\".format(grid_search_svm_k.best_params_))\n",
    "print(\"\\nBest cross-validation score: {:.2f}\".format(grid_search_svm_k.best_score_))"
   ]
  },
  {
   "cell_type": "code",
   "execution_count": 356,
   "metadata": {
    "collapsed": true
   },
   "outputs": [],
   "source": [
    "report_table = report_table+[['SVR with kernel',\n",
    "                              grid_search_svm_k.best_params_,\n",
    "                              train_score_array_svr,test_score_array_svr,\n",
    "                              np.mean(grid_search_svm_k.cv_results_['mean_train_score']),\n",
    "                              np.mean(grid_search_svm_k.cv_results_['mean_test_score'])]]"
   ]
  },
  {
   "cell_type": "code",
   "execution_count": 357,
   "metadata": {},
   "outputs": [
    {
     "data": {
      "text/html": [
       "<div>\n",
       "<style>\n",
       "    .dataframe thead tr:only-child th {\n",
       "        text-align: right;\n",
       "    }\n",
       "\n",
       "    .dataframe thead th {\n",
       "        text-align: left;\n",
       "    }\n",
       "\n",
       "    .dataframe tbody tr th {\n",
       "        vertical-align: top;\n",
       "    }\n",
       "</style>\n",
       "<table border=\"1\" class=\"dataframe\">\n",
       "  <thead>\n",
       "    <tr style=\"text-align: right;\">\n",
       "      <th></th>\n",
       "      <th>Model name</th>\n",
       "      <th>Model Best parameter</th>\n",
       "      <th>Train r2 score</th>\n",
       "      <th>Test r2 score</th>\n",
       "      <th>Train average score</th>\n",
       "      <th>Test average score</th>\n",
       "    </tr>\n",
       "    <tr>\n",
       "      <th>Model name</th>\n",
       "      <th></th>\n",
       "      <th></th>\n",
       "      <th></th>\n",
       "      <th></th>\n",
       "      <th></th>\n",
       "      <th></th>\n",
       "    </tr>\n",
       "  </thead>\n",
       "  <tbody>\n",
       "    <tr>\n",
       "      <th>knn</th>\n",
       "      <td>knn</td>\n",
       "      <td>{'n_neighbors': 10}</td>\n",
       "      <td>0.887349</td>\n",
       "      <td>0.305650</td>\n",
       "      <td>0.894496</td>\n",
       "      <td>0.842874</td>\n",
       "    </tr>\n",
       "    <tr>\n",
       "      <th>Linear regression</th>\n",
       "      <td>Linear regression</td>\n",
       "      <td>NA</td>\n",
       "      <td>0.021651</td>\n",
       "      <td>0.016711</td>\n",
       "      <td>0.021614</td>\n",
       "      <td>0.017832</td>\n",
       "    </tr>\n",
       "    <tr>\n",
       "      <th>Ridge regression</th>\n",
       "      <td>Ridge regression</td>\n",
       "      <td>{'alpha': 10, 'max_iter': 5, 'solver': 'sparse_cg'}</td>\n",
       "      <td>0.021651</td>\n",
       "      <td>0.016712</td>\n",
       "      <td>0.021410</td>\n",
       "      <td>0.021359</td>\n",
       "    </tr>\n",
       "    <tr>\n",
       "      <th>Lasso regression</th>\n",
       "      <td>Lasso regression</td>\n",
       "      <td>{'alpha': 0.01, 'max_iter': 50}</td>\n",
       "      <td>0.021651</td>\n",
       "      <td>0.016712</td>\n",
       "      <td>0.021001</td>\n",
       "      <td>0.020954</td>\n",
       "    </tr>\n",
       "    <tr>\n",
       "      <th>SGD regressor</th>\n",
       "      <td>SGD regressor</td>\n",
       "      <td>{'alpha': 0.1, 'learning_rate': 'optimal', 'penalty': 'l1'}</td>\n",
       "      <td>0.021644</td>\n",
       "      <td>0.016721</td>\n",
       "      <td>0.015833</td>\n",
       "      <td>0.015586</td>\n",
       "    </tr>\n",
       "    <tr>\n",
       "      <th>Polynomial regression</th>\n",
       "      <td>Polynomial regression</td>\n",
       "      <td>{'polynomialfeatures__degree': 2}</td>\n",
       "      <td>0.049579</td>\n",
       "      <td>0.027335</td>\n",
       "      <td>0.035660</td>\n",
       "      <td>0.035267</td>\n",
       "    </tr>\n",
       "    <tr>\n",
       "      <th>Decision Tree</th>\n",
       "      <td>Decision Tree</td>\n",
       "      <td>{'max_depth': 8, 'max_features': 'auto', 'max_leaf_nodes': 15, 'min_samples_leaf': 10, 'min_samples_split': 4}</td>\n",
       "      <td>0.834934</td>\n",
       "      <td>0.494780</td>\n",
       "      <td>0.732640</td>\n",
       "      <td>0.697007</td>\n",
       "    </tr>\n",
       "    <tr>\n",
       "      <th>Linear SVR</th>\n",
       "      <td>Linear SVR</td>\n",
       "      <td>{'C': 100, 'epsilon': 20}</td>\n",
       "      <td>-0.059422</td>\n",
       "      <td>-0.044514</td>\n",
       "      <td>-0.071601</td>\n",
       "      <td>-0.072173</td>\n",
       "    </tr>\n",
       "    <tr>\n",
       "      <th>SVR with kernel</th>\n",
       "      <td>SVR with kernel</td>\n",
       "      <td>{'C': 100, 'gamma': 100}</td>\n",
       "      <td>0.553741</td>\n",
       "      <td>0.455959</td>\n",
       "      <td>-0.047473</td>\n",
       "      <td>-0.048016</td>\n",
       "    </tr>\n",
       "  </tbody>\n",
       "</table>\n",
       "</div>"
      ],
      "text/plain": [
       "                                  Model name  \\\n",
       "Model name                                     \n",
       "knn                    knn                     \n",
       "Linear regression      Linear regression       \n",
       "Ridge regression       Ridge regression        \n",
       "Lasso regression       Lasso regression        \n",
       "SGD regressor          SGD regressor           \n",
       "Polynomial regression  Polynomial regression   \n",
       "Decision Tree          Decision Tree           \n",
       "Linear SVR             Linear SVR              \n",
       "SVR with kernel        SVR with kernel         \n",
       "\n",
       "                                                                                                                 Model Best parameter  \\\n",
       "Model name                                                                                                                              \n",
       "knn                    {'n_neighbors': 10}                                                                                              \n",
       "Linear regression      NA                                                                                                               \n",
       "Ridge regression       {'alpha': 10, 'max_iter': 5, 'solver': 'sparse_cg'}                                                              \n",
       "Lasso regression       {'alpha': 0.01, 'max_iter': 50}                                                                                  \n",
       "SGD regressor          {'alpha': 0.1, 'learning_rate': 'optimal', 'penalty': 'l1'}                                                      \n",
       "Polynomial regression  {'polynomialfeatures__degree': 2}                                                                                \n",
       "Decision Tree          {'max_depth': 8, 'max_features': 'auto', 'max_leaf_nodes': 15, 'min_samples_leaf': 10, 'min_samples_split': 4}   \n",
       "Linear SVR             {'C': 100, 'epsilon': 20}                                                                                        \n",
       "SVR with kernel        {'C': 100, 'gamma': 100}                                                                                         \n",
       "\n",
       "                       Train r2 score  Test r2 score  Train average score  \\\n",
       "Model name                                                                  \n",
       "knn                    0.887349        0.305650       0.894496              \n",
       "Linear regression      0.021651        0.016711       0.021614              \n",
       "Ridge regression       0.021651        0.016712       0.021410              \n",
       "Lasso regression       0.021651        0.016712       0.021001              \n",
       "SGD regressor          0.021644        0.016721       0.015833              \n",
       "Polynomial regression  0.049579        0.027335       0.035660              \n",
       "Decision Tree          0.834934        0.494780       0.732640              \n",
       "Linear SVR            -0.059422       -0.044514      -0.071601              \n",
       "SVR with kernel        0.553741        0.455959      -0.047473              \n",
       "\n",
       "                       Test average score  \n",
       "Model name                                 \n",
       "knn                    0.842874            \n",
       "Linear regression      0.017832            \n",
       "Ridge regression       0.021359            \n",
       "Lasso regression       0.020954            \n",
       "SGD regressor          0.015586            \n",
       "Polynomial regression  0.035267            \n",
       "Decision Tree          0.697007            \n",
       "Linear SVR            -0.072173            \n",
       "SVR with kernel       -0.048016            "
      ]
     },
     "execution_count": 357,
     "metadata": {},
     "output_type": "execute_result"
    }
   ],
   "source": [
    "report = pd.DataFrame(report_table,columns = ['Model name', 'Model Best parameter', 'Train r2 score', 'Test r2 score',\n",
    "                                              'Train average score', 'Test average score'])\n",
    "report.index = report['Model name']\n",
    "\n",
    "report\n"
   ]
  },
  {
   "cell_type": "markdown",
   "metadata": {},
   "source": [
    "##### Model report from Project 2"
   ]
  },
  {
   "attachments": {
    "Capture1.PNG": {
     "image/png": "[encoded data removed]"
    }
   },
   "cell_type": "markdown",
   "metadata": {},
   "source": [
    "![Capture1.PNG](attachment:Capture1.PNG)"
   ]
  },
  {
   "cell_type": "markdown",
   "metadata": {},
   "source": [
    "###### Comparing both the tables we find that train and test r2/average scores has not improved for most of the models after applying PCA on data."
   ]
  },
  {
   "cell_type": "markdown",
   "metadata": {},
   "source": [
    "### Neural Network Model"
   ]
  },
  {
   "cell_type": "code",
   "execution_count": 380,
   "metadata": {
    "collapsed": true
   },
   "outputs": [],
   "source": [
    "# create model\n",
    "\n",
    "model = Sequential()\n",
    "model.add(Dense(256, input_dim=77, kernel_initializer='normal', activation='relu'))\n",
    "model.add(Dense(128,kernel_initializer='normal', activation='relu'))\n",
    "model.add(Dense(1, kernel_initializer='normal'))\n",
    "# Compile model\n",
    "model.compile(loss='mse', optimizer='adam' , metrics = ['mse'])\n"
   ]
  },
  {
   "cell_type": "code",
   "execution_count": 384,
   "metadata": {},
   "outputs": [
    {
     "name": "stdout",
     "output_type": "stream",
     "text": [
      "Epoch 1/100\n",
      "40827/40827 [==============================] - 6s 148us/step - loss: 21899.2574 - mean_squared_error: 21899.2574\n",
      "Epoch 2/100\n",
      "40827/40827 [==============================] - 6s 156us/step - loss: 22399.4059 - mean_squared_error: 22399.4059\n",
      "Epoch 3/100\n",
      "40827/40827 [==============================] - 6s 155us/step - loss: 21199.7229 - mean_squared_error: 21199.7229\n",
      "Epoch 4/100\n",
      "40827/40827 [==============================] - 6s 155us/step - loss: 20959.2547 - mean_squared_error: 20959.2547\n",
      "Epoch 5/100\n",
      "40827/40827 [==============================] - 6s 153us/step - loss: 21351.3119 - mean_squared_error: 21351.3119\n",
      "Epoch 6/100\n",
      "40827/40827 [==============================] - 6s 139us/step - loss: 20956.3046 - mean_squared_error: 20956.3046\n",
      "Epoch 7/100\n",
      "40827/40827 [==============================] - 6s 136us/step - loss: 21111.8997 - mean_squared_error: 21111.8997\n",
      "Epoch 8/100\n",
      "40827/40827 [==============================] - 6s 135us/step - loss: 20771.1680 - mean_squared_error: 20771.1680\n",
      "Epoch 9/100\n",
      "40827/40827 [==============================] - 6s 146us/step - loss: 20257.6167 - mean_squared_error: 20257.6167\n",
      "Epoch 10/100\n",
      "40827/40827 [==============================] - 6s 151us/step - loss: 20166.1686 - mean_squared_error: 20166.1686\n",
      "Epoch 11/100\n",
      "40827/40827 [==============================] - 5s 134us/step - loss: 21207.7142 - mean_squared_error: 21207.7142\n",
      "Epoch 12/100\n",
      "40827/40827 [==============================] - 6s 136us/step - loss: 20026.4672 - mean_squared_error: 20026.4672\n",
      "Epoch 13/100\n",
      "40827/40827 [==============================] - 5s 134us/step - loss: 19526.6505 - mean_squared_error: 19526.6505\n",
      "Epoch 14/100\n",
      "40827/40827 [==============================] - 6s 142us/step - loss: 20191.2580 - mean_squared_error: 20191.2580\n",
      "Epoch 15/100\n",
      "40827/40827 [==============================] - 6s 139us/step - loss: 19870.9381 - mean_squared_error: 19870.9381\n",
      "Epoch 16/100\n",
      "40827/40827 [==============================] - 6s 135us/step - loss: 20005.1256 - mean_squared_error: 20005.1256\n",
      "Epoch 17/100\n",
      "40827/40827 [==============================] - 6s 138us/step - loss: 19800.3493 - mean_squared_error: 19800.3493\n",
      "Epoch 18/100\n",
      "40827/40827 [==============================] - 5s 134us/step - loss: 19383.3223 - mean_squared_error: 19383.3223\n",
      "Epoch 19/100\n",
      "40827/40827 [==============================] - 6s 137us/step - loss: 19730.5249 - mean_squared_error: 19730.5249\n",
      "Epoch 20/100\n",
      "40827/40827 [==============================] - 5s 133us/step - loss: 19738.6268 - mean_squared_error: 19738.6268\n",
      "Epoch 21/100\n",
      "40827/40827 [==============================] - 6s 140us/step - loss: 19739.9741 - mean_squared_error: 19739.9741\n",
      "Epoch 22/100\n",
      "40827/40827 [==============================] - 6s 153us/step - loss: 18959.4603 - mean_squared_error: 18959.4603\n",
      "Epoch 23/100\n",
      "40827/40827 [==============================] - 6s 149us/step - loss: 19177.6189 - mean_squared_error: 19177.6189\n",
      "Epoch 24/100\n",
      "40827/40827 [==============================] - 6s 154us/step - loss: 19007.3376 - mean_squared_error: 19007.3376\n",
      "Epoch 25/100\n",
      "40827/40827 [==============================] - 6s 147us/step - loss: 19460.6852 - mean_squared_error: 19460.6852\n",
      "Epoch 26/100\n",
      "40827/40827 [==============================] - 6s 150us/step - loss: 18901.0094 - mean_squared_error: 18901.0094\n",
      "Epoch 27/100\n",
      "40827/40827 [==============================] - 6s 150us/step - loss: 18454.6438 - mean_squared_error: 18454.6438\n",
      "Epoch 28/100\n",
      "40827/40827 [==============================] - 6s 150us/step - loss: 19011.3785 - mean_squared_error: 19011.3785\n",
      "Epoch 29/100\n",
      "40827/40827 [==============================] - 6s 152us/step - loss: 18760.9189 - mean_squared_error: 18760.9189\n",
      "Epoch 30/100\n",
      "40827/40827 [==============================] - 6s 148us/step - loss: 18577.4274 - mean_squared_error: 18577.4274\n",
      "Epoch 31/100\n",
      "40827/40827 [==============================] - 5s 134us/step - loss: 18608.1238 - mean_squared_error: 18608.1238\n",
      "Epoch 32/100\n",
      "40827/40827 [==============================] - 5s 133us/step - loss: 18102.9462 - mean_squared_error: 18102.9462\n",
      "Epoch 33/100\n",
      "40827/40827 [==============================] - 5s 132us/step - loss: 19000.5794 - mean_squared_error: 19000.5794\n",
      "Epoch 34/100\n",
      "40827/40827 [==============================] - 6s 135us/step - loss: 18405.3540 - mean_squared_error: 18405.3540\n",
      "Epoch 35/100\n",
      "40827/40827 [==============================] - 5s 134us/step - loss: 18305.9009 - mean_squared_error: 18305.9009\n",
      "Epoch 36/100\n",
      "40827/40827 [==============================] - 5s 130us/step - loss: 18714.8926 - mean_squared_error: 18714.8926\n",
      "Epoch 37/100\n",
      "40827/40827 [==============================] - 5s 116us/step - loss: 18453.5668 - mean_squared_error: 18453.5668\n",
      "Epoch 38/100\n",
      "40827/40827 [==============================] - 6s 138us/step - loss: 18462.6520 - mean_squared_error: 18462.6520\n",
      "Epoch 39/100\n",
      "40827/40827 [==============================] - 8s 204us/step - loss: 18429.9986 - mean_squared_error: 18429.9986\n",
      "Epoch 40/100\n",
      "40827/40827 [==============================] - 8s 189us/step - loss: 17900.5948 - mean_squared_error: 17900.5948\n",
      "Epoch 41/100\n",
      "40827/40827 [==============================] - 7s 166us/step - loss: 18352.8412 - mean_squared_error: 18352.8412\n",
      "Epoch 42/100\n",
      "40827/40827 [==============================] - 7s 161us/step - loss: 17864.9071 - mean_squared_error: 17864.9071\n",
      "Epoch 43/100\n",
      "40827/40827 [==============================] - 5s 129us/step - loss: 17815.4290 - mean_squared_error: 17815.4290\n",
      "Epoch 44/100\n",
      "40827/40827 [==============================] - 7s 166us/step - loss: 17962.4533 - mean_squared_error: 17962.4533\n",
      "Epoch 45/100\n",
      "40827/40827 [==============================] - 6s 151us/step - loss: 18214.5089 - mean_squared_error: 18214.5089\n",
      "Epoch 46/100\n",
      "40827/40827 [==============================] - 6s 155us/step - loss: 18119.8701 - mean_squared_error: 18119.8701\n",
      "Epoch 47/100\n",
      "40827/40827 [==============================] - 6s 154us/step - loss: 17936.1496 - mean_squared_error: 17936.1496\n",
      "Epoch 48/100\n",
      "40827/40827 [==============================] - 6s 156us/step - loss: 17917.2908 - mean_squared_error: 17917.2908\n",
      "Epoch 49/100\n",
      "40827/40827 [==============================] - 7s 164us/step - loss: 18193.3009 - mean_squared_error: 18193.3009\n",
      "Epoch 50/100\n",
      "40827/40827 [==============================] - 6s 153us/step - loss: 17969.8608 - mean_squared_error: 17969.8608\n",
      "Epoch 51/100\n",
      "40827/40827 [==============================] - 6s 152us/step - loss: 17490.1175 - mean_squared_error: 17490.1175\n",
      "Epoch 52/100\n",
      "40827/40827 [==============================] - 6s 153us/step - loss: 18131.3899 - mean_squared_error: 18131.3899\n",
      "Epoch 53/100\n",
      "40827/40827 [==============================] - 6s 154us/step - loss: 17953.0994 - mean_squared_error: 17953.0994\n",
      "Epoch 54/100\n",
      "40827/40827 [==============================] - 6s 151us/step - loss: 17858.5014 - mean_squared_error: 17858.5014\n",
      "Epoch 55/100\n",
      "40827/40827 [==============================] - 6s 155us/step - loss: 17810.4681 - mean_squared_error: 17810.4681\n",
      "Epoch 56/100\n",
      "40827/40827 [==============================] - 6s 152us/step - loss: 17913.5574 - mean_squared_error: 17913.5574\n",
      "Epoch 57/100\n",
      "40827/40827 [==============================] - 6s 157us/step - loss: 17428.3428 - mean_squared_error: 17428.3428\n",
      "Epoch 58/100\n",
      "40827/40827 [==============================] - 6s 155us/step - loss: 17482.8535 - mean_squared_error: 17482.8535\n",
      "Epoch 59/100\n",
      "40827/40827 [==============================] - 6s 155us/step - loss: 17493.6933 - mean_squared_error: 17493.6933\n",
      "Epoch 60/100\n",
      "40827/40827 [==============================] - 7s 160us/step - loss: 18037.0269 - mean_squared_error: 18037.0269\n",
      "Epoch 61/100\n",
      "40827/40827 [==============================] - 6s 158us/step - loss: 17635.2159 - mean_squared_error: 17635.2159\n",
      "Epoch 62/100\n",
      "40827/40827 [==============================] - 6s 157us/step - loss: 17440.0985 - mean_squared_error: 17440.0985\n",
      "Epoch 63/100\n",
      "40827/40827 [==============================] - 6s 155us/step - loss: 17497.1891 - mean_squared_error: 17497.1891\n",
      "Epoch 64/100\n",
      "40827/40827 [==============================] - 6s 155us/step - loss: 17613.9569 - mean_squared_error: 17613.9569\n",
      "Epoch 65/100\n",
      "40827/40827 [==============================] - 6s 159us/step - loss: 17597.0564 - mean_squared_error: 17597.0564\n",
      "Epoch 66/100\n"
     ]
    },
    {
     "name": "stdout",
     "output_type": "stream",
     "text": [
      "40827/40827 [==============================] - 6s 155us/step - loss: 17541.7895 - mean_squared_error: 17541.7895\n",
      "Epoch 67/100\n",
      "40827/40827 [==============================] - 6s 158us/step - loss: 17400.2323 - mean_squared_error: 17400.2323\n",
      "Epoch 68/100\n",
      "40827/40827 [==============================] - 7s 160us/step - loss: 16941.8110 - mean_squared_error: 16941.8110\n",
      "Epoch 69/100\n",
      "40827/40827 [==============================] - 6s 156us/step - loss: 17433.9292 - mean_squared_error: 17433.9292\n",
      "Epoch 70/100\n",
      "40827/40827 [==============================] - 5s 135us/step - loss: 17039.1593 - mean_squared_error: 17039.1593\n",
      "Epoch 71/100\n",
      "40827/40827 [==============================] - 5s 132us/step - loss: 17596.2337 - mean_squared_error: 17596.2337\n",
      "Epoch 72/100\n",
      "40827/40827 [==============================] - 6s 143us/step - loss: 16847.0664 - mean_squared_error: 16847.0664\n",
      "Epoch 73/100\n",
      "40827/40827 [==============================] - 6s 152us/step - loss: 17219.8754 - mean_squared_error: 17219.8754\n",
      "Epoch 74/100\n",
      "40827/40827 [==============================] - 6s 156us/step - loss: 17242.2472 - mean_squared_error: 17242.2472\n",
      "Epoch 75/100\n",
      "40827/40827 [==============================] - 6s 155us/step - loss: 17276.1858 - mean_squared_error: 17276.1858\n",
      "Epoch 76/100\n",
      "40827/40827 [==============================] - 6s 158us/step - loss: 16900.4978 - mean_squared_error: 16900.4978\n",
      "Epoch 77/100\n",
      "40827/40827 [==============================] - 6s 156us/step - loss: 16766.4210 - mean_squared_error: 16766.4210\n",
      "Epoch 78/100\n",
      "40827/40827 [==============================] - 7s 165us/step - loss: 17069.8633 - mean_squared_error: 17069.8633\n",
      "Epoch 79/100\n",
      "40827/40827 [==============================] - 6s 155us/step - loss: 17268.4932 - mean_squared_error: 17268.4932\n",
      "Epoch 80/100\n",
      "40827/40827 [==============================] - 6s 156us/step - loss: 16663.4197 - mean_squared_error: 16663.4197\n",
      "Epoch 81/100\n",
      "40827/40827 [==============================] - 6s 158us/step - loss: 17036.4073 - mean_squared_error: 17036.4073\n",
      "Epoch 82/100\n",
      "40827/40827 [==============================] - 6s 155us/step - loss: 16630.4146 - mean_squared_error: 16630.4146\n",
      "Epoch 83/100\n",
      "40827/40827 [==============================] - 7s 161us/step - loss: 16465.5661 - mean_squared_error: 16465.5661\n",
      "Epoch 84/100\n",
      "40827/40827 [==============================] - 6s 156us/step - loss: 17107.0209 - mean_squared_error: 17107.0209\n",
      "Epoch 85/100\n",
      "40827/40827 [==============================] - 6s 156us/step - loss: 16978.3533 - mean_squared_error: 16978.3533\n",
      "Epoch 86/100\n",
      "40827/40827 [==============================] - 6s 152us/step - loss: 16769.1901 - mean_squared_error: 16769.1901\n",
      "Epoch 87/100\n",
      "40827/40827 [==============================] - 6s 151us/step - loss: 16810.0143 - mean_squared_error: 16810.0143\n",
      "Epoch 88/100\n",
      "40827/40827 [==============================] - 6s 155us/step - loss: 16873.6958 - mean_squared_error: 16873.6958\n",
      "Epoch 89/100\n",
      "40827/40827 [==============================] - 6s 155us/step - loss: 16427.9438 - mean_squared_error: 16427.9438\n",
      "Epoch 90/100\n",
      "40827/40827 [==============================] - 6s 156us/step - loss: 16878.1029 - mean_squared_error: 16878.1029\n",
      "Epoch 91/100\n",
      "40827/40827 [==============================] - 6s 155us/step - loss: 16412.4603 - mean_squared_error: 16412.4603\n",
      "Epoch 92/100\n",
      "40827/40827 [==============================] - 6s 156us/step - loss: 16576.3134 - mean_squared_error: 16576.3134\n",
      "Epoch 93/100\n",
      "40827/40827 [==============================] - 6s 155us/step - loss: 16567.3011 - mean_squared_error: 16567.3011\n",
      "Epoch 94/100\n",
      "40827/40827 [==============================] - 6s 156us/step - loss: 16275.9027 - mean_squared_error: 16275.9027\n",
      "Epoch 95/100\n",
      "40827/40827 [==============================] - 6s 156us/step - loss: 16582.6249 - mean_squared_error: 16582.6249\n",
      "Epoch 96/100\n",
      "40827/40827 [==============================] - 7s 165us/step - loss: 16566.8474 - mean_squared_error: 16566.8474\n",
      "Epoch 97/100\n",
      "40827/40827 [==============================] - 7s 163us/step - loss: 16504.5429 - mean_squared_error: 16504.5429\n",
      "Epoch 98/100\n",
      "40827/40827 [==============================] - 6s 156us/step - loss: 16451.8371 - mean_squared_error: 16451.8371\n",
      "Epoch 99/100\n",
      "40827/40827 [==============================] - 6s 156us/step - loss: 16372.4554 - mean_squared_error: 16372.4554\n",
      "Epoch 100/100\n",
      "40827/40827 [==============================] - 6s 156us/step - loss: 16045.6389 - mean_squared_error: 16045.6389\n"
     ]
    }
   ],
   "source": [
    "model_fit=model.fit(twitter_data_x_scaled_train, twitter_y_train, epochs = 100, batch_size = 20,\n",
    "          verbose=1)\n"
   ]
  },
  {
   "cell_type": "code",
   "execution_count": 385,
   "metadata": {},
   "outputs": [
    {
     "name": "stdout",
     "output_type": "stream",
     "text": [
      "17498/17498 [==============================] - 1s 51us/step\n"
     ]
    },
    {
     "data": {
      "text/plain": [
       "[20364.61581239865, 20364.61581239865]"
      ]
     },
     "execution_count": 385,
     "metadata": {},
     "output_type": "execute_result"
    }
   ],
   "source": [
    "model.evaluate(twitter_data_x_scaled_test, twitter_y_test)"
   ]
  },
  {
   "cell_type": "code",
   "execution_count": 389,
   "metadata": {
    "collapsed": true
   },
   "outputs": [],
   "source": [
    "y_train_predict = model.predict(twitter_data_x_scaled_train)\n",
    "y_test_predict = model.predict(twitter_data_x_scaled_test)"
   ]
  },
  {
   "cell_type": "code",
   "execution_count": 390,
   "metadata": {},
   "outputs": [
    {
     "name": "stdout",
     "output_type": "stream",
     "text": [
      "Train score: 0.95\n",
      "Test score: 0.95\n"
     ]
    }
   ],
   "source": [
    "print('Train score: {:.2f}'.format(r2_score(twitter_y_train, y_train_predict)))\n",
    "print('Test score: {:.2f}'.format(r2_score(twitter_y_test, y_test_predict)))"
   ]
  },
  {
   "cell_type": "code",
   "execution_count": 404,
   "metadata": {},
   "outputs": [
    {
     "name": "stdout",
     "output_type": "stream",
     "text": [
      "_________________________________________________________________\n",
      "Layer (type)                 Output Shape              Param #   \n",
      "=================================================================\n",
      "dense_58 (Dense)             (None, 256)               19968     \n",
      "_________________________________________________________________\n",
      "dense_59 (Dense)             (None, 128)               32896     \n",
      "_________________________________________________________________\n",
      "dense_60 (Dense)             (None, 1)                 129       \n",
      "=================================================================\n",
      "Total params: 52,993\n",
      "Trainable params: 52,993\n",
      "Non-trainable params: 0\n",
      "_________________________________________________________________\n"
     ]
    }
   ],
   "source": [
    "model.summary()"
   ]
  },
  {
   "cell_type": "code",
   "execution_count": 405,
   "metadata": {},
   "outputs": [
    {
     "data": {
      "text/plain": [
       "[{'class_name': 'Dense',\n",
       "  'config': {'activation': 'relu',\n",
       "   'activity_regularizer': None,\n",
       "   'batch_input_shape': (None, 77),\n",
       "   'bias_constraint': None,\n",
       "   'bias_initializer': {'class_name': 'Zeros', 'config': {}},\n",
       "   'bias_regularizer': None,\n",
       "   'dtype': 'float32',\n",
       "   'kernel_constraint': None,\n",
       "   'kernel_initializer': {'class_name': 'RandomNormal',\n",
       "    'config': {'mean': 0.0, 'seed': None, 'stddev': 0.05}},\n",
       "   'kernel_regularizer': None,\n",
       "   'name': 'dense_58',\n",
       "   'trainable': True,\n",
       "   'units': 256,\n",
       "   'use_bias': True}},\n",
       " {'class_name': 'Dense',\n",
       "  'config': {'activation': 'relu',\n",
       "   'activity_regularizer': None,\n",
       "   'bias_constraint': None,\n",
       "   'bias_initializer': {'class_name': 'Zeros', 'config': {}},\n",
       "   'bias_regularizer': None,\n",
       "   'kernel_constraint': None,\n",
       "   'kernel_initializer': {'class_name': 'RandomNormal',\n",
       "    'config': {'mean': 0.0, 'seed': None, 'stddev': 0.05}},\n",
       "   'kernel_regularizer': None,\n",
       "   'name': 'dense_59',\n",
       "   'trainable': True,\n",
       "   'units': 128,\n",
       "   'use_bias': True}},\n",
       " {'class_name': 'Dense',\n",
       "  'config': {'activation': 'linear',\n",
       "   'activity_regularizer': None,\n",
       "   'bias_constraint': None,\n",
       "   'bias_initializer': {'class_name': 'Zeros', 'config': {}},\n",
       "   'bias_regularizer': None,\n",
       "   'kernel_constraint': None,\n",
       "   'kernel_initializer': {'class_name': 'RandomNormal',\n",
       "    'config': {'mean': 0.0, 'seed': None, 'stddev': 0.05}},\n",
       "   'kernel_regularizer': None,\n",
       "   'name': 'dense_60',\n",
       "   'trainable': True,\n",
       "   'units': 1,\n",
       "   'use_bias': True}}]"
      ]
     },
     "execution_count": 405,
     "metadata": {},
     "output_type": "execute_result"
    }
   ],
   "source": [
    "model.get_config()"
   ]
  },
  {
   "cell_type": "markdown",
   "metadata": {},
   "source": [
    "#### Neural network with gridsearchcv"
   ]
  },
  {
   "cell_type": "code",
   "execution_count": 412,
   "metadata": {
    "collapsed": true
   },
   "outputs": [],
   "source": [
    "def ann_model():\n",
    "    model = Sequential()\n",
    "    model.add(Dense(256, input_dim=77, kernel_initializer='normal', activation='relu'))\n",
    "    model.add(Dense(128,kernel_initializer='normal', activation='relu'))\n",
    "    model.add(Dense(1, kernel_initializer='normal'))\n",
    "    # Compile model\n",
    "    model.compile(loss='mse', optimizer='adam' , metrics = ['mse'])\n",
    "    return model"
   ]
  },
  {
   "cell_type": "code",
   "execution_count": 413,
   "metadata": {
    "collapsed": true
   },
   "outputs": [],
   "source": [
    "from keras.wrappers.scikit_learn import KerasRegressor\n",
    "model = KerasRegressor(build_fn = ann_model, verbose = 0)\n",
    "\n",
    "param_grid = {'batch_size':[50,100,150] , 'epochs':[10, 50, 100]}\n",
    "grid_search = GridSearchCV(estimator= model, param_grid = param_grid, cv = 5)"
   ]
  },
  {
   "cell_type": "code",
   "execution_count": 414,
   "metadata": {
    "collapsed": true
   },
   "outputs": [],
   "source": [
    "grid_search_result = grid_search.fit(twitter_data_x_scaled_train, twitter_y_train)\n"
   ]
  },
  {
   "cell_type": "code",
   "execution_count": 415,
   "metadata": {},
   "outputs": [
    {
     "data": {
      "text/plain": [
       "{'batch_size': 100, 'epochs': 50}"
      ]
     },
     "execution_count": 415,
     "metadata": {},
     "output_type": "execute_result"
    }
   ],
   "source": [
    "grid_search.best_params_"
   ]
  }
 ],
 "metadata": {
  "kernelspec": {
   "display_name": "Python 3",
   "language": "python",
   "name": "python3"
  },
  "language_info": {
   "codemirror_mode": {
    "name": "ipython",
    "version": 3
   },
   "file_extension": ".py",
   "mimetype": "text/x-python",
   "name": "python",
   "nbconvert_exporter": "python",
   "pygments_lexer": "ipython3",
   "version": "3.6.3"
  }
 },
 "nbformat": 4,
 "nbformat_minor": 2
}
